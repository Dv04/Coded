{
  "cells": [
    {
      "cell_type": "markdown",
      "metadata": {},
      "source": [
        "# ELEC/COMP 576 – Task 2 Notebook\n",
        "**MATLAB ↔ NumPy equivalents**\n"
      ]
    },
    {
      "cell_type": "code",
      "execution_count": 1,
      "metadata": {},
      "outputs": [],
      "source": [
        "import numpy as np\n",
        "from numpy.random import default_rng\n",
        "from scipy import linalg as la\n",
        "from scipy import signal\n",
        "from scipy.sparse import csc_matrix, diags\n",
        "from scipy.sparse.linalg import eigs, cg\n",
        "\n",
        "# ============================================================\n",
        "# ELEC/COMP 576 – Task 2: MATLAB ↔ NumPy equivalents (ALL ITEMS)\n",
        "# Polished formatting: clear headers, aligned labels, compact shapes.\n",
        "# Paste outputs directly into your report.\n",
        "# ============================================================\n",
        "\n"
      ]
    },
    {
      "cell_type": "code",
      "execution_count": 2,
      "id": "2e3459fa",
      "metadata": {},
      "outputs": [],
      "source": [
        "# ---- Pretty printing helpers -------------------------------------------------\n",
        "np.set_printoptions(\n",
        "    precision=4, suppress=True, linewidth=120, edgeitems=2, threshold=60\n",
        ")\n",
        "\n",
        "LINE = 80\n",
        "\n",
        "\n",
        "def hdr(title: str) -> None:\n",
        "    line = \"=\" * LINE\n",
        "    print(f\"\\n{line}\\n{title}\\n{line}\")\n",
        "\n",
        "\n",
        "def sub(title: str) -> None:\n",
        "    print(f\"\\n{title}\\n\" + \"-\" * len(title))\n",
        "\n",
        "\n",
        "def kv(label: str, value, show_shape: bool = False) -> None:\n",
        "    shape_str = \"\"\n",
        "    if show_shape and hasattr(value, \"shape\"):\n",
        "        shape_str = f\"  (shape={tuple(value.shape)})\"\n",
        "    print(f\"{label:<38} {value}{shape_str}\")\n",
        "\n",
        "\n",
        "def arr(label: str, value, show_shape: bool = True) -> None:\n",
        "    shape_str = (\n",
        "        f\" (shape={tuple(value.shape)})\"\n",
        "        if show_shape and hasattr(value, \"shape\")\n",
        "        else \"\"\n",
        "    )\n",
        "    print(f\"{label}:{shape_str}\\n{value}\")\n",
        "\n",
        "\n"
      ]
    },
    {
      "cell_type": "code",
      "execution_count": 3,
      "id": "878b9507",
      "metadata": {},
      "outputs": [
        {
          "name": "stdout",
          "output_type": "stream",
          "text": [
            "\n",
            "================================================================================\n",
            "Baseline arrays\n",
            "================================================================================\n",
            "Array A:                               [[  1.   2. ...  11.  12.]\n",
            " [ 13.  14. ...  23.  24.]\n",
            " ...\n",
            " [277. 278. ... 287. 288.]\n",
            " [289. 290. ... 299. 300.]]\n",
            "Array v:                               [0.     0.0909 0.1818 0.2727 0.3636 0.4545 0.5455 0.6364 0.7273 0.8182 0.9091 1.    ]\n",
            "A.shape                                (25, 12)\n",
            "v.shape / v_col.shape                  (12,) / (12, 1)\n"
          ]
        }
      ],
      "source": [
        "# ---- Baseline arrays ---------------------------------------------------------\n",
        "hdr(\"Baseline arrays\")\n",
        "A = np.arange(1, 25 * 12 + 1).reshape(25, 12).astype(float)  # 25x12\n",
        "v = np.linspace(0, 1, A.shape[1])  # length-12 mask for columns\n",
        "v_col = v[:, None]  # (12,1)\n",
        "kv(\"Array A: \", A)\n",
        "kv(\"Array v: \", v)\n",
        "kv(\"A.shape\", A.shape)\n",
        "kv(\"v.shape / v_col.shape\", f\"{v.shape} / {v_col.shape}\")\n",
        "\n"
      ]
    },
    {
      "cell_type": "code",
      "execution_count": 4,
      "id": "2434aeca",
      "metadata": {},
      "outputs": [
        {
          "name": "stdout",
          "output_type": "stream",
          "text": [
            "\n",
            "================================================================================\n",
            "Dimensions & sizes\n",
            "================================================================================\n",
            "ndims(A) = np.ndim(A) = A.ndim         2 = 2\n",
            "numel(A) = np.size(A) = A.size         300 = 300\n",
            "size(A) = np.shape(A) = A.shape        (25, 12) = (25, 12)\n",
            "size(A,1) → A.shape[0]                 25\n",
            "size(A,2) → A.shape[1]                 12\n"
          ]
        }
      ],
      "source": [
        "# ---- Dimensions & sizes ------------------------------------------------------\n",
        "hdr(\"Dimensions & sizes\")\n",
        "kv(\"ndims(A) = np.ndim(A) = A.ndim\", f\"{np.ndim(A)} = {A.ndim}\")\n",
        "kv(\"numel(A) = np.size(A) = A.size\", f\"{np.size(A)} = {A.size}\")\n",
        "kv(\"size(A) = np.shape(A) = A.shape\", f\"{np.shape(A)} = {A.shape}\")\n",
        "kv(\"size(A,1) → A.shape[0]\", A.shape[0])\n",
        "kv(\"size(A,2) → A.shape[1]\", A.shape[1])\n",
        "\n"
      ]
    },
    {
      "cell_type": "code",
      "execution_count": 5,
      "id": "812f0aea",
      "metadata": {},
      "outputs": [
        {
          "name": "stdout",
          "output_type": "stream",
          "text": [
            "\n",
            "================================================================================\n",
            "Array construction & blocks\n",
            "================================================================================\n",
            "[1 2 3; 4 5 6]: (shape=(2, 3))\n",
            "[[1. 2. 3.]\n",
            " [4. 5. 6.]]\n",
            "np.block([[a,b],[c,d]])                constructed\n",
            "blk.shape                              (4, 4)\n"
          ]
        }
      ],
      "source": [
        "# ---- Array construction & blocks --------------------------------------------\n",
        "hdr(\"Array construction & blocks\")\n",
        "arr(\"[1 2 3; 4 5 6]\", np.array([[1.0, 2.0, 3.0], [4.0, 5.0, 6.0]]))\n",
        "a = np.array([[1, 0], [0, 1]], float)\n",
        "b = np.array([[2, 2], [2, 2]], float)\n",
        "c = 3 * np.ones((2, 2))\n",
        "d = np.eye(2) * 4\n",
        "blk = np.block([[a, b], [c, d]])\n",
        "kv(\"np.block([[a,b],[c,d]])\", \"constructed\", show_shape=False)\n",
        "kv(\"blk.shape\", blk.shape)\n",
        "\n"
      ]
    },
    {
      "cell_type": "code",
      "execution_count": 6,
      "id": "8665e4ca",
      "metadata": {},
      "outputs": [
        {
          "name": "stdout",
          "output_type": "stream",
          "text": [
            "\n",
            "================================================================================\n",
            "Indexing & slicing\n",
            "================================================================================\n",
            "a(end) → vec[-1]                       9\n",
            "a(2,5) → A[1,4]                        17.0\n",
            "a(2,:) → A[1,:]                        [13. 14. 15. 16. 17. 18. 19. 20. 21. 22. 23. 24.]\n",
            "a(1:5,:) → A[:5,:]                     [[ 1.  2.  3.  4.  5.  6.  7.  8.  9. 10. 11. 12.]\n",
            " [13. 14. 15. 16. 17. 18. 19. 20. 21. 22. 23. 24.]\n",
            " [25. 26. 27. 28. 29. 30. 31. 32. 33. 34. 35. 36.]\n",
            " [37. 38. 39. 40. 41. 42. 43. 44. 45. 46. 47. 48.]\n",
            " [49. 50. 51. 52. 53. 54. 55. 56. 57. 58. 59. 60.]]\n",
            "a(end-4:end,:) → A[-5:,:]              [[241. 242. 243. 244. 245. 246. 247. 248. 249. 250. 251. 252.]\n",
            " [253. 254. 255. 256. 257. 258. 259. 260. 261. 262. 263. 264.]\n",
            " [265. 266. 267. 268. 269. 270. 271. 272. 273. 274. 275. 276.]\n",
            " [277. 278. 279. 280. 281. 282. 283. 284. 285. 286. 287. 288.]\n",
            " [289. 290. 291. 292. 293. 294. 295. 296. 297. 298. 299. 300.]]\n",
            "a(1:3,5:9) → A[0:3,4:9]                [[ 5.  6.  7.  8.  9.]\n",
            " [17. 18. 19. 20. 21.]\n",
            " [29. 30. 31. 32. 33.]]\n",
            "a([2,4,5],[1,3]) via ix_               [[13. 15.]\n",
            " [37. 39.]\n",
            " [49. 51.]]\n",
            "a(3:2:21,:) → A[2:21:2,:]              [[ 25.  26. ...  35.  36.]\n",
            " [ 49.  50. ...  59.  60.]\n",
            " ...\n",
            " [217. 218. ... 227. 228.]\n",
            " [241. 242. ... 251. 252.]]\n",
            "a(1:2:end,:) → A[::2,:]                [[  1.   2. ...  11.  12.]\n",
            " [ 25.  26. ...  35.  36.]\n",
            " ...\n",
            " [265. 266. ... 275. 276.]\n",
            " [289. 290. ... 299. 300.]]\n",
            "flipud(a) → A[::-1,:]                  [[289. 290. ... 299. 300.]\n",
            " [277. 278. ... 287. 288.]\n",
            " ...\n",
            " [ 13.  14. ...  23.  24.]\n",
            " [  1.   2. ...  11.  12.]]\n",
            "a([1:end 1],:) → A[np.r_[0:len(A),0],:] [[  1.   2. ...  11.  12.]\n",
            " [ 13.  14. ...  23.  24.]\n",
            " ...\n",
            " [289. 290. ... 299. 300.]\n",
            " [  1.   2. ...  11.  12.]]\n"
          ]
        }
      ],
      "source": [
        "# ---- Indexing & slicing ------------------------------------------------------\n",
        "hdr(\"Indexing & slicing\")\n",
        "vec = np.arange(10)\n",
        "kv(\"a(end) → vec[-1]\", vec[-1])\n",
        "kv(\"a(2,5) → A[1,4]\", A[1, 4])\n",
        "kv(\"a(2,:) → A[1,:]\", A[1, :])\n",
        "kv(\"a(1:5,:) → A[:5,:]\", A[:5, :])\n",
        "kv(\"a(end-4:end,:) → A[-5:,:]\", A[-5:, :])\n",
        "kv(\"a(1:3,5:9) → A[0:3,4:9]\", A[0:3, 4:9])\n",
        "kv(\"a([2,4,5],[1,3]) via ix_\", A[np.ix_([1, 3, 4], [0, 2])])\n",
        "kv(\"a(3:2:21,:) → A[2:21:2,:]\", A[2:21:2, :])\n",
        "kv(\"a(1:2:end,:) → A[::2,:]\", A[::2, :])\n",
        "kv(\"flipud(a) → A[::-1,:]\", A[::-1, :])\n",
        "kv(\n",
        "    \"a([1:end 1],:) → A[np.r_[0:len(A),0],:]\",\n",
        "    A[np.r_[0 : len(A), 0], :]\n",
        "    \n",
        ")\n",
        "\n"
      ]
    },
    {
      "cell_type": "code",
      "execution_count": 7,
      "id": "0d8dc758",
      "metadata": {},
      "outputs": [
        {
          "name": "stdout",
          "output_type": "stream",
          "text": [
            "\n",
            "================================================================================\n",
            "Transpose / Conjugate transpose\n",
            "================================================================================\n",
            "A.' → A.T shape                        (12, 25)\n",
            "A'  → A.conj().T equals C.T.conj()?    True\n"
          ]
        }
      ],
      "source": [
        "# ---- Transpose / Conjugate transpose ----------------------------------------\n",
        "hdr(\"Transpose / Conjugate transpose\")\n",
        "C = A[:3, :3] + 1j * A[:3, :3]\n",
        "kv(\"A.' → A.T shape\", A.T.shape)\n",
        "kv(\"A'  → A.conj().T equals C.T.conj()?\", np.allclose(C.conj().T, C.T.conj()))\n",
        "\n"
      ]
    },
    {
      "cell_type": "code",
      "execution_count": 8,
      "id": "19a1ee67",
      "metadata": {},
      "outputs": [
        {
          "name": "stdout",
          "output_type": "stream",
          "text": [
            "\n",
            "================================================================================\n",
            "Arithmetic (matrix vs elementwise)\n",
            "================================================================================\n",
            "Matrix multiply a*b → X @ Y shape      (2, 2)\n",
            "Element-wise multiply a.*b → X*X: (shape=(2, 3))\n",
            "[[ 1.  4.  9.]\n",
            " [16. 25. 36.]]\n",
            "Element-wise divide a./b → X/X: (shape=(2, 3))\n",
            "[[1. 1. 1.]\n",
            " [1. 1. 1.]]\n",
            "Element-wise power a.^3 → (X**3)[0,0]  1.0\n"
          ]
        }
      ],
      "source": [
        "# ---- Arithmetic: matrix vs elementwise; divide; power -----------------------\n",
        "hdr(\"Arithmetic (matrix vs elementwise)\")\n",
        "X = np.arange(1, 7).reshape(2, 3).astype(float)\n",
        "Y = np.arange(1, 7).reshape(3, 2).astype(float)\n",
        "kv(\"Matrix multiply a*b → X @ Y shape\", (X @ Y).shape)\n",
        "arr(\"Element-wise multiply a.*b → X*X\", X * X)\n",
        "arr(\"Element-wise divide a./b → X/X\", X / X)\n",
        "kv(\"Element-wise power a.^3 → (X**3)[0,0]\", (X**3)[0, 0])\n",
        "\n"
      ]
    },
    {
      "cell_type": "code",
      "execution_count": 9,
      "id": "dbf93d3c",
      "metadata": {},
      "outputs": [
        {
          "name": "stdout",
          "output_type": "stream",
          "text": [
            "\n",
            "================================================================================\n",
            "Logical / find / masking\n",
            "================================================================================\n",
            "(A>0.5) dtype & count                  bool, 300\n",
            "find(A>0.5) → first 5 (r,c)            [(0, 0), (0, 1), (0, 2), (0, 3), (0, 4)]\n",
            "a(:,find(v>0.5)) → A[:, v>0.5] shape   (25, 6)\n",
            "a(:,find(v>0.5)) with v as (N,1)       (25, 6)\n",
            "a(a<0.5)=0 → min(A_copy)               1.0\n",
            "a.*(a>0.5) sum                         45150.0\n"
          ]
        }
      ],
      "source": [
        "# ---- Logical / find / masking ----------------------------------------------\n",
        "hdr(\"Logical / find / masking\")\n",
        "mask = A > 0.5\n",
        "idxs = np.nonzero(mask)\n",
        "kv(\"(A>0.5) dtype & count\", f\"{mask.dtype}, {len(idxs[0])}\")\n",
        "kv(\"find(A>0.5) → first 5 (r,c)\", list(zip(idxs[0][:5], idxs[1][:5])))\n",
        "kv(\"a(:,find(v>0.5)) → A[:, v>0.5] shape\", A[:, v > 0.5].shape)\n",
        "kv(\"a(:,find(v>0.5)) with v as (N,1)\", A[:, v_col.ravel() > 0.5].shape)\n",
        "A_copy = A.copy()\n",
        "A_copy[A_copy < 0.5] = 0\n",
        "kv(\"a(a<0.5)=0 → min(A_copy)\", A_copy.min())\n",
        "kv(\"a.*(a>0.5) sum\", (A * (A > 0.5)).sum())\n",
        "\n"
      ]
    },
    {
      "cell_type": "code",
      "execution_count": 10,
      "id": "952c6dcf",
      "metadata": {},
      "outputs": [
        {
          "name": "stdout",
          "output_type": "stream",
          "text": [
            "\n",
            "================================================================================\n",
            "Assignment / copies / flatten\n",
            "================================================================================\n",
            "a(:)=3 → unique(B)                     [3.]\n",
            "y=x (reference) shares memory?         True\n",
            "y=x.copy() shares memory?              False\n",
            "y=x(2,:) equal? & is view?             True, True\n",
            "y=x(:) → flatten shapes                (300,) & (300,)\n"
          ]
        }
      ],
      "source": [
        "# ---- Assignment / copies / flatten ------------------------------------------\n",
        "hdr(\"Assignment / copies / flatten\")\n",
        "B = A.copy()\n",
        "B[:] = 3\n",
        "kv(\"a(:)=3 → unique(B)\", np.unique(B))\n",
        "Yref = A\n",
        "Ycpy = A.copy()\n",
        "kv(\"y=x (reference) shares memory?\", Yref is A)\n",
        "kv(\"y=x.copy() shares memory?\", Ycpy is A)\n",
        "row2_view = A[1, :]\n",
        "row2_copy = A[1, :].copy()\n",
        "kv(\n",
        "    \"y=x(2,:) equal? & is view?\",\n",
        "    f\"{np.allclose(row2_view, row2_copy)}, {row2_view.base is A}\",\n",
        ")\n",
        "flat = A.flatten()\n",
        "flat_F = A.flatten(\"F\")\n",
        "kv(\"y=x(:) → flatten shapes\", f\"{flat.shape} & {flat_F.shape}\")\n",
        "\n"
      ]
    },
    {
      "cell_type": "code",
      "execution_count": 11,
      "id": "c828e31c",
      "metadata": {},
      "outputs": [
        {
          "name": "stdout",
          "output_type": "stream",
          "text": [
            "\n",
            "================================================================================\n",
            "Ranges / vectors\n",
            "================================================================================\n",
            "1:10 → np.arange(1.,11.): (shape=(10,))\n",
            "[ 1.  2.  3.  4.  5.  6.  7.  8.  9. 10.]\n",
            "0:9  → np.arange(10.): (shape=(10,))\n",
            "[0. 1. 2. 3. 4. 5. 6. 7. 8. 9.]\n",
            "[1:10]' shape                          (10, 1)\n"
          ]
        }
      ],
      "source": [
        "# ---- Ranges / vectors --------------------------------------------------------\n",
        "hdr(\"Ranges / vectors\")\n",
        "arr(\"1:10 → np.arange(1.,11.)\", np.arange(1.0, 11.0))\n",
        "arr(\"0:9  → np.arange(10.)\", np.arange(10.0))\n",
        "kv(\"[1:10]' shape\", np.arange(1.0, 11.0)[:, None].shape)\n",
        "\n"
      ]
    },
    {
      "cell_type": "code",
      "execution_count": 12,
      "id": "c96fc061",
      "metadata": {},
      "outputs": [
        {
          "name": "stdout",
          "output_type": "stream",
          "text": [
            "\n",
            "================================================================================\n",
            "Zeros / Ones / Eye / Diag\n",
            "================================================================================\n",
            "zeros(3,4) shape                       (3, 4)\n",
            "zeros(3,4,5) shape                     (3, 4, 5)\n",
            "ones(3,4) shape                        (3, 4)\n",
            "eye(3): (shape=(3, 3))\n",
            "[[1. 0. 0.]\n",
            " [0. 1. 0.]\n",
            " [0. 0. 1.]]\n",
            "diag(A[:3,:3])                         [ 1. 14. 27.]\n",
            "diag(v,0): (shape=(3, 3))\n",
            "[[9 0 0]\n",
            " [0 8 0]\n",
            " [0 0 7]]\n"
          ]
        }
      ],
      "source": [
        "# ---- Zeros / Ones / Eye / Diag ----------------------------------------------\n",
        "hdr(\"Zeros / Ones / Eye / Diag\")\n",
        "kv(\"zeros(3,4) shape\", np.zeros((3, 4)).shape)\n",
        "kv(\"zeros(3,4,5) shape\", np.zeros((3, 4, 5)).shape)\n",
        "kv(\"ones(3,4) shape\", np.ones((3, 4)).shape)\n",
        "arr(\"eye(3)\", np.eye(3))\n",
        "kv(\"diag(A[:3,:3])\", np.diag(A[:3, :3]))\n",
        "dv = np.array([9, 8, 7])\n",
        "arr(\"diag(v,0)\", np.diag(dv, 0))\n",
        "\n"
      ]
    },
    {
      "cell_type": "code",
      "execution_count": 13,
      "id": "6189209e",
      "metadata": {},
      "outputs": [
        {
          "name": "stdout",
          "output_type": "stream",
          "text": [
            "\n",
            "================================================================================\n",
            "Random (Generator + legacy)\n",
            "================================================================================\n",
            "default_rng(42).random((3,4)): (shape=(3, 4))\n",
            "[[0.774  0.4389 0.8586 0.6974]\n",
            " [0.0942 0.9756 0.7611 0.7861]\n",
            " [0.1281 0.4504 0.3708 0.9268]]\n",
            "np.random.rand(3,4) (legacy): (shape=(3, 4))\n",
            "[[0.5596 0.3097 0.9587 0.5298]\n",
            " [0.9351 0.909  0.3194 0.1792]\n",
            " [0.2791 0.0618 0.6154 0.1957]]\n"
          ]
        }
      ],
      "source": [
        "# ---- Random (Generator + legacy rand) ---------------------------------------\n",
        "hdr(\"Random (Generator + legacy)\")\n",
        "rng = default_rng(42)\n",
        "arr(\"default_rng(42).random((3,4))\", rng.random((3, 4)))\n",
        "arr(\"np.random.rand(3,4) (legacy)\", np.random.rand(3, 4))\n",
        "\n"
      ]
    },
    {
      "cell_type": "code",
      "execution_count": 14,
      "id": "49fee032",
      "metadata": {},
      "outputs": [
        {
          "name": "stdout",
          "output_type": "stream",
          "text": [
            "\n",
            "================================================================================\n",
            "Grids: linspace / meshgrid / mgrid / ogrid / ix_\n",
            "================================================================================\n",
            "linspace(1,3,4): (shape=(4,))\n",
            "[1.     1.6667 2.3333 3.    ]\n",
            "meshgrid shapes                        (6, 9) & (6, 9)\n",
            "mgrid shapes                           (9, 6) & (9, 6)\n",
            "ogrid shapes                           (9, 1) & (1, 6)\n",
            "ix_ shapes                             (9, 1) & (1, 6)\n",
            "f(X,Y)=X+Y via ix_ sample (corners): (shape=(2,))\n",
            "[ 0 13]\n"
          ]
        }
      ],
      "source": [
        "# ---- Grids: linspace / meshgrid / mgrid / ogrid / ix_ -----------------------\n",
        "hdr(\"Grids: linspace / meshgrid / mgrid / ogrid / ix_\")\n",
        "arr(\"linspace(1,3,4)\", np.linspace(1, 3, 4))\n",
        "x_m, y_m = np.meshgrid(np.r_[0:9], np.r_[0:6])\n",
        "kv(\"meshgrid shapes\", f\"{x_m.shape} & {y_m.shape}\")\n",
        "x_M, y_M = np.mgrid[0:9, 0:6]\n",
        "kv(\"mgrid shapes\", f\"{x_M.shape} & {y_M.shape}\")\n",
        "x_O, y_O = np.ogrid[0:9, 0:6]\n",
        "kv(\"ogrid shapes\", f\"{x_O.shape} & {y_O.shape}\")\n",
        "Xix, Yix = np.ix_(np.r_[0:9], np.r_[0:6])\n",
        "kv(\"ix_ shapes\", f\"{Xix.shape} & {Yix.shape}\")\n",
        "arr(\n",
        "    \"f(X,Y)=X+Y via ix_ sample (corners)\",\n",
        "    np.array([Xix[0, 0] + Yix[0, 0], Xix[-1, -1] + Yix[-1, -1]]),\n",
        ")\n",
        "\n"
      ]
    },
    {
      "cell_type": "code",
      "execution_count": 15,
      "id": "c9d7058e",
      "metadata": {},
      "outputs": [
        {
          "name": "stdout",
          "output_type": "stream",
          "text": [
            "\n",
            "================================================================================\n",
            "Tile & Concatenate\n",
            "================================================================================\n",
            "repmat(A2x3,2,3) → np.tile shape       (4, 9)\n",
            "[a b] → hstack & column_stack          (2, 6) & (2, 4)\n",
            "[a; b] → vstack & r_                   (4, 3) & (4, 3)\n"
          ]
        }
      ],
      "source": [
        "# ---- Tile & Concatenate ------------------------------------------------------\n",
        "hdr(\"Tile & Concatenate\")\n",
        "A2x3 = np.arange(1, 7).reshape(2, 3)\n",
        "kv(\"repmat(A2x3,2,3) → np.tile shape\", np.tile(A2x3, (2, 3)).shape)\n",
        "kv(\n",
        "    \"[a b] → hstack & column_stack\",\n",
        "    f\"{np.hstack((A2x3, A2x3)).shape} & {np.column_stack((A2x3, A2x3[:,0])).shape}\",\n",
        ")\n",
        "kv(\n",
        "    \"[a; b] → vstack & r_\",\n",
        "    f\"{np.vstack((A2x3, A2x3)).shape} & {np.r_[A2x3, A2x3].shape}\",\n",
        ")\n",
        "\n"
      ]
    },
    {
      "cell_type": "code",
      "execution_count": 16,
      "id": "7d7a2920",
      "metadata": {},
      "outputs": [
        {
          "name": "stdout",
          "output_type": "stream",
          "text": [
            "\n",
            "================================================================================\n",
            "Max / norms / logicops\n",
            "================================================================================\n",
            "max(max(A)) → A.max()                  300.0\n",
            "max(A) per-column → A.max(0)[:5]       [289. 290. 291. 292. 293.]\n",
            "max(A,[],2) per-row → A.max(1)[:5]     [12. 24. 36. 48. 60.]\n",
            "max(A,B) → np.maximum sample: (shape=(2, 3))\n",
            "[[ 1.  2.  3.]\n",
            " [13. 14. 15.]]\n",
            "norm(v) → np.linalg.norm               5.0\n",
            "logical_and(a,b): (shape=(3, 3))\n",
            "[[False False False]\n",
            " [False False False]\n",
            " [False False False]]\n",
            "bitand(a,b) → a & b: (shape=(2, 2))\n",
            "[[0 0]\n",
            " [2 0]]\n",
            "bitor(a,b) → a | b: (shape=(2, 2))\n",
            "[[5 3]\n",
            " [3 7]]\n"
          ]
        }
      ],
      "source": [
        "# ---- Max / norms / logicops --------------------------------------------------\n",
        "hdr(\"Max / norms / logicops\")\n",
        "kv(\"max(max(A)) → A.max()\", A.max())\n",
        "kv(\"max(A) per-column → A.max(0)[:5]\", A.max(0)[:5])\n",
        "kv(\"max(A,[],2) per-row → A.max(1)[:5]\", A.max(1)[:5])\n",
        "arr(\"max(A,B) → np.maximum sample\", np.maximum(A[:2, :3], (A[:2, :3] - 5)))\n",
        "vec2 = np.array([3.0, 4.0])\n",
        "kv(\"norm(v) → np.linalg.norm\", np.linalg.norm(vec2))\n",
        "boolA = A[:3, :3] % 2 == 0\n",
        "boolB = A[:3, :3] % 3 == 0\n",
        "arr(\"logical_and(a,b)\", np.logical_and(boolA, boolB))\n",
        "intA = np.array([[1, 2], [3, 4]], dtype=int)\n",
        "intB = np.array([[4, 1], [2, 3]], dtype=int)\n",
        "arr(\"bitand(a,b) → a & b\", (intA & intB))\n",
        "arr(\"bitor(a,b) → a | b\", (intA | intB))\n",
        "\n"
      ]
    },
    {
      "cell_type": "code",
      "execution_count": 17,
      "id": "7079e75c",
      "metadata": {},
      "outputs": [
        {
          "name": "stdout",
          "output_type": "stream",
          "text": [
            "\n",
            "================================================================================\n",
            "inv / pinv / rank / solves (\\ and /)\n",
            "================================================================================\n",
            "inv(M): (shape=(3, 3))\n",
            "[[ 0.3611 -0.0417 -0.1111]\n",
            " [-0.1389  0.2083 -0.1111]\n",
            " [ 0.0278 -0.0417  0.2222]]\n",
            "pinv(M): (shape=(3, 3))\n",
            "[[ 0.3611 -0.0417 -0.1111]\n",
            " [-0.1389  0.2083 -0.1111]\n",
            " [ 0.0278 -0.0417  0.2222]]\n",
            "rank(M)                                3\n",
            "x = M\\bb (square) → solve: (shape=(3,))\n",
            "[-0.0556 -0.0556  0.6111]\n",
            "x = Z\\y (lstsq) → [intercept, slope]: (shape=(2,))\n",
            "[2.9993 2.0008]\n",
            "b/a → Solve A.T x.T = b.T, X shape     (2, 6)\n"
          ]
        },
        {
          "name": "stderr",
          "output_type": "stream",
          "text": [
            "<>:2: SyntaxWarning: invalid escape sequence '\\ '\n",
            "<>:2: SyntaxWarning: invalid escape sequence '\\ '\n",
            "/var/folders/v3/bk349gcs0fv4vrdxzx45yjh80000gn/T/ipykernel_49812/4154964099.py:2: SyntaxWarning: invalid escape sequence '\\ '\n",
            "  hdr(\"inv / pinv / rank / solves (\\ and /)\")\n"
          ]
        }
      ],
      "source": [
        "# ---- inv / pinv / rank / solves (\\ and /) -----------------------------------\n",
        "hdr(\"inv / pinv / rank / solves (\\ and /)\")\n",
        "M = np.array([[3.0, 1.0, 2.0], [2.0, 6.0, 4.0], [0.0, 1.0, 5.0]])\n",
        "bb = np.array([1.0, 2.0, 3.0])\n",
        "arr(\"inv(M)\", la.inv(M))\n",
        "arr(\"pinv(M)\", la.pinv(M))\n",
        "kv(\"rank(M)\", np.linalg.matrix_rank(M))\n",
        "arr(\"x = M\\\\bb (square) → solve\", la.solve(M, bb))\n",
        "Z = np.vstack([np.ones(10), np.arange(10)]).T  # 10x2 design\n",
        "y = 3 + 2 * np.arange(10) + 0.01 * np.random.randn(10)\n",
        "coef, *_ = la.lstsq(Z, y)\n",
        "arr(\"x = Z\\\\y (lstsq) → [intercept, slope]\", coef)\n",
        "A6 = A[:6, :6]\n",
        "B2 = np.arange(1, 13).reshape(2, 6).astype(float)\n",
        "X_right = np.linalg.lstsq(A6.T, B2.T, rcond=None)[0].T\n",
        "kv(\"b/a → Solve A.T x.T = b.T, X shape\", X_right.shape)\n",
        "\n"
      ]
    },
    {
      "cell_type": "code",
      "execution_count": 18,
      "id": "840bc37a",
      "metadata": {},
      "outputs": [
        {
          "name": "stdout",
          "output_type": "stream",
          "text": [
            "\n",
            "================================================================================\n",
            "Factorizations & solvers\n",
            "================================================================================\n",
            "svd: singular values                   [8.8896 3.3201 2.4395]\n",
            "chol(SPD):\n",
            "[[3.6056 4.1603 3.8829]\n",
            " [0.     4.5489 3.2637]\n",
            " [0.     0.     4.3899]]\n",
            "eig(M) eigenvalues                     [8.+0.j 3.+0.j 3.-0.j]\n",
            "eig(M,B) generalized eigenvalues (first 3) [0.125 +0.j     0.3333+0.0013j 0.3333-0.0013j]\n",
            "eig(S) dense eigenvalues               [8.6225+0.j 2.3775+0.j 3.    +0.j]\n",
            "eigs(L,k=3) eigenvalues (largest magnitude) [3.9962 3.9848 3.9659]\n",
            "qr(M): diag(R)                         [-3.6056 -4.5489  4.3899]\n",
            "lu(M) shapes (P,L,U)                   (3, 3), (3, 3), (3, 3)\n",
            "||PLU - M||_F                          0.0\n",
            "cg SPD info (0=converged) & residual   0, 1.256515477855323e-14\n"
          ]
        }
      ],
      "source": [
        "# ---- Factorizations & solvers -----------------------------------------------\n",
        "hdr(\"Factorizations & solvers\")\n",
        "U, s, Vh = la.svd(M)\n",
        "kv(\"svd: singular values\", s)\n",
        "print(\"chol(SPD):\")\n",
        "SPD3 = M.T @ M + 1e-6 * np.eye(3)\n",
        "print(la.cholesky(SPD3))\n",
        "w, V = la.eig(M)\n",
        "kv(\"eig(M) eigenvalues\", w)\n",
        "Bspd = M.T @ M + 1e-3 * np.eye(3)\n",
        "wg, Vg = la.eig(M, Bspd)\n",
        "kv(\"eig(M,B) generalized eigenvalues (first 3)\", wg[:3])\n",
        "S = (M + M.T) / 2.0\n",
        "wS, VS = la.eig(S)\n",
        "kv(\"eig(S) dense eigenvalues\", wS)\n",
        "N_eigs = 50\n",
        "L = diags(\n",
        "    [2 * np.ones(N_eigs), -1 * np.ones(N_eigs - 1), -1 * np.ones(N_eigs - 1)],\n",
        "    [0, -1, 1],\n",
        "    format=\"csc\",\n",
        ")\n",
        "w_eigs, V_eigs = eigs(L, k=3, which=\"LM\")\n",
        "kv(\"eigs(L,k=3) eigenvalues (largest magnitude)\", np.real_if_close(w_eigs))\n",
        "Q, R = la.qr(M)\n",
        "kv(\"qr(M): diag(R)\", np.diag(R))\n",
        "from scipy.linalg import lu\n",
        "\n",
        "P, Lfac, Ufac = lu(M)\n",
        "kv(\"lu(M) shapes (P,L,U)\", f\"{P.shape}, {Lfac.shape}, {Ufac.shape}\")\n",
        "kv(\"||PLU - M||_F\", la.norm(P @ Lfac @ Ufac - M, \"fro\"))\n",
        "rhs = np.ones(3)\n",
        "x_cg, info = cg(SPD3, rhs, maxiter=1000)\n",
        "kv(\"cg SPD info (0=converged) & residual\", f\"{info}, {la.norm(SPD3 @ x_cg - rhs)}\")\n",
        "\n"
      ]
    },
    {
      "cell_type": "code",
      "execution_count": 19,
      "id": "3b34860b",
      "metadata": {},
      "outputs": [
        {
          "name": "stdout",
          "output_type": "stream",
          "text": [
            "\n",
            "================================================================================\n",
            "FFT / iFFT\n",
            "================================================================================\n",
            "len(FFT) & max reconstruction error    32, 2.237726045655905e-16\n"
          ]
        }
      ],
      "source": [
        "# ---- FFT / iFFT --------------------------------------------------------------\n",
        "hdr(\"FFT / iFFT\")\n",
        "sig = np.sin(np.linspace(0, 4 * np.pi, 32))\n",
        "F = np.fft.fft(sig)\n",
        "sig_rec = np.fft.ifft(F)\n",
        "kv(\"len(FFT) & max reconstruction error\", f\"{len(F)}, {np.max(np.abs(sig - sig_rec))}\")\n",
        "\n"
      ]
    },
    {
      "cell_type": "code",
      "execution_count": 20,
      "id": "c976040b",
      "metadata": {},
      "outputs": [
        {
          "name": "stdout",
          "output_type": "stream",
          "text": [
            "\n",
            "================================================================================\n",
            "Sorting\n",
            "================================================================================\n",
            "sort(a) by column → np.sort(A, axis=0): (shape=(5, 5))\n",
            "[[ 1.  2.  3.  4.  5.]\n",
            " [13. 14. 15. 16. 17.]\n",
            " [25. 26. 27. 28. 29.]\n",
            " [37. 38. 39. 40. 41.]\n",
            " [49. 50. 51. 52. 53.]]\n",
            "sort(a,2) by row → np.sort(A, axis=1): (shape=(5, 5))\n",
            "[[ 1.  2.  3.  4.  5.]\n",
            " [13. 14. 15. 16. 17.]\n",
            " [25. 26. 27. 28. 29.]\n",
            " [37. 38. 39. 40. 41.]\n",
            " [49. 50. 51. 52. 53.]]\n",
            "[b,I]=sortrows(a,1) → I: (shape=(3,))\n",
            "[1 2 0]\n",
            "[b,I]=sortrows(a,1) → b: (shape=(3, 2))\n",
            "[[1 5]\n",
            " [2 7]\n",
            " [3 9]]\n"
          ]
        }
      ],
      "source": [
        "# ---- Sorting -----------------------------------------------------------------\n",
        "hdr(\"Sorting\")\n",
        "A_cols_sorted = np.sort(A[:5, :5], axis=0)\n",
        "A_rows_sorted = np.sort(A[:5, :5], axis=1)\n",
        "arr(\"sort(a) by column → np.sort(A, axis=0)\", A_cols_sorted)\n",
        "arr(\"sort(a,2) by row → np.sort(A, axis=1)\", A_rows_sorted)\n",
        "AR = np.array([[3, 9], [1, 5], [2, 7]])\n",
        "I = np.argsort(AR[:, 0])\n",
        "B_sorted = AR[I, :]\n",
        "arr(\"[b,I]=sortrows(a,1) → I\", I)\n",
        "arr(\"[b,I]=sortrows(a,1) → b\", B_sorted)\n",
        "\n"
      ]
    },
    {
      "cell_type": "code",
      "execution_count": 21,
      "id": "6562efc5",
      "metadata": {},
      "outputs": [
        {
          "name": "stdout",
          "output_type": "stream",
          "text": [
            "\n",
            "================================================================================\n",
            "Linear regression via lstsq\n",
            "================================================================================\n",
            "lstsq coef ~ [intercept, slope]: (shape=(2,))\n",
            "[ 4.0263 -2.0824]\n"
          ]
        }
      ],
      "source": [
        "# ---- Linear regression (x = Z\\y) --------------------------------------------\n",
        "hdr(\"Linear regression via lstsq\")\n",
        "Z = np.column_stack([np.ones(20), np.linspace(0, 1, 20)])\n",
        "y = 4 - 2 * np.linspace(0, 1, 20) + 0.05 * np.random.randn(20)\n",
        "coef2, *_ = la.lstsq(Z, y)\n",
        "arr(\"lstsq coef ~ [intercept, slope]\", coef2)\n",
        "\n"
      ]
    },
    {
      "cell_type": "code",
      "execution_count": 22,
      "id": "dfe50c67",
      "metadata": {},
      "outputs": [
        {
          "name": "stdout",
          "output_type": "stream",
          "text": [
            "\n",
            "================================================================================\n",
            "Decimate / Unique / Squeeze\n",
            "================================================================================\n",
            "decimate length: before → after        32 → 8\n",
            "unique(a): (shape=(3,))\n",
            "[1 2 3]\n",
            "squeeze(a) shape                       (3, 4)\n",
            "\n",
            "All MATLAB↔NumPy table items have been exercised. Done.\n",
            "\n"
          ]
        }
      ],
      "source": [
        "# ---- Decimate / Unique / Squeeze --------------------------------------------\n",
        "hdr(\"Decimate / Unique / Squeeze\")\n",
        "y_dec = signal.decimate(sig, 4, ftype=\"iir\")\n",
        "kv(\"decimate length: before → after\", f\"{len(sig)} → {len(y_dec)}\")\n",
        "arr(\"unique(a)\", np.unique(np.array([[1, 1, 2], [2, 3, 3]])))\n",
        "kv(\"squeeze(a) shape\", np.zeros((3, 1, 4)).squeeze().shape)\n",
        "\n",
        "print(\"\\nAll MATLAB↔NumPy table items have been exercised. Done.\\n\")\n"
      ]
    }
  ],
  "metadata": {
    "kernelspec": {
      "display_name": "Python 3",
      "language": "python",
      "name": "python3"
    },
    "language_info": {
      "codemirror_mode": {
        "name": "ipython",
        "version": 3
      },
      "file_extension": ".py",
      "mimetype": "text/x-python",
      "name": "python",
      "nbconvert_exporter": "python",
      "pygments_lexer": "ipython3",
      "version": "3.12.11"
    }
  },
  "nbformat": 4,
  "nbformat_minor": 5
}
