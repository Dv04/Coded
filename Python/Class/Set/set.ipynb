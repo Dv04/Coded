{
 "cells": [
  {
   "cell_type": "markdown",
   "metadata": {},
   "source": [
    "Set"
   ]
  },
  {
   "cell_type": "code",
   "execution_count": 1,
   "metadata": {},
   "outputs": [
    {
     "name": "stdout",
     "output_type": "stream",
     "text": [
      "{1, 2, 3, 4, 5}\n"
     ]
    }
   ],
   "source": [
    "a = {1,2,3,4,5}\n",
    "print(a)"
   ]
  },
  {
   "cell_type": "markdown",
   "metadata": {},
   "source": [
    "Methods: \n",
    "\n",
    "Union():\n",
    "Both the values\n",
    "\n",
    "intersection():\n",
    "Only the common values\n",
    "\n",
    "Difference():\n",
    "Only the different values"
   ]
  },
  {
   "cell_type": "code",
   "execution_count": 33,
   "metadata": {},
   "outputs": [
    {
     "name": "stdout",
     "output_type": "stream",
     "text": [
      "Methods of sets\n",
      "Set a is {1, 2, 3, 4, 5, 100} and Set b is {4, 5, 6, 7, 8}\n",
      "Union of a and b is {1, 2, 3, 4, 5, 100, 6, 7, 8}\n",
      "Intersection of a and b is {4, 5}\n",
      "Difference of a from b is {1, 2, 3, 100}\n",
      "Difference of b from a is {8, 6, 7}\n"
     ]
    }
   ],
   "source": [
    "print(\"Methods of sets\")\n",
    "a = {1,2,3,4,5,100}\n",
    "b = {4,5,6,7,8}\n",
    "\n",
    "print(f\"Set a is {a} and Set b is {b}\")\n",
    "print(f\"Union of a and b is {a.union(b)}\")\n",
    "print(f\"Intersection of a and b is {a.intersection(b)}\")\n",
    "print(f\"Difference of a from b is {a.difference(b)}\")\n",
    "print(f\"Difference of b from a is {b.difference(a)}\")"
   ]
  },
  {
   "cell_type": "markdown",
   "metadata": {},
   "source": [
    "Aggregate Methods:\n",
    "\n",
    "Update():\n",
    "Updates the values based on other values\n",
    "\n",
    "Add():\n",
    "Adds the values\n",
    "\n",
    "Remove():\n",
    "Removes the values\n",
    "\n",
    "Pop():\n",
    "Pops a random value\n",
    "\n",
    "Clear():\n",
    "Clears the set\n",
    "\n",
    "Max():\n",
    "Returns the maximum value\n",
    "\n",
    "Min():\n",
    "Returns the minimum value\n",
    "\n",
    "Sum():\n",
    "Returns the sum of all the values\n",
    "\n",
    "Sorted():\n",
    "Returns the sorted values"
   ]
  },
  {
   "cell_type": "code",
   "execution_count": 34,
   "metadata": {},
   "outputs": [
    {
     "name": "stdout",
     "output_type": "stream",
     "text": [
      "Update of {1, 2, 3, 4, 5} with {4, 5, 6, 7, 8} is {1, 2, 3, 4, 5, 100, 6, 7, 8}\n",
      "Addition of 20 would be {1, 2, 3, 4, 5, 100, 6, 7, 8, 20}\n",
      "Removal of 20 would be {1, 2, 3, 4, 5, 100, 6, 7, 8}\n",
      "Pop would be {2, 3, 4, 5, 100, 6, 7, 8}\n",
      "Maximum of set a is 100\n",
      "Minimum of set a is 2\n",
      "Sum of set a is 135\n",
      "Length of set a is 8\n",
      "Sorted set a would look like [2, 3, 4, 5, 6, 7, 8, 100]\n",
      "Clear would be set()\n"
     ]
    }
   ],
   "source": [
    "c = {1,2,3,4,5}\n",
    "a.update(b)\n",
    "print(f\"Update of {c} with {b} is {a}\")\n",
    "a.add(20)\n",
    "print(f\"Addition of 20 would be {a}\")\n",
    "a.remove(20)\n",
    "print(f\"Removal of 20 would be {a}\")\n",
    "a.pop()\n",
    "print(f\"Pop would be {a}\")\n",
    "\n",
    "\n",
    "print(f\"Maximum of set a is {max(a)}\")\n",
    "print(f\"Minimum of set a is {min(a)}\")\n",
    "print(f\"Sum of set a is {sum(a)}\")\n",
    "print(f\"Length of set a is {len(a)}\")\n",
    "print(f\"Sorted set a would look like {sorted(a)}\")\n",
    "\n",
    "a.clear()\n",
    "print(f\"Clear would be {a}\")"
   ]
  },
  {
   "cell_type": "markdown",
   "metadata": {},
   "source": [
    "Homework: Difference between List - Tuple and List - Set.\n",
    "Study use of functions: All, any, in, not in."
   ]
  }
 ],
 "metadata": {
  "kernelspec": {
   "display_name": "Python 3",
   "language": "python",
   "name": "python3"
  },
  "language_info": {
   "codemirror_mode": {
    "name": "ipython",
    "version": 3
   },
   "file_extension": ".py",
   "mimetype": "text/x-python",
   "name": "python",
   "nbconvert_exporter": "python",
   "pygments_lexer": "ipython3",
   "version": "3.11.4"
  },
  "orig_nbformat": 4
 },
 "nbformat": 4,
 "nbformat_minor": 2
}
