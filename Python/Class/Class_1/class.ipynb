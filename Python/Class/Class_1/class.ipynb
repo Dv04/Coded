{
 "cells": [
  {
   "cell_type": "markdown",
   "metadata": {},
   "source": [
    "Installation of python, be familiar with python editor and WAP to print ‘Hello World’"
   ]
  },
  {
   "cell_type": "code",
   "execution_count": 13,
   "metadata": {},
   "outputs": [
    {
     "name": "stdout",
     "output_type": "stream",
     "text": [
      "Hello World\n",
      "\n",
      "\n",
      "Original type with value:  <class 'int'> 10\n",
      "First Changed type with value:  <class 'str'> 10\n",
      "Second Changed type with value:  <class 'float'> 10.0\n",
      "Third Changed type with value:  <class 'bool'> True\n",
      "Fourth Changed type with value:  <class 'complex'> (10+0j)\n",
      "\n",
      "\n",
      "List type with value:  <class 'list'> [10, '10', 10.0, True]\n",
      "Nested List type with value:  <class 'list'> [[10, '10', 10.0, True], [10, '10', 10.0, True], [10, '10', 10.0, True]]\n",
      "Tuple type with value:  <class 'tuple'> (10, 10, 10)\n",
      "Set type with value:  <class 'set'> {10}\n",
      "Dictionary type with value:  <class 'dict'> {10: '10'}\n"
     ]
    }
   ],
   "source": [
    "print(\"Hello World\")\n",
    "\n",
    "a = 10\n",
    "print(\"\\n\\nOriginal type with value: \",type(a),a)\n",
    "print(\"First Changed type with value: \",type(str(a)),str(a))\n",
    "print(\"Second Changed type with value: \",type(float(a)),float(a))\n",
    "print(\"Third Changed type with value: \",type(bool(a)),bool(a))\n",
    "print(\"Fourth Changed type with value: \",type(complex(a)),complex(a))\n",
    "\n",
    "li = [a, str(a), float(a), bool(a)]\n",
    "subli = [li,li,li]\n",
    "tu = (a,a,a)\n",
    "se = {a}\n",
    "di = {a:str(a)}\n",
    "\n",
    "print(\"\\n\\nList type with value: \",type(li),li)\n",
    "print(\"Nested List type with value: \",type(subli),subli)\n",
    "print(\"Tuple type with value: \",type(tu),tu)\n",
    "print(\"Set type with value: \",type(se),se)\n",
    "print(\"Dictionary type with value: \",type(di),di)\n"
   ]
  },
  {
   "cell_type": "markdown",
   "metadata": {},
   "source": [
    "Theory:\n",
    "\n",
    "There exists 7 types of operators.\n",
    "Types of Operators:\n",
    "\n",
    "    1. Arithmetic Operators\n",
    "    2. Assignment Operators\n",
    "    3. Comparison Operators\n",
    "    4. Logical Operators\n",
    "    5. Identity Operators\n",
    "    6. Membership Operators\n",
    "    7. Bitwise Operators"
   ]
  },
  {
   "cell_type": "code",
   "execution_count": 3,
   "metadata": {},
   "outputs": [
    {
     "name": "stdout",
     "output_type": "stream",
     "text": [
      "A = 13 B = 4 \n",
      "The Arithmetic Operaots:\n",
      "\n",
      "Addition:  17 \n",
      "Substraction:  9 \n",
      "Multiplication:  52 \n",
      "Division:  3.25 \n",
      "Modulus:  1 \n",
      "Exponent:  28561 \n",
      "Floor Division:  3\n"
     ]
    }
   ],
   "source": [
    "a = 13\n",
    "b = 4\n",
    "\n",
    "print(\"A =\",a,\"B =\",b,\"\\nThe Arithmetic Operaots:\\n\\nAddition: \", a+b,\"\\nSubstraction: \",a-b,\"\\nMultiplication: \",\n",
    "      a*b,\"\\nDivision: \",a/b,\"\\nModulus: \",a%b,\"\\nExponent: \",a**b,\"\\nFloor Division: \",a//b)"
   ]
  },
  {
   "cell_type": "code",
   "execution_count": 4,
   "metadata": {},
   "outputs": [
    {
     "name": "stdout",
     "output_type": "stream",
     "text": [
      "The Assignment Operators:\n",
      "\n",
      "Equal: c = a = 13\n",
      "Add: c+=a = 26\n",
      "Subtract: c-=a = 13\n",
      "Multiply: c*=a = 169\n",
      "Divide: c/=a = 13.0\n",
      "Modulus: c%=a = 0.0\n",
      "Exponent: c**=a = 0.0\n",
      "Floor Division: c//=a = 0.0\n"
     ]
    }
   ],
   "source": [
    "print(\"The Assignment Operators:\\n\")\n",
    "c = a\n",
    "print(\"Equal: c = a =\", c)\n",
    "c+=a\n",
    "print(\"Add: c+=a =\", c)\n",
    "c-=a\n",
    "print(\"Subtract: c-=a =\", c)\n",
    "c*=a\n",
    "print(\"Multiply: c*=a =\", c)\n",
    "c/=a\n",
    "print(\"Divide: c/=a =\", c)\n",
    "c%=a\n",
    "print(\"Modulus: c%=a =\", c)\n",
    "c**=a\n",
    "print(\"Exponent: c**=a =\", c)\n",
    "c//=a\n",
    "print(\"Floor Division: c//=a =\", c)\n"
   ]
  },
  {
   "cell_type": "code",
   "execution_count": 15,
   "metadata": {},
   "outputs": [
    {
     "name": "stdout",
     "output_type": "stream",
     "text": [
      "A = 10 B = 4\n",
      "The Comparison Operators \n",
      "1. == (equal to)\n",
      "a == b is False\n",
      "\n",
      "2. != (not equal to)\n",
      "a != b is True\n",
      "\n",
      "3. > (greater than)\n",
      "a > b is True\n",
      "\n",
      "4. < (less than)\n",
      "a < b is False\n",
      "\n",
      "5. >= (greater than or equal to)\n",
      "a >= b is True\n",
      "\n",
      "6. <= (less than or equal to)\n",
      "a <= b is False\n"
     ]
    }
   ],
   "source": [
    "print(\"A =\",a,\"B =\",b)\n",
    "print(\"The Comparison Operators \")\n",
    "print(\"1. == (equal to)\")\n",
    "print(\"a == b is\",a==b)\n",
    "print(\"\\n2. != (not equal to)\")\n",
    "print(\"a != b is\",a!=b)\n",
    "print(\"\\n3. > (greater than)\")\n",
    "print(\"a > b is\",a>b)\n",
    "print(\"\\n4. < (less than)\")\n",
    "print(\"a < b is\",a<b)\n",
    "print(\"\\n5. >= (greater than or equal to)\")\n",
    "print(\"a >= b is\",a>=b)\n",
    "print(\"\\n6. <= (less than or equal to)\")\n",
    "print(\"a <= b is\",a<=b)\n"
   ]
  }
 ],
 "metadata": {
  "kernelspec": {
   "display_name": "Python 3",
   "language": "python",
   "name": "python3"
  },
  "language_info": {
   "codemirror_mode": {
    "name": "ipython",
    "version": 3
   },
   "file_extension": ".py",
   "mimetype": "text/x-python",
   "name": "python",
   "nbconvert_exporter": "python",
   "pygments_lexer": "ipython3",
   "version": "3.11.3"
  },
  "orig_nbformat": 4
 },
 "nbformat": 4,
 "nbformat_minor": 2
}
