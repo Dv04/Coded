{
 "cells": [
  {
   "cell_type": "markdown",
   "metadata": {},
   "source": [
    "# Loop Statements"
   ]
  },
  {
   "cell_type": "markdown",
   "metadata": {},
   "source": [
    "### While Syntax:\n",
    "\n",
    "sattements x\n",
    "while ( condition ):\n",
    "    statement block\n",
    "statement y\n",
    "\n",
    "### While definition:\n",
    "\n",
    "After x statements are run, the code checks the while condition. if the condition is true, it goes inside the loop and stays there until the condition is false. after that the y statements are executed.\n",
    "\n",
    "### Disadvantages:\n",
    "\n",
    "- If the condition is always true, the loop will never end. So be sure to end loop ending condition."
   ]
  },
  {
   "cell_type": "code",
   "execution_count": 3,
   "metadata": {},
   "outputs": [
    {
     "name": "stdout",
     "output_type": "stream",
     "text": [
      "1 2 3 4 5 6 7 8 9 10 "
     ]
    }
   ],
   "source": [
    "# WAP to print first 10 numbers\n",
    "\n",
    "i = 1\n",
    "while(i<11):\n",
    "    print(i, sep=\" \", end=\" \")\n",
    "    i = i+1"
   ]
  },
  {
   "cell_type": "code",
   "execution_count": 2,
   "metadata": {},
   "outputs": [
    {
     "name": "stdout",
     "output_type": "stream",
     "text": [
      "Sum of first 10 numbers is:  55\n",
      "Average of first 10 numbers is:  5.5\n"
     ]
    }
   ],
   "source": [
    "# WAP sum and average of first 10 numbers.\n",
    "\n",
    "i = 1\n",
    "sum, avg = 0,0\n",
    "while i<11:\n",
    "    sum+=i\n",
    "    avg+=i\n",
    "    i = i+1\n",
    "print(\"Sum of first 10 numbers is: \",sum)\n",
    "print(\"Average of first 10 numbers is: \",avg/10)"
   ]
  }
 ],
 "metadata": {
  "kernelspec": {
   "display_name": "Python 3",
   "language": "python",
   "name": "python3"
  },
  "language_info": {
   "codemirror_mode": {
    "name": "ipython",
    "version": 3
   },
   "file_extension": ".py",
   "mimetype": "text/x-python",
   "name": "python",
   "nbconvert_exporter": "python",
   "pygments_lexer": "ipython3",
   "version": "3.11.5"
  },
  "orig_nbformat": 4
 },
 "nbformat": 4,
 "nbformat_minor": 2
}
