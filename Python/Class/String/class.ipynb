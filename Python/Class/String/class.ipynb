{
 "cells": [
  {
   "cell_type": "markdown",
   "metadata": {},
   "source": [
    "# STRING "
   ]
  },
  {
   "cell_type": "code",
   "execution_count": 2,
   "metadata": {},
   "outputs": [
    {
     "name": "stdout",
     "output_type": "stream",
     "text": [
      "Adani Uni\n",
      "<class 'str'>\n"
     ]
    }
   ],
   "source": [
    "abc = \"Adani Uni\"\n",
    "\n",
    "print(abc)\n",
    "print(type(abc))"
   ]
  },
  {
   "cell_type": "markdown",
   "metadata": {},
   "source": [
    "String is indexed as follows:\n",
    "\n",
    "\n",
    "|  0 | 1 | 2 | 3 | 4 | 5 | 6 | 7 | 8 |\n",
    "|-|-|-|-|-|-|-|-|-|\n",
    "|  A | d | a | n | i |   | u | n | i |\n",
    "| -9 |-8 |-7 |-6 |-5 |-4 |-3 |-2 |-1 |"
   ]
  },
  {
   "cell_type": "code",
   "execution_count": 3,
   "metadata": {},
   "outputs": [
    {
     "name": "stdout",
     "output_type": "stream",
     "text": [
      "Positive Indexing:  a\n",
      "Negative Indexing:  a\n"
     ]
    }
   ],
   "source": [
    "print(\"Positive Indexing: \",abc[2])\n",
    "print(\"Negative Indexing: \",abc[-7])"
   ]
  },
  {
   "cell_type": "code",
   "execution_count": 5,
   "metadata": {},
   "outputs": [
    {
     "name": "stdout",
     "output_type": "stream",
     "text": [
      "Length is: 9\n"
     ]
    }
   ],
   "source": [
    "print(\"Length is:\",len(abc))\n",
    "\n"
   ]
  },
  {
   "cell_type": "code",
   "execution_count": 51,
   "metadata": {},
   "outputs": [
    {
     "name": "stdout",
     "output_type": "stream",
     "text": [
      "Indexing example:\n",
      "\n",
      "Forward: abc[1:5] = dani\n",
      "Negative: abc[-8:-4] = inad\n",
      "\n",
      "Task to get: Uni\n",
      "\n",
      "Forward: abc[6:] = Uni\n",
      "Negative: abc[-3:] = Uni\n",
      "\n",
      "Task to get: Ada\n",
      "\n",
      "Forward: abc[:3] = Ada\n",
      "Negative: abc[:-7] = Ada\n",
      "\n",
      "Step Indexing\n",
      "\n",
      "Forward: abc[::2] = AaiUi\n",
      "Negative: abc[::-1] = iUiaA\n",
      "\n"
     ]
    }
   ],
   "source": [
    "print(\"Indexing example:\\n\\nForward: abc[1:5] =\",abc[1:5])\n",
    "print(\"Negative: abc[-8:-4] =\",abc[-5:-9:-1])\n",
    "\n",
    "print(\"\\nTask to get: Uni\")\n",
    "print(\"\\nForward: abc[6:] = {}\\nNegative: abc[-3:] = {}\\n\".format(abc[6:],abc[-3:]))\n",
    "\n",
    "print(\"Task to get: Ada\")\n",
    "print(\"\\nForward: abc[:3] = {}\\nNegative: abc[:-7] = {}\\n\".format(abc[:3],abc[:-6]))\n",
    "\n",
    "print(\"Step Indexing\\n\")\n",
    "print(\"Forward: abc[::2] = {}\\nNegative: abc[::-1] = {}\\n\".format(abc[::2],abc[::-2]))"
   ]
  },
  {
   "cell_type": "code",
   "execution_count": 52,
   "metadata": {},
   "outputs": [
    {
     "name": "stdout",
     "output_type": "stream",
     "text": [
      "The reveresed string is: inU inadA\n"
     ]
    }
   ],
   "source": [
    "print(\"The reveresed string is:\",abc[::-1])"
   ]
  },
  {
   "cell_type": "code",
   "execution_count": 58,
   "metadata": {},
   "outputs": [
    {
     "name": "stdout",
     "output_type": "stream",
     "text": [
      "My first name is:\n",
      " Positive = Dev\n",
      " Negative = Dev\n",
      "\n",
      "My full name is:\n",
      " Positive = Dev Sanghvi\n",
      " Negative = Dev Sanghvi\n",
      "\n",
      "The reversed string is = ivhgnaS veD si eman yM\n"
     ]
    }
   ],
   "source": [
    "name = \"My name is Dev Sanghvi\"\n",
    "\n",
    "print(\"My first name is:\\n Positive = {}\\n Negative = {}\".format(name[11:14], name[-11:-8]))\n",
    "\n",
    "print(\"\\nMy full name is:\\n Positive = {}\\n Negative = {}\".format(name[11:],name[-11:]))\n",
    "\n",
    "print(\"\\nThe reversed string is = {}\".format(name[::-1]))"
   ]
  },
  {
   "cell_type": "markdown",
   "metadata": {},
   "source": []
  },
  {
   "cell_type": "code",
   "execution_count": 9,
   "metadata": {},
   "outputs": [
    {
     "name": "stdout",
     "output_type": "stream",
     "text": [
      "The original string:       This is an example string    \n",
      "\n",
      "The uppercase string:       THIS IS AN EXAMPLE STRING    \n",
      "The lowercase string:       this is an example string    \n",
      "\n",
      "The stripped string:\t This is an example string : Has the length of: 25\n",
      "The left stripped string:\t This is an example string     : Has the length of: 29\n",
      "The right stripped string:\t       This is an example string : Has the length of: 31\n",
      "\n",
      "If the string is replaced from E to D:       This is an dxampld string    \n"
     ]
    }
   ],
   "source": [
    "string = \"      This is an example string    \"\n",
    "print(\"The original string:\",string)\n",
    "\n",
    "print(\"\\nThe uppercase string:\",string.upper())\n",
    "print(\"The lowercase string:\",string.lower())\n",
    "\n",
    "print(\"\\nThe stripped string:\\t\",string.strip(),\": Has the length of:\",len(string.strip()))\n",
    "print(\"The left stripped string:\\t\",string.lstrip(),\": Has the length of:\",len(string.lstrip()))\n",
    "print(\"The right stripped string:\\t\",string.rstrip(),\": Has the length of:\",len(string.rstrip()))\n",
    "\n",
    "print(\"\\nIf the string is replaced from E to D:\",string.replace(\"e\",\"d\"))\n"
   ]
  },
  {
   "cell_type": "code",
   "execution_count": 24,
   "metadata": {},
   "outputs": [
    {
     "name": "stdout",
     "output_type": "stream",
     "text": [
      "The title method:       This Is An Example String    \n",
      "The capitalize method:       this is an example string    \n",
      "\n",
      "The occurance of word python in the string: 'I love python, python is a simple language.' is: 2\n",
      "The word love in the same string is situated at: 2\n",
      "The word love in the same string is situated at: 2\n",
      "\n",
      "Using the Max Method: x and y\n",
      "\n",
      "Using the Min Method:   and  \n"
     ]
    }
   ],
   "source": [
    "print(\"The title method:\",string.title())\n",
    "print(\"The capitalize method:\",string.capitalize())\n",
    "\n",
    "\n",
    "python = \"I love python, python is a simple language.\"\n",
    "print(f\"\\nThe occurance of word python in the string: '{python}' is: {python.count('python')}\")\n",
    "print(f\"The word love in the same string is situated at: {python.find('love')}\")\n",
    "print(f\"The word love in the same string is situated at: {python.index('love')}\")\n",
    "\n",
    "print(f\"\\nUsing the Max Method: {max(string)} and {max(python)}\")\n",
    "print(f\"\\nUsing the Min Method: {min(string)} and {min(python)}\")"
   ]
  },
  {
   "cell_type": "code",
   "execution_count": 46,
   "metadata": {},
   "outputs": [
    {
     "name": "stdout",
     "output_type": "stream",
     "text": [
      "The concetanation of the string I love python, python is a simple language. and This is an example string is:\n",
      " This is an example string I love python, python is a simple language.\n",
      "\n",
      "The join function is:\n",
      " I love python, python is a simple language. This is an example string\n",
      "\n",
      "Using the , operator:\n",
      " I love python, python is a simple language. This is an example string\n",
      "\n",
      "Using the % operator:\n",
      "I love python, python is a simple language. This is an example string\n"
     ]
    }
   ],
   "source": [
    "string = string.strip()\n",
    "\n",
    "print(f\"The concetanation of the string {python} and {string} is:\\n {string +' '+ python}\")\n",
    "print(f\"\\nThe join function is:\\n {' '.join([python,string])}\")\n",
    "print(\"\\nUsing the , operator:\\n\",python,string)\n",
    "print(\"\\nUsing the %% operator:\\n%s %s\"%(python,string))\n"
   ]
  },
  {
   "cell_type": "code",
   "execution_count": 49,
   "metadata": {},
   "outputs": [
    {
     "name": "stdout",
     "output_type": "stream",
     "text": [
      "String Operations\n",
      "\n",
      "Addition string: I love python, python is a simple language.This is an example string\n",
      "Multiplication:  This is an example stringThis is an example stringThis is an example stringThis is an example string\n",
      "Appended string: I love python, python is a simple language.This is an example string\n"
     ]
    }
   ],
   "source": [
    "print(\"String Operations\")\n",
    "print(\"\\nAddition string:\",python+string)\n",
    "print(\"Multiplication: \",string*4)\n",
    "\n",
    "string1 = \"\"\n",
    "string1+=python\n",
    "string1+=string\n",
    "\n",
    "print(\"Appended string:\",string1)"
   ]
  }
 ],
 "metadata": {
  "kernelspec": {
   "display_name": "Python 3",
   "language": "python",
   "name": "python3"
  },
  "language_info": {
   "codemirror_mode": {
    "name": "ipython",
    "version": 3
   },
   "file_extension": ".py",
   "mimetype": "text/x-python",
   "name": "python",
   "nbconvert_exporter": "python",
   "pygments_lexer": "ipython3",
   "version": "3.11.3"
  },
  "orig_nbformat": 4
 },
 "nbformat": 4,
 "nbformat_minor": 2
}
