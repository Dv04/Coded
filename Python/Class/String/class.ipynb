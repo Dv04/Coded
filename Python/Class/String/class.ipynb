{
 "cells": [
  {
   "cell_type": "markdown",
   "metadata": {},
   "source": [
    "# STRING "
   ]
  },
  {
   "cell_type": "code",
   "execution_count": 2,
   "metadata": {},
   "outputs": [
    {
     "name": "stdout",
     "output_type": "stream",
     "text": [
      "Adani Uni\n",
      "<class 'str'>\n"
     ]
    }
   ],
   "source": [
    "abc = \"Adani Uni\"\n",
    "\n",
    "print(abc)\n",
    "print(type(abc))"
   ]
  },
  {
   "cell_type": "markdown",
   "metadata": {},
   "source": [
    "String is indexed as follows:\n",
    "\n",
    "\n",
    "|  0 | 1 | 2 | 3 | 4 | 5 | 6 | 7 | 8 |\n",
    "|-|-|-|-|-|-|-|-|-|\n",
    "|  A | d | a | n | i |   | u | n | i |\n",
    "| -9 |-8 |-7 |-6 |-5 |-4 |-3 |-2 |-1 |"
   ]
  },
  {
   "cell_type": "code",
   "execution_count": 3,
   "metadata": {},
   "outputs": [
    {
     "name": "stdout",
     "output_type": "stream",
     "text": [
      "Positive Indexing:  a\n",
      "Negative Indexing:  a\n"
     ]
    }
   ],
   "source": [
    "print(\"Positive Indexing: \",abc[2])\n",
    "print(\"Negative Indexing: \",abc[-7])"
   ]
  },
  {
   "cell_type": "code",
   "execution_count": 5,
   "metadata": {},
   "outputs": [
    {
     "name": "stdout",
     "output_type": "stream",
     "text": [
      "Length is: 9\n"
     ]
    }
   ],
   "source": [
    "print(\"Length is:\",len(abc))\n",
    "\n"
   ]
  },
  {
   "cell_type": "code",
   "execution_count": 51,
   "metadata": {},
   "outputs": [
    {
     "name": "stdout",
     "output_type": "stream",
     "text": [
      "Indexing example:\n",
      "\n",
      "Forward: abc[1:5] = dani\n",
      "Negative: abc[-8:-4] = inad\n",
      "\n",
      "Task to get: Uni\n",
      "\n",
      "Forward: abc[6:] = Uni\n",
      "Negative: abc[-3:] = Uni\n",
      "\n",
      "Task to get: Ada\n",
      "\n",
      "Forward: abc[:3] = Ada\n",
      "Negative: abc[:-7] = Ada\n",
      "\n",
      "Step Indexing\n",
      "\n",
      "Forward: abc[::2] = AaiUi\n",
      "Negative: abc[::-1] = iUiaA\n",
      "\n"
     ]
    }
   ],
   "source": [
    "print(\"Indexing example:\\n\\nForward: abc[1:5] =\",abc[1:5])\n",
    "print(\"Negative: abc[-8:-4] =\",abc[-5:-9:-1])\n",
    "\n",
    "print(\"\\nTask to get: Uni\")\n",
    "print(\"\\nForward: abc[6:] = {}\\nNegative: abc[-3:] = {}\\n\".format(abc[6:],abc[-3:]))\n",
    "\n",
    "print(\"Task to get: Ada\")\n",
    "print(\"\\nForward: abc[:3] = {}\\nNegative: abc[:-7] = {}\\n\".format(abc[:3],abc[:-6]))\n",
    "\n",
    "print(\"Step Indexing\\n\")\n",
    "print(\"Forward: abc[::2] = {}\\nNegative: abc[::-1] = {}\\n\".format(abc[::2],abc[::-2]))"
   ]
  },
  {
   "cell_type": "code",
   "execution_count": 52,
   "metadata": {},
   "outputs": [
    {
     "name": "stdout",
     "output_type": "stream",
     "text": [
      "The reveresed string is: inU inadA\n"
     ]
    }
   ],
   "source": [
    "print(\"The reveresed string is:\",abc[::-1])"
   ]
  },
  {
   "cell_type": "code",
   "execution_count": 58,
   "metadata": {},
   "outputs": [
    {
     "name": "stdout",
     "output_type": "stream",
     "text": [
      "My first name is:\n",
      " Positive = Dev\n",
      " Negative = Dev\n",
      "\n",
      "My full name is:\n",
      " Positive = Dev Sanghvi\n",
      " Negative = Dev Sanghvi\n",
      "\n",
      "The reversed string is = ivhgnaS veD si eman yM\n"
     ]
    }
   ],
   "source": [
    "name = \"My name is Dev Sanghvi\"\n",
    "\n",
    "print(\"My first name is:\\n Positive = {}\\n Negative = {}\".format(name[11:14], name[-11:-8]))\n",
    "\n",
    "print(\"\\nMy full name is:\\n Positive = {}\\n Negative = {}\".format(name[11:],name[-11:]))\n",
    "\n",
    "print(\"\\nThe reversed string is = {}\".format(name[::-1]))"
   ]
  }
 ],
 "metadata": {
  "kernelspec": {
   "display_name": "Python 3",
   "language": "python",
   "name": "python3"
  },
  "language_info": {
   "codemirror_mode": {
    "name": "ipython",
    "version": 3
   },
   "file_extension": ".py",
   "mimetype": "text/x-python",
   "name": "python",
   "nbconvert_exporter": "python",
   "pygments_lexer": "ipython3",
   "version": "3.11.3"
  },
  "orig_nbformat": 4
 },
 "nbformat": 4,
 "nbformat_minor": 2
}
