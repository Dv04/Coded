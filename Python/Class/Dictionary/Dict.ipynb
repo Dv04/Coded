{
 "cells": [
  {
   "cell_type": "markdown",
   "metadata": {},
   "source": [
    "Dictionary: A key and value pair.\n",
    "\n",
    "dict1 = {key1: value1, key2:value2, key3:value3,....}"
   ]
  },
  {
   "cell_type": "code",
   "execution_count": 2,
   "metadata": {},
   "outputs": [
    {
     "name": "stdout",
     "output_type": "stream",
     "text": [
      "{1: 10, 2: 20, 3: 30}\n"
     ]
    }
   ],
   "source": [
    "a = {1:10, 2:20, 3:30}\n",
    "print(a)\n"
   ]
  },
  {
   "cell_type": "markdown",
   "metadata": {},
   "source": [
    "The way to call a dictionary value is by using it's key. Every key must be unique and immutable."
   ]
  },
  {
   "cell_type": "code",
   "execution_count": 14,
   "metadata": {},
   "outputs": [
    {
     "name": "stdout",
     "output_type": "stream",
     "text": [
      "The current dictionary is {'Name': 'Dev', 'Roll_No': 6, 'Age': 19}\n",
      "The name field of information is Dev\n"
     ]
    }
   ],
   "source": [
    "information = {\"Name\" : \"Dev\", \"Roll_No\" : 6, \"Age\" : 19}\n",
    "print(\"The current dictionary is\", information)\n",
    "print(\"The name field of information is\", information[\"Name\"])"
   ]
  },
  {
   "cell_type": "markdown",
   "metadata": {},
   "source": [
    "To add a value directly define a new key value pair."
   ]
  },
  {
   "cell_type": "code",
   "execution_count": 15,
   "metadata": {},
   "outputs": [
    {
     "name": "stdout",
     "output_type": "stream",
     "text": [
      "The current dictionary is {'Name': 'Dev', 'Roll_No': 6, 'Age': 19, 'Marks': 100}\n"
     ]
    }
   ],
   "source": [
    "information[\"Marks\"] = 100\n",
    "print(\"The current dictionary is\", information)"
   ]
  },
  {
   "cell_type": "markdown",
   "metadata": {},
   "source": [
    "The change in value can be done by calling the key and assigning a new value to it."
   ]
  },
  {
   "cell_type": "code",
   "execution_count": 16,
   "metadata": {},
   "outputs": [
    {
     "name": "stdout",
     "output_type": "stream",
     "text": [
      "The current dictionary is {'Name': 'Dev', 'Roll_No': 6, 'Age': 20, 'Marks': 100}\n"
     ]
    }
   ],
   "source": [
    "information[\"Age\"] = 20\n",
    "print(\"The current dictionary is\", information)"
   ]
  },
  {
   "cell_type": "markdown",
   "metadata": {},
   "source": [
    "Dict functions:\n",
    "\n",
    "len(dict1) : Returns the length of the dictionary.\n",
    "\n",
    "dict.get(key) : Returns the value of the key.\n",
    "\n",
    "dict.keys() : Returns all the keys in the dictionary.\n",
    "\n",
    "dict.values() : Returns all the values in the dictionary.\n",
    "\n",
    "dict.items() : Returns all the key value pairs in the dictionary."
   ]
  },
  {
   "cell_type": "code",
   "execution_count": 17,
   "metadata": {},
   "outputs": [
    {
     "name": "stdout",
     "output_type": "stream",
     "text": [
      "4\n",
      "dict_keys(['Name', 'Roll_No', 'Age', 'Marks'])\n",
      "dict_values(['Dev', 6, 20, 100])\n",
      "dict_items([('Name', 'Dev'), ('Roll_No', 6), ('Age', 20), ('Marks', 100)])\n",
      "Dev\n"
     ]
    }
   ],
   "source": [
    "print(len(information))\n",
    "\n",
    "print(information.keys())\n",
    "\n",
    "print(information.values())\n",
    "\n",
    "print(information.items())\n",
    "\n",
    "print(information.get(\"Name\"))"
   ]
  },
  {
   "cell_type": "markdown",
   "metadata": {},
   "source": [
    "dict.update(dict2) : Adds the key value pairs of dict2 to dict1."
   ]
  },
  {
   "cell_type": "code",
   "execution_count": 18,
   "metadata": {},
   "outputs": [
    {
     "name": "stdout",
     "output_type": "stream",
     "text": [
      "{'Name': 'દેવ સંઘવી', 'Age': 19, 'Roll_No': 6}\n",
      "{'Name': 'Dev', 'Roll_No': 6, 'Age': 20, 'Marks': 100}\n",
      "{'Name': 'દેવ સંઘવી', 'Roll_No': 6, 'Age': 19, 'Marks': 100}\n"
     ]
    }
   ],
   "source": [
    "information_1 = {'Name': \"દેવ સંઘવી\",\"Age\": 19, \"Roll_No\": 6}\n",
    "print(information_1)\n",
    "print(information)\n",
    "information.update(information_1)\n",
    "print(information)"
   ]
  },
  {
   "cell_type": "markdown",
   "metadata": {},
   "source": [
    "Assignment: Write a short note on list vs tuple vs set vs dictionary.\n",
    "\n",
    "* **Lists** are ordered, mutable collections of elements. They can be created using square brackets `[]`. Lists can contain any type of data, including strings, numbers, other lists, and even tuples.\n",
    "* **Tuples** are ordered, immutable collections of elements. They can be created using parentheses `()`. Tuples can contain any type of data, just like lists.\n",
    "* **Sets** are unordered collections of unique elements. They can be created using curly braces `{}`. Sets cannot contain duplicate elements, and they cannot be indexed like lists or tuples.\n",
    "* **Dictionaries** are unordered collections of key-value pairs. They can be created using curly braces `{}`. The keys in a dictionary must be unique, but the values can be any type of data.\n",
    "\n",
    "Here is a table that summarizes the key differences between these four data structures:\n",
    "\n",
    "| Feature | List | Tuple | Set | Dictionary |\n",
    "|---|---|---|---|---|\n",
    "| Order | Ordered | Ordered | Unordered | Unordered |\n",
    "| Mutability | Mutable | Immutable | Mutable | Mutable |\n",
    "| Duplicates | Allowed | Allowed | Not allowed | Not allowed (for keys) |\n",
    "| Indexing | Supported | Supported | Not supported | Supported |\n",
    "| Key-value pairs | No | No | No | Yes |\n",
    "\n",
    "The best data structure to use depends on the specific task at hand. For example, if you need to store a list of items in order, then a list is the best choice. If you need to store a collection of unique items, then a set is the best choice. If you need to store a collection of key-value pairs, then a dictionary is the best choice.\n"
   ]
  }
 ],
 "metadata": {
  "kernelspec": {
   "display_name": "Python 3",
   "language": "python",
   "name": "python3"
  },
  "language_info": {
   "codemirror_mode": {
    "name": "ipython",
    "version": 3
   },
   "file_extension": ".py",
   "mimetype": "text/x-python",
   "name": "python",
   "nbconvert_exporter": "python",
   "pygments_lexer": "ipython3",
   "version": "3.11.5"
  },
  "orig_nbformat": 4
 },
 "nbformat": 4,
 "nbformat_minor": 2
}
