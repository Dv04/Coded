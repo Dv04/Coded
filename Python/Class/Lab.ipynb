{
 "cells": [
  {
   "cell_type": "markdown",
   "metadata": {},
   "source": [
    "Installation of python, be familiar with python editor and WAP to print ‘Hello World’"
   ]
  },
  {
   "cell_type": "code",
   "execution_count": null,
   "metadata": {},
   "outputs": [],
   "source": [
    "print(\"Hello World\")\n",
    "\n",
    "a = 10\n",
    "print(\"Original type: \",type(a))\n",
    "print(\"First Changed type: \",type(str(a)))\n",
    "print(\"Second Changed type: \",type(float(a)))"
   ]
  },
  {
   "cell_type": "markdown",
   "metadata": {},
   "source": [
    "WAP to demonstrate the use of various type of operators in python"
   ]
  },
  {
   "cell_type": "markdown",
   "metadata": {},
   "source": [
    "Theory:\n",
    "\n",
    "There exists 7 types of operators.\n",
    "Types of Operators:\n",
    "\n",
    "    1. Arithmetic Operators\n",
    "    2. Assignment Operators\n",
    "    3. Comparison Operators\n",
    "    4. Logical Operators\n",
    "    5. Identity Operators\n",
    "    6. Membership Operators\n",
    "    7. Bitwise Operators"
   ]
  },
  {
   "cell_type": "code",
   "execution_count": 13,
   "metadata": {},
   "outputs": [
    {
     "name": "stdout",
     "output_type": "stream",
     "text": [
      "The Arithmetic Operaots:\n",
      "\n",
      "Addition:  17 \n",
      "Substraction:  9 \n",
      "Multiplication:  52 \n",
      "Division:  3.25 \n",
      "Modulus:  1 \n",
      "Exponent:  28561 \n",
      "Floor Division:  3\n"
     ]
    }
   ],
   "source": [
    "a = 13\n",
    "b = 4\n",
    "\n",
    "print(\"The Arithmetic Operaots:\\n\\nAddition: \", a+b,\"\\nSubstraction: \",a-b,\"\\nMultiplication: \",\n",
    "      a*b,\"\\nDivision: \",a/b,\"\\nModulus: \",a%b,\"\\nExponent: \",a**b,\"\\nFloor Division: \",a//b)"
   ]
  },
  {
   "cell_type": "code",
   "execution_count": 22,
   "metadata": {},
   "outputs": [
    {
     "name": "stdout",
     "output_type": "stream",
     "text": [
      "The Assignment Operators:\n",
      "\n",
      "\n",
      "Equal: c = a = 13\n",
      "\n",
      "Add: c+=a = 26\n",
      "\n",
      "Subtract: c-=a = 13\n",
      "\n",
      "Multiply: c*=a = 169\n",
      "\n",
      "Divide: c/=a = 13.0\n",
      "\n",
      "Modulus: c%=a = 0.0\n",
      "\n",
      "Exponent: c**=a = 0.0\n",
      "\n",
      "Floor Division: c//=a = 0.0\n"
     ]
    }
   ],
   "source": [
    "print(\"The Assignment Operators:\\n\")\n",
    "c = a\n",
    "print(\"\\nEqual: c = a =\", c)\n",
    "c+=a\n",
    "print(\"\\nAdd: c+=a =\", c)\n",
    "c-=a\n",
    "print(\"\\nSubtract: c-=a =\", c)\n",
    "c*=a\n",
    "print(\"\\nMultiply: c*=a =\", c)\n",
    "c/=a\n",
    "print(\"\\nDivide: c/=a =\", c)\n",
    "c%=a\n",
    "print(\"\\nModulus: c%=a =\", c)\n",
    "c**=a\n",
    "print(\"\\nExponent: c**=a =\", c)\n",
    "c//=a\n",
    "print(\"\\nFloor Division: c//=a =\", c)\n"
   ]
  }
 ],
 "metadata": {
  "kernelspec": {
   "display_name": "Python 3",
   "language": "python",
   "name": "python3"
  },
  "language_info": {
   "codemirror_mode": {
    "name": "ipython",
    "version": 3
   },
   "file_extension": ".py",
   "mimetype": "text/x-python",
   "name": "python",
   "nbconvert_exporter": "python",
   "pygments_lexer": "ipython3",
   "version": "3.11.3"
  },
  "orig_nbformat": 4
 },
 "nbformat": 4,
 "nbformat_minor": 2
}
