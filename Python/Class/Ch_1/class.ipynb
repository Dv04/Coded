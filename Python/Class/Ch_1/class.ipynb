{
 "cells": [
  {
   "cell_type": "markdown",
   "metadata": {},
   "source": [
    "Installation of python, be familiar with python editor and WAP to print ‘Hello World’"
   ]
  },
  {
   "cell_type": "code",
   "execution_count": 13,
   "metadata": {},
   "outputs": [
    {
     "name": "stdout",
     "output_type": "stream",
     "text": [
      "Hello World\n",
      "\n",
      "\n",
      "Original type with value:  <class 'int'> 10\n",
      "First Changed type with value:  <class 'str'> 10\n",
      "Second Changed type with value:  <class 'float'> 10.0\n",
      "Third Changed type with value:  <class 'bool'> True\n",
      "Fourth Changed type with value:  <class 'complex'> (10+0j)\n",
      "\n",
      "\n",
      "List type with value:  <class 'list'> [10, '10', 10.0, True]\n",
      "Nested List type with value:  <class 'list'> [[10, '10', 10.0, True], [10, '10', 10.0, True], [10, '10', 10.0, True]]\n",
      "Tuple type with value:  <class 'tuple'> (10, 10, 10)\n",
      "Set type with value:  <class 'set'> {10}\n",
      "Dictionary type with value:  <class 'dict'> {10: '10'}\n"
     ]
    }
   ],
   "source": [
    "print(\"Hello World\")\n",
    "\n",
    "a = 10\n",
    "print(\"\\n\\nOriginal type with value: \",type(a),a)\n",
    "print(\"First Changed type with value: \",type(str(a)),str(a))\n",
    "print(\"Second Changed type with value: \",type(float(a)),float(a))\n",
    "print(\"Third Changed type with value: \",type(bool(a)),bool(a))\n",
    "print(\"Fourth Changed type with value: \",type(complex(a)),complex(a))\n",
    "\n",
    "li = [a, str(a), float(a), bool(a)]\n",
    "subli = [li,li,li]\n",
    "tu = (a,a,a)\n",
    "se = {a}\n",
    "di = {a:str(a)}\n",
    "\n",
    "print(\"\\n\\nList type with value: \",type(li),li)\n",
    "print(\"Nested List type with value: \",type(subli),subli)\n",
    "print(\"Tuple type with value: \",type(tu),tu)\n",
    "print(\"Set type with value: \",type(se),se)\n",
    "print(\"Dictionary type with value: \",type(di),di)\n"
   ]
  },
  {
   "cell_type": "markdown",
   "metadata": {},
   "source": [
    "Theory:\n",
    "\n",
    "There exists 7 types of operators.\n",
    "Types of Operators:\n",
    "\n",
    "    1. Arithmetic Operators\n",
    "    2. Assignment Operators\n",
    "    3. Comparison Operators\n",
    "    4. Logical Operators\n",
    "    5. Identity Operators\n",
    "    6. Membership Operators\n",
    "    7. Bitwise Operators"
   ]
  },
  {
   "cell_type": "code",
   "execution_count": 3,
   "metadata": {},
   "outputs": [
    {
     "name": "stdout",
     "output_type": "stream",
     "text": [
      "A = 13 B = 4 \n",
      "The Arithmetic Operaots:\n",
      "\n",
      "Addition:  17 \n",
      "Substraction:  9 \n",
      "Multiplication:  52 \n",
      "Division:  3.25 \n",
      "Modulus:  1 \n",
      "Exponent:  28561 \n",
      "Floor Division:  3\n"
     ]
    }
   ],
   "source": [
    "a = 13\n",
    "b = 4\n",
    "\n",
    "print(\"A =\",a,\"B =\",b,\"\\nThe Arithmetic Operaots:\\n\\nAddition: \", a+b,\"\\nSubstraction: \",a-b,\"\\nMultiplication: \",\n",
    "      a*b,\"\\nDivision: \",a/b,\"\\nModulus: \",a%b,\"\\nExponent: \",a**b,\"\\nFloor Division: \",a//b)"
   ]
  },
  {
   "cell_type": "code",
   "execution_count": 4,
   "metadata": {},
   "outputs": [
    {
     "name": "stdout",
     "output_type": "stream",
     "text": [
      "The Assignment Operators:\n",
      "\n",
      "Equal: c = a = 13\n",
      "Add: c+=a = 26\n",
      "Subtract: c-=a = 13\n",
      "Multiply: c*=a = 169\n",
      "Divide: c/=a = 13.0\n",
      "Modulus: c%=a = 0.0\n",
      "Exponent: c**=a = 0.0\n",
      "Floor Division: c//=a = 0.0\n"
     ]
    }
   ],
   "source": [
    "print(\"The Assignment Operators:\\n\")\n",
    "c = a\n",
    "print(\"Equal: c = a =\", c)\n",
    "c+=a\n",
    "print(\"Add: c+=a =\", c)\n",
    "c-=a\n",
    "print(\"Subtract: c-=a =\", c)\n",
    "c*=a\n",
    "print(\"Multiply: c*=a =\", c)\n",
    "c/=a\n",
    "print(\"Divide: c/=a =\", c)\n",
    "c%=a\n",
    "print(\"Modulus: c%=a =\", c)\n",
    "c**=a\n",
    "print(\"Exponent: c**=a =\", c)\n",
    "c//=a\n",
    "print(\"Floor Division: c//=a =\", c)\n"
   ]
  },
  {
   "cell_type": "code",
   "execution_count": 15,
   "metadata": {},
   "outputs": [
    {
     "name": "stdout",
     "output_type": "stream",
     "text": [
      "A = 10 B = 4\n",
      "The Comparison Operators \n",
      "1. == (equal to)\n",
      "a == b is False\n",
      "\n",
      "2. != (not equal to)\n",
      "a != b is True\n",
      "\n",
      "3. > (greater than)\n",
      "a > b is True\n",
      "\n",
      "4. < (less than)\n",
      "a < b is False\n",
      "\n",
      "5. >= (greater than or equal to)\n",
      "a >= b is True\n",
      "\n",
      "6. <= (less than or equal to)\n",
      "a <= b is False\n"
     ]
    }
   ],
   "source": [
    "print(\"A =\",a,\"B =\",b)\n",
    "print(\"The Comparison Operators \")\n",
    "print(\"1. == (equal to)\")\n",
    "print(\"a == b is\",a==b)\n",
    "print(\"\\n2. != (not equal to)\")\n",
    "print(\"a != b is\",a!=b)\n",
    "print(\"\\n3. > (greater than)\")\n",
    "print(\"a > b is\",a>b)\n",
    "print(\"\\n4. < (less than)\")\n",
    "print(\"a < b is\",a<b)\n",
    "print(\"\\n5. >= (greater than or equal to)\")\n",
    "print(\"a >= b is\",a>=b)\n",
    "print(\"\\n6. <= (less than or equal to)\")\n",
    "print(\"a <= b is\",a<=b)\n"
   ]
  },
  {
   "cell_type": "code",
   "execution_count": 31,
   "metadata": {},
   "outputs": [
    {
     "name": "stdout",
     "output_type": "stream",
     "text": [
      "The Logical Operators: And, Or, Not\n",
      "Condition: (a < b) with (a > b) \n",
      "\n",
      "(a < b) AND (a>b): False\n",
      "(a < b) OR (a>b): True\n",
      "NOT (a < b): True\n"
     ]
    }
   ],
   "source": [
    "print(\"The Logical Operators: And, Or, Not\")\n",
    "print(\"Condition: (a < b) with (a > b) \")\n",
    "print(\"\\n(a < b) AND (a>b):\",(a < b) and (a>b))\n",
    "print(\"(a < b) OR (a>b):\",(a < b) or (a>b))\n",
    "print(\"NOT (a < b):\",not(a < b))"
   ]
  },
  {
   "cell_type": "code",
   "execution_count": 37,
   "metadata": {},
   "outputs": [
    {
     "name": "stdout",
     "output_type": "stream",
     "text": [
      "The Identity Operators\n",
      "\n",
      "X = ['apple', 'banana'] \n",
      "Y = ['apple', 'banana'] \n",
      "Z = X, Z = ['apple', 'banana']\n",
      "\n",
      "The is Operator\n",
      "X is Z: True\n",
      "X is Y: False\n",
      "\n",
      "The is not Operator\n",
      "X is not Z: False\n",
      "X is not Y: True\n"
     ]
    }
   ],
   "source": [
    "print(\"The Identity Operators\")\n",
    "x = [\"apple\", \"banana\"]\n",
    "y = [\"apple\", \"banana\"]\n",
    "z = x\n",
    "print(\"\\nX =\",x,\"\\nY =\",y,\"\\nZ = X, Z =\",z)\n",
    "print(\"\\nThe is Operator\")\n",
    "print(\"X is Z:\",x is z)\n",
    "print(\"X is Y:\",x is y)\n",
    "\n",
    "print(\"\\nThe is not Operator\")\n",
    "print(\"X is not Z:\",x is not z)\n",
    "print(\"X is not Y:\",x is not y)"
   ]
  },
  {
   "cell_type": "code",
   "execution_count": 45,
   "metadata": {},
   "outputs": [
    {
     "name": "stdout",
     "output_type": "stream",
     "text": [
      "The Membership Operaots\n",
      "\n",
      "\"in\" in \"intelligent\":  True\n",
      "\"in\" in \"intelligent\" and \"q\" in \"intelligent\": False\n",
      "\n",
      "\"not in\" not in \"intelligent\": True\n",
      "\"not in\" not in \"intelligent\" and \"t\" not in \"intelligent\": False\n"
     ]
    }
   ],
   "source": [
    "print(\"The Membership Operaots\")\n",
    "print('\\n\"in\" in \"intelligent\": ',\"in\" in \"intelligent\")\n",
    "print('\"in\" in \"intelligent\" and \"q\" in \"intelligent\":',\"in\" in \"intelligent\" and \"q\" in \"intelligent\")\n",
    "\n",
    "print('\\n\"not in\" not in \"intelligent\":',\"not in\" not in \"intelligent\")\n",
    "print('\"not in\" not in \"intelligent\" and \"t\" not in \"intelligent\":',\"not in\" not in \"intelligent\" and \"t\" not in \"intelligent\")\n"
   ]
  },
  {
   "cell_type": "code",
   "execution_count": 52,
   "metadata": {},
   "outputs": [
    {
     "name": "stdout",
     "output_type": "stream",
     "text": [
      "The Bitwise Operators\n",
      "A = 6 0b110 \n",
      "B = 3 0b11\n",
      "\n",
      "The Bitwise AND: A & B = 2 0b10\n",
      "The Bitwise OR: A | B = 7 0b111\n",
      "The Bitwise NOT: ~A = -7 -0b111\n",
      "The Bitwise XOR: A ^ B = 5 0b101\n",
      "The Bitwise Left Shift: A << 2 = 24 0b11000\n",
      "The Bitwise Right Shift: A >> 2 = 1 0b1\n"
     ]
    }
   ],
   "source": [
    "print(\"The Bitwise Operators\")\n",
    "a,b=6,3\n",
    "print(\"A =\",a,bin(a),\"\\nB =\",b,bin(b))\n",
    "print(\"\\nThe Bitwise AND: A & B =\",(a&b),bin(a&b))\n",
    "print(\"The Bitwise OR: A | B =\",(a|b),bin(a|b))\n",
    "print(\"The Bitwise NOT: ~A =\",(~a),bin(~a))\n",
    "print(\"The Bitwise XOR: A ^ B =\",(a^b),bin(a^b))\n",
    "print(\"The Bitwise Left Shift: A << 2 =\",(a<<2),bin(a<<2))\n",
    "print(\"The Bitwise Right Shift: A >> 2 =\",(a>>2),bin(a>>2))\n"
   ]
  }
 ],
 "metadata": {
  "kernelspec": {
   "display_name": "Python 3",
   "language": "python",
   "name": "python3"
  },
  "language_info": {
   "codemirror_mode": {
    "name": "ipython",
    "version": 3
   },
   "file_extension": ".py",
   "mimetype": "text/x-python",
   "name": "python",
   "nbconvert_exporter": "python",
   "pygments_lexer": "ipython3",
   "version": "3.11.3"
  },
  "orig_nbformat": 4
 },
 "nbformat": 4,
 "nbformat_minor": 2
}
