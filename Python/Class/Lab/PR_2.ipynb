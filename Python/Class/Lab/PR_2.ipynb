{
 "cells": [
  {
   "cell_type": "markdown",
   "metadata": {},
   "source": [
    "# Practical 2\n",
    "\n",
    "To understand the uses of strings"
   ]
  },
  {
   "cell_type": "markdown",
   "metadata": {},
   "source": [
    "To study various inbuilt functions in string\n",
    "\n",
    "String functions in Python are a set of built-in methods that can be used to manipulate strings. These functions can be used to perform a variety of tasks, such as:\n",
    "\n",
    "Converting a string to uppercase or lowercase.  \n",
    "Finding the location of a substring in a string.  \n",
    "Replacing all occurrences of a substring in a string with another substring.  \n",
    "Splitting a string into a list of substrings.  \n",
    "Joining a list of strings into a single string.  \n",
    "Trimming whitespace from a string, etc.  "
   ]
  },
  {
   "cell_type": "markdown",
   "metadata": {},
   "source": [
    "We will discuss the following functions here:  \n",
    "1. title() - This in-built function is used to convert string to titular case.  \n",
    "2. isalnum() - This in-built function is used to check if the string has alphabetic as well as numeric characters or not.\n",
    "3. find() - This in-built function is used to find a particular character in string.  \n",
    "4. index() - This in-built function is used to find a character at a particular index.  \n",
    "5. isupper() - This in-built function is used to check if the complete string is upper-case or not.  "
   ]
  },
  {
   "cell_type": "code",
   "execution_count": 5,
   "metadata": {},
   "outputs": [
    {
     "name": "stdout",
     "output_type": "stream",
     "text": [
      "Original: A Trial String is this\n",
      "title(): A Trial String Is This\n",
      "isalnum(): False\n",
      "find(): -1\n",
      "index(): 15\n",
      "isupper(): False\n"
     ]
    }
   ],
   "source": [
    "\n",
    "example = \"A Trial String is this\"\n",
    "\n",
    "print(f\"Original: {example}\")\n",
    "\n",
    "\n",
    "title = example.title()\n",
    "print(f\"title(): {title}\")\n",
    "\n",
    "isalnum = example.isalnum()\n",
    "print(f\"isalnum(): {isalnum}\")\n",
    "\n",
    "find = example.find('-')\n",
    "print(f\"find(): {find}\")\n",
    "\n",
    "index = example.index('is')\n",
    "print(f\"index(): {index}\")\n",
    "\n",
    "upper = example.isupper()\n",
    "print(f\"isupper(): {upper}\")"
   ]
  },
  {
   "cell_type": "markdown",
   "metadata": {},
   "source": [
    "Create a string that contains hyphens(-) and write a program to split the given string based on hypens(-) and display each substring"
   ]
  },
  {
   "cell_type": "code",
   "execution_count": 6,
   "metadata": {},
   "outputs": [
    {
     "name": "stdout",
     "output_type": "stream",
     "text": [
      "Original: A Trial String is this\n",
      "After splitting: ['A Trial String ', ' th', '']\n"
     ]
    }
   ],
   "source": [
    "example = \"A Trial String is this\"\n",
    "split_example = example.split(sep='is')\n",
    "print(f\"Original: {example}\")\n",
    "print(f\"After splitting: {split_example}\")"
   ]
  },
  {
   "cell_type": "markdown",
   "metadata": {},
   "source": [
    "Write a program to reverse a string in python using 5 different ways"
   ]
  },
  {
   "cell_type": "code",
   "execution_count": 8,
   "metadata": {},
   "outputs": [
    {
     "name": "stdout",
     "output_type": "stream",
     "text": [
      "Orginal String: A Trial String is this\n",
      "(Using Slicing): siht si gnirtS lairT A\n",
      "(Using 'reversed'): siht si gnirtS lairT A\n",
      "(Using for loop): siht si gnirtS lairT A\n",
      "(Using while loop): siht si gnirtS lairT A\n",
      "(Using a Recursive function): siht si gnirtS lairT A\n"
     ]
    }
   ],
   "source": [
    "\n",
    "example = \"A Trial String is this\"\n",
    "print(f\"Orginal String: {example}\")\n",
    "\n",
    "print(f\"(Using Slicing): {example[::-1]}\")\n",
    "\n",
    "print((f\"(Using 'reversed'): {''.join(reversed(example))}\"))\n",
    "\n",
    "new = \"\"\n",
    "for _ in range(len(example) - 1, -1, -1):\n",
    "    new += example[_]\n",
    "print(f\"(Using for loop): {new}\")\n",
    "\n",
    "new = \"\"\n",
    "i = len(example) - 1\n",
    "while i >= 0:\n",
    "    new += example[i]\n",
    "    i -= 1\n",
    "print(f\"(Using while loop): {new}\")\n",
    "\n",
    "def reverse_string(reverese_string):\n",
    "    if len(reverese_string) == 0:\n",
    "        return \"\"\n",
    "    else:\n",
    "        return reverese_string[-1] + reverse_string(reverese_string[:-1])\n",
    "\n",
    "print(f\"(Using a Recursive function): {reverse_string(example)}\")"
   ]
  },
  {
   "cell_type": "markdown",
   "metadata": {},
   "source": [
    "Write a program to find the last position of a substring \"Dev\" in the given string"
   ]
  },
  {
   "cell_type": "code",
   "execution_count": 10,
   "metadata": {},
   "outputs": [
    {
     "name": "stdout",
     "output_type": "stream",
     "text": [
      "Last occurence of 'Dev' found at: 35\n"
     ]
    }
   ],
   "source": [
    "example = \"Dev is a student. Dev studies CSE. Dev lives in India.\"\n",
    "\n",
    "find_example = example.rfind('Dev')\n",
    "print(f\"Last occurence of 'Dev' found at: {find_example}\")"
   ]
  },
  {
   "cell_type": "markdown",
   "metadata": {},
   "source": [
    "Write a python program to change a given string to a newly string where the first and last characters have been exchanged"
   ]
  },
  {
   "cell_type": "code",
   "execution_count": 49,
   "metadata": {},
   "outputs": [
    {
     "name": "stdout",
     "output_type": "stream",
     "text": [
      "After swapping: gnother StrinA\n"
     ]
    }
   ],
   "source": [
    "example = \"A Trial String is this\"\n",
    "\n",
    "swap = example[-1] + example[1:-1] + example[0]\n",
    "\n",
    "print(f\"After swapping: {swap}\")"
   ]
  },
  {
   "cell_type": "markdown",
   "metadata": {},
   "source": [
    "Write a python program that takes input from the user and displays that input back in upper and lower cases"
   ]
  },
  {
   "cell_type": "code",
   "execution_count": 12,
   "metadata": {},
   "outputs": [
    {
     "name": "stdout",
     "output_type": "stream",
     "text": [
      "Input String: A Trial String is this\n",
      "Upper-case: A TRIAL STRING IS THIS\n",
      "Lower-case: a trial string is this\n"
     ]
    }
   ],
   "source": [
    "example = input(\"Enter a string: \")\n",
    "print(f\"Input String: {example}\")\n",
    "print(f\"Upper-case: {example.upper()}\")\n",
    "print(f\"Lower-case: {example.lower()}\")"
   ]
  },
  {
   "cell_type": "markdown",
   "metadata": {},
   "source": [
    "Write a program to swap comma(,) and full-stop(.) in a string"
   ]
  },
  {
   "cell_type": "code",
   "execution_count": 13,
   "metadata": {},
   "outputs": [
    {
     "name": "stdout",
     "output_type": "stream",
     "text": [
      "After swapping: There are 26 Alphabets, Some of the characters are a. b. etc,\n"
     ]
    }
   ],
   "source": [
    "example = \"There are 26 Alphabets. Some of the characters are a, b, etc.\"\n",
    "swap = example.replace(',', '@')\n",
    "swap = swap.replace('.', ',')\n",
    "swap = swap.replace('@', '.')\n",
    "print(f\"After swapping: {swap}\")"
   ]
  },
  {
   "cell_type": "markdown",
   "metadata": {},
   "source": [
    "Create a string made up of first, middle and last character of another string"
   ]
  },
  {
   "cell_type": "code",
   "execution_count": 14,
   "metadata": {},
   "outputs": [
    {
     "name": "stdout",
     "output_type": "stream",
     "text": [
      "Input string with odd number of characters: A Trial String is this\n",
      "New string: Ars\n"
     ]
    }
   ],
   "source": [
    "example = input(\"Enter a string with odd number of characters: \")\n",
    "new = example[0] + example[(len(example) - 1)//2] + example[-1]\n",
    "print(f\"Input string with odd number of characters: {example}\")\n",
    "print(f\"New string: {new}\")"
   ]
  },
  {
   "cell_type": "markdown",
   "metadata": {},
   "source": [
    "Given two strings S1 and S2, write a program to create a new string S3 by appending S2 in the middle of S1."
   ]
  },
  {
   "cell_type": "code",
   "execution_count": 16,
   "metadata": {},
   "outputs": [
    {
     "name": "stdout",
     "output_type": "stream",
     "text": [
      "S1: This is a string\n",
      "S2:  not\n",
      "S3: This is not a string\n"
     ]
    }
   ],
   "source": [
    "S1 = \"This is a string\"\n",
    "S2 = \" not\"\n",
    "S3 = S1[0: (len(S1) - 1)//2] + S2 + S1[(len(S1) - 1)//2:]\n",
    "print(f\"S1: {S1}\")\n",
    "print(f\"S2: {S2}\")\n",
    "print(f\"S3: {S3}\")"
   ]
  },
  {
   "cell_type": "markdown",
   "metadata": {},
   "source": [
    "Write a python program to get a single string from two given strings, seperated by a space and swap the first two characters of each string."
   ]
  },
  {
   "cell_type": "code",
   "execution_count": 15,
   "metadata": {},
   "outputs": [
    {
     "name": "stdout",
     "output_type": "stream",
     "text": [
      "Original String: String Not String\n",
      "String after Swapping: Ntring Sot String\n"
     ]
    }
   ],
   "source": [
    "# Strings\n",
    "example = \"String\"\n",
    "two_ex = \"Not String\"\n",
    "\n",
    "# Joining the strings\n",
    "swap = ' '.join([example, two_ex])\n",
    "\n",
    "# Performing swapping of first characters of both the original string in the new string using indexing\n",
    "new_swap = swap[len(example) + 1] + swap[1:len(example) + 1] + swap[0] + swap[len(example) + 2:]\n",
    "\n",
    "# Output\n",
    "print(f\"Original String: {swap}\")\n",
    "print(f\"String after Swapping: {new_swap}\")"
   ]
  }
 ],
 "metadata": {
  "kernelspec": {
   "display_name": "venv",
   "language": "python",
   "name": "python3"
  },
  "language_info": {
   "codemirror_mode": {
    "name": "ipython",
    "version": 3
   },
   "file_extension": ".py",
   "mimetype": "text/x-python",
   "name": "python",
   "nbconvert_exporter": "python",
   "pygments_lexer": "ipython3",
   "version": "3.11.5"
  },
  "orig_nbformat": 4
 },
 "nbformat": 4,
 "nbformat_minor": 2
}
