{
 "cells": [
  {
   "cell_type": "code",
   "execution_count": 1,
   "metadata": {},
   "outputs": [
    {
     "name": "stdout",
     "output_type": "stream",
     "text": [
      "Hello World\n"
     ]
    }
   ],
   "source": [
    "print(\"Hello World\")"
   ]
  },
  {
   "cell_type": "code",
   "execution_count": 3,
   "metadata": {},
   "outputs": [
    {
     "name": "stdout",
     "output_type": "stream",
     "text": [
      "HelloWorld\n",
      "Hello World\n"
     ]
    }
   ],
   "source": [
    "a = \"Hello\"\n",
    "b = \"World\"\n",
    "\n",
    "print(a+b)\n",
    "print(a,b)"
   ]
  },
  {
   "cell_type": "code",
   "execution_count": 2,
   "metadata": {},
   "outputs": [
    {
     "name": "stdout",
     "output_type": "stream",
     "text": [
      "HelloWorld\n"
     ]
    }
   ],
   "source": [
    "a = input()\n",
    "b = input()\n",
    "\n",
    "print(a+b)"
   ]
  },
  {
   "cell_type": "code",
   "execution_count": 5,
   "metadata": {},
   "outputs": [
    {
     "name": "stdout",
     "output_type": "stream",
     "text": [
      "48\n",
      "Addition is:  12\n"
     ]
    }
   ],
   "source": [
    "a = input(\"Enter your first number: \")\n",
    "b = input(\"Enter your second number: \")\n",
    "\n",
    "print(a+b)\n",
    "\n",
    "a, b = int(a), int(b)\n",
    "\n",
    "print(\"Addition is: \",a+b)"
   ]
  },
  {
   "cell_type": "code",
   "execution_count": 6,
   "metadata": {},
   "outputs": [
    {
     "name": "stdout",
     "output_type": "stream",
     "text": [
      "Addition is:  12.0\n",
      "Subtraction is:  -4.0\n",
      "Multiplication is:  32.0\n",
      "Division is:  0.5\n",
      "Modulus is:  4.0\n",
      "Power is:  65536.0\n",
      "Floor Division is:  0.0\n",
      "Square Root of a is:  2.0\n",
      "Square Root of b is:  2.8284271247461903\n",
      "Log of a is:  1.3862943611198906\n",
      "Log of b is:  2.0794415416798357\n",
      "Square of a is:  16.0\n",
      "Square of b is:  64.0\n"
     ]
    }
   ],
   "source": [
    "# Write a Program of calculator with multiple functions\n",
    "import math as m\n",
    "\n",
    "a = float(input(\"Enter your first number: \"))\n",
    "b = float(input(\"Enter your second number: \"))\n",
    "\n",
    "print(\"Addition is: \",a+b)\n",
    "print(\"Subtraction is: \",a-b)\n",
    "print(\"Multiplication is: \",a*b)\n",
    "print(\"Division is: \",a/b)\n",
    "print(\"Modulus is: \",a%b)\n",
    "print(\"Power is: \",a**b)\n",
    "print(\"Floor Division is: \",a//b)\n",
    "print(\"Square Root of a is: \",m.sqrt(a))\n",
    "print(\"Square Root of b is: \",m.sqrt(b))\n",
    "print(\"Log of a is: \",m.log(a))\n",
    "print(\"Log of b is: \",m.log(b))\n",
    "print(\"Square of a is: \",m.pow(a,2))\n",
    "print(\"Square of b is: \",m.pow(b,2))"
   ]
  },
  {
   "cell_type": "code",
   "execution_count": 7,
   "metadata": {},
   "outputs": [
    {
     "name": "stdout",
     "output_type": "stream",
     "text": [
      "Square Root of a is:  2.0\n",
      "Square Root of b is:  2.8284271247461903\n"
     ]
    }
   ],
   "source": [
    "op = input(\"Input + for addition\\nInput - for subtraction\\nInput * for multiplication\\nInput / for division\\nInput %% for modulus\\nInput ** for power\\nInput // for floor division\\nInput sqrt for square root\\nInput log for log\\nInput pow for power\\nInput square for square\\nEnter your operator: \")\n",
    "\n",
    "if op == '+':\n",
    "    print(\"Addition is: \",a+b)\n",
    "elif op == '-':\n",
    "    print(\"Subtraction is: \",a-b)\n",
    "elif op == '*':\n",
    "    print(\"Multiplication is: \",a*b)\n",
    "elif op == '/':\n",
    "    print(\"Division is: \",a/b)\n",
    "elif op == '%':\n",
    "    print(\"Modulus is: \",a%b)\n",
    "elif op == '**':\n",
    "    print(\"Power is: \",a**b)\n",
    "elif op == '//':\n",
    "    print(\"Floor Division is: \",a//b)\n",
    "elif op == 'sqrt':\n",
    "    print(\"Square Root of a is: \",m.sqrt(a))\n",
    "    print(\"Square Root of b is: \",m.sqrt(b))\n",
    "elif op == 'log':\n",
    "    print(\"Log of a is: \",m.log(a))\n",
    "    print(\"Log of b is: \",m.log(b))\n",
    "elif op == 'pow':\n",
    "    print(\"Square of a with b is: \",m.pow(a,b))\n",
    "    print(\"Square of b with a is: \",m.pow(b,a))\n",
    "elif op == 'square':\n",
    "    print(\"Square of a is: \",m.pow(a,2))\n",
    "    print(\"Square of b is: \",m.pow(b,2))\n",
    "else:\n",
    "    print(\"Invalid Operator\")"
   ]
  },
  {
   "cell_type": "code",
   "execution_count": 11,
   "metadata": {},
   "outputs": [
    {
     "name": "stdout",
     "output_type": "stream",
     "text": [
      "lo World\n",
      "Hello W\n",
      "lo W\n",
      "d\n",
      "dlroW olleH\n",
      "[4, 5, 6, 7, 8, 9]\n",
      "[1, 2, 3, 4, 5, 6, 7]\n",
      "[4, 5, 6, 7]\n",
      "9\n",
      "[9, 8, 7, 6, 5, 4, 3, 2, 1]\n",
      "(4, 5, 6, 7, 8, 9)\n",
      "(1, 2, 3, 4, 5, 6, 7)\n",
      "(4, 5, 6, 7)\n",
      "9\n",
      "(9, 8, 7, 6, 5, 4, 3, 2, 1)\n"
     ]
    }
   ],
   "source": [
    "# WAP to slice string, list and tuple\n",
    "\n",
    "a = \"Hello World\"\n",
    "b = [1,2,3,4,5,6,7,8,9]\n",
    "c = (1,2,3,4,5,6,7,8,9)\n",
    "\n",
    "print(a[3:])\n",
    "print(a[:7])\n",
    "print(a[3:7])\n",
    "print(a[-1])\n",
    "print(a[::-1])\n",
    "\n",
    "print(b[3:])\n",
    "print(b[:7])\n",
    "print(b[3:7])\n",
    "print(b[-1])\n",
    "print(b[::-1])\n",
    "\n",
    "print(c[3:])\n",
    "print(c[:7])\n",
    "print(c[3:7])\n",
    "print(c[-1])\n",
    "print(c[::-1])"
   ]
  },
  {
   "cell_type": "code",
   "execution_count": 14,
   "metadata": {},
   "outputs": [
    {
     "name": "stdout",
     "output_type": "stream",
     "text": [
      "Hi I amDev Sanghvi\n",
      "Hi I am Dev Sanghvi\n",
      "Hi I amHi I am\n",
      "Dev SanghviDev SanghviDev Sanghvi\n"
     ]
    }
   ],
   "source": [
    "# String Operations\n",
    "\n",
    "a = \"Hi I am\"\n",
    "b = \"Dev Sanghvi\"\n",
    "\n",
    "print(a+b)\n",
    "print(a,b)\n",
    "print(a*2)\n",
    "print(b*3)"
   ]
  },
  {
   "cell_type": "code",
   "execution_count": 19,
   "metadata": {},
   "outputs": [
    {
     "name": "stdout",
     "output_type": "stream",
     "text": [
      "('World', 23, 49.95, 'Good')\n",
      "('Hello', 'World', 23)\n",
      "('World', 23)\n",
      "Good\n",
      "('Good', 49.95, 23, 'World', 'Hello')\n",
      "('Hello', 'World', 23, 49.95, 'Good', 50, '10:40 AM')\n",
      "('Hello', 'World', 23, 49.95, 'Good') (50, '10:40 AM')\n",
      "('Hello', 'World', 23, 49.95, 'Good', 'Hello', 'World', 23, 49.95, 'Good', 'Hello', 'World', 23, 49.95, 'Good')\n",
      "(50, '10:40 AM', 50, '10:40 AM')\n"
     ]
    }
   ],
   "source": [
    "tup = (\"Hello\",\"World\",23,49.95,\"Good\")\n",
    "tup2 = (50, \"10:40 AM\")\n",
    "\n",
    "print(tup[1:])\n",
    "print(tup[:3])\n",
    "print(tup[1:3])\n",
    "print(tup[-1])\n",
    "print(tup[::-1])\n",
    "print(tup+tup2)\n",
    "print(tup,tup2)\n",
    "print(tup*3)\n",
    "print(tup2*2)"
   ]
  },
  {
   "cell_type": "code",
   "execution_count": 17,
   "metadata": {},
   "outputs": [
    {
     "name": "stdout",
     "output_type": "stream",
     "text": [
      "['World', 23, 49.95, 'Good']\n",
      "['Hello', 'World', 23]\n",
      "['World', 23]\n",
      "Good\n",
      "['Good', 49.95, 23, 'World', 'Hello']\n",
      "['Hello', 'World', 23, 49.95, 'Good', 50, '10:40 AM']\n",
      "['Hello', 'World', 23, 49.95, 'Good'] [50, '10:40 AM']\n",
      "['Hello', 'World', 23, 49.95, 'Good', 'Hello', 'World', 23, 49.95, 'Good', 'Hello', 'World', 23, 49.95, 'Good']\n",
      "[50, '10:40 AM', 50, '10:40 AM']\n"
     ]
    }
   ],
   "source": [
    "li = [\"Hello\",\"World\",23,49.95,\"Good\"]\n",
    "li2 = [50, \"10:40 AM\"]\n",
    "\n",
    "print(li[1:])\n",
    "print(li[:3])\n",
    "print(li[1:3])\n",
    "print(li[-1])\n",
    "print(li[::-1])\n",
    "print(li+li2)\n",
    "print(li,li2)\n",
    "print(li*3)\n",
    "print(li2*2)"
   ]
  },
  {
   "cell_type": "code",
   "execution_count": 28,
   "metadata": {},
   "outputs": [
    {
     "name": "stdout",
     "output_type": "stream",
     "text": [
      "Total price:  23000.0\n",
      "Discount:  23000.0\n",
      "Value after Discount:  0.0\n",
      "Tax:  0.0\n",
      "Total Bill Amount is:  0.0\n"
     ]
    }
   ],
   "source": [
    "# Write a program to calculate bill amount for given item where given quantity sold, value/price, discount and tax\n",
    "\n",
    "q = int(input(\"Enter quantity: \"))\n",
    "p = float(input(\"Enter price: \"))\n",
    "d = float(input(\"Enter discount: \"))\n",
    "t = float(input(\"Enter tax: \"))\n",
    "\n",
    "print(\"Total price: \",q*p)\n",
    "print(\"Discount: \",(q*p)*d/100)\n",
    "print(\"Value after Discount: \",(q*p)-(q*p)*d/100)\n",
    "print(\"Tax: \",((q*p)-(q*p)*d/100)*t/100)\n",
    "\n",
    "print(\"Total Bill Amount is: \",(q*p)-((q*p)*d/100)+((q*p)-(q*p)*d/100)*t/100)"
   ]
  },
  {
   "cell_type": "code",
   "execution_count": 29,
   "metadata": {},
   "outputs": [
    {
     "name": "stdout",
     "output_type": "stream",
     "text": [
      "Mean is:  4.931034482758621\n",
      "Median is:  5\n",
      "Mode is:  6\n"
     ]
    }
   ],
   "source": [
    "# WAP to calculate Mean, Median, and Mode.\n",
    "\n",
    "a = map(int,input(\"Enter your numbers: \").split())\n",
    "\n",
    "li = list(a)\n",
    "n = len(li)\n",
    "\n",
    "print(\"Mean is: \",sum(li)/n)\n",
    "\n",
    "li.sort()\n",
    "print(\"Median is: \",li[n//2])\n",
    "\n",
    "d = {}\n",
    "for i in li:\n",
    "    d[i] = d.get(i,0)+1\n",
    "    \n",
    "print(\"Mode is: \",max(d,key=d.get))"
   ]
  },
  {
   "cell_type": "code",
   "execution_count": 33,
   "metadata": {},
   "outputs": [
    {
     "name": "stdout",
     "output_type": "stream",
     "text": [
      "- -10\n"
     ]
    }
   ],
   "source": [
    "a = int(input(\"Enter your number: \"))\n",
    "\n",
    "if a>0:\n",
    "    print(\"+\",a)\n",
    "elif a<0:\n",
    "    print(a)\n",
    "else:\n",
    "    print(\"0\",a)"
   ]
  },
  {
   "cell_type": "code",
   "execution_count": 37,
   "metadata": {},
   "outputs": [
    {
     "name": "stdout",
     "output_type": "stream",
     "text": [
      "Grade B\n"
     ]
    }
   ],
   "source": [
    "grade = int(float(input(\"Enter your grade: \"))//1)\n",
    "\n",
    "if grade>=95:\n",
    "    print(\"Grade A+\")\n",
    "elif grade>=85:\n",
    "    print(\"Grade A\")\n",
    "elif grade>=70:\n",
    "    print(\"Grade B\")\n",
    "elif grade>=50:\n",
    "    print(\"Grade C\")\n",
    "elif grade>=33:\n",
    "    print(\"Grade D\")\n",
    "else:\n",
    "    print(\"Fail\")"
   ]
  }
 ],
 "metadata": {
  "kernelspec": {
   "display_name": "Python 3",
   "language": "python",
   "name": "python3"
  },
  "language_info": {
   "codemirror_mode": {
    "name": "ipython",
    "version": 3
   },
   "file_extension": ".py",
   "mimetype": "text/x-python",
   "name": "python",
   "nbconvert_exporter": "python",
   "pygments_lexer": "ipython3",
   "version": "3.11.3"
  },
  "orig_nbformat": 4
 },
 "nbformat": 4,
 "nbformat_minor": 2
}
