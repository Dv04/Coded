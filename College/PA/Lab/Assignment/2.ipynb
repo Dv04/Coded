{
 "cells": [
  {
   "cell_type": "code",
   "execution_count": 2,
   "metadata": {},
   "outputs": [],
   "source": [
    "Area = [1.1, 1.5, 1.6, 1.6, 1.4, 1.3, 1.1, 1.7, 1.9, 1.5, 1.3]\n",
    "Value = [75, 95, 110, 102, 95, 87, 82, 115, 122, 98, 90]\n",
    "# a.\tEstimate the Least Squares Regression to predict appraised value from area.\n",
    "# b.\t Predict the value for the size of the home whose area is 1.8.\n",
    "# c.\t What is the standard error of estimate.\n",
    "# d.\tPredict the value for the size of the home whose area is 2.3."
   ]
  },
  {
   "cell_type": "code",
   "execution_count": 3,
   "metadata": {},
   "outputs": [
    {
     "name": "stdout",
     "output_type": "stream",
     "text": [
      "Area: 1.1, Actual Value: 75, Predicted Value: 77.52395209580838\n",
      "Area: 1.5, Actual Value: 95, Predicted Value: 99.90718562874251\n",
      "Area: 1.6, Actual Value: 110, Predicted Value: 105.50299401197604\n",
      "Area: 1.6, Actual Value: 102, Predicted Value: 105.50299401197604\n",
      "Area: 1.4, Actual Value: 95, Predicted Value: 94.31137724550896\n",
      "Area: 1.3, Actual Value: 87, Predicted Value: 88.71556886227545\n",
      "Area: 1.1, Actual Value: 82, Predicted Value: 77.52395209580838\n",
      "Area: 1.7, Actual Value: 115, Predicted Value: 111.09880239520957\n",
      "Area: 1.9, Actual Value: 122, Predicted Value: 122.29041916167664\n",
      "Area: 1.5, Actual Value: 98, Predicted Value: 99.90718562874251\n",
      "Area: 1.3, Actual Value: 90, Predicted Value: 88.71556886227545\n",
      "Slope (m): 55.958083832335326\n",
      "Intercept (c): 15.970059880239518\n",
      "The equation is: y =  55.958083832335326 * x +  15.970059880239518\n"
     ]
    }
   ],
   "source": [
    "import numpy as np\n",
    "import math\n",
    "\n",
    "# Convert lists to numpy arrays\n",
    "Area_np = np.array(Area)\n",
    "Value_np = np.array(Value)\n",
    "\n",
    "# Mean X and Y\n",
    "mean_x = np.mean(Area_np)\n",
    "mean_y = np.mean(Value_np)\n",
    "\n",
    "# Total number of values\n",
    "n = len(Area_np)\n",
    "\n",
    "# Using the formula to calculate m and c\n",
    "numer = 0\n",
    "denom = 0\n",
    "\n",
    "for i in range(n):\n",
    "    numer += (Area_np[i] - mean_x) * (Value_np[i] - mean_y)\n",
    "    denom += (Area_np[i] - mean_x) ** 2\n",
    "m = numer / denom\n",
    "c = mean_y - (m * mean_x)\n",
    "\n",
    "# Predicted values\n",
    "predicted_values = m * Area_np + c\n",
    "\n",
    "# Print predicted and actual values for the first 5 data points\n",
    "for i in range(len(Area_np)):\n",
    "    print(f\"Area: {Area_np[i]}, Actual Value: {Value_np[i]}, Predicted Value: {predicted_values[i]}\")\n",
    "\n",
    "# Print coefficients\n",
    "print(\"\\n\\nSlope (m):\", m)\n",
    "print(\"Intercept (c):\", c)\n",
    "\n",
    "# Print Equation\n",
    "print(\"The equation is: y = \", m, \"* x + \", c)"
   ]
  },
  {
   "cell_type": "code",
   "execution_count": 4,
   "metadata": {},
   "outputs": [
    {
     "name": "stdout",
     "output_type": "stream",
     "text": [
      "Predicted value for home of size 1.8: 116.6946107784431\n",
      "Standard error of estimate: 3.118683054695535\n",
      "Predicted value for home of size 2.3: 144.67365269461075\n"
     ]
    }
   ],
   "source": [
    "# b. Predict the value for the size of the home whose area is 1.8\n",
    "area_1_8 = np.array([1.8])\n",
    "predicted_value_1_8 = m * area_1_8 + c\n",
    "print(\"Predicted value for home of size 1.8:\", predicted_value_1_8[0])\n",
    "\n",
    "# c. What is the standard error of estimate\n",
    "Value_pred = m * Area_np + c\n",
    "mse = np.mean((Value_np - Value_pred) ** 2)\n",
    "standard_error = math.sqrt(mse)\n",
    "print(\"Standard error of estimate:\", standard_error)\n",
    "\n",
    "# d. Predict the value for the size of the home whose area is 2.3\n",
    "area_2_3 = np.array([2.3])\n",
    "predicted_value_2_3 = m * area_2_3 + c\n",
    "print(\"Predicted value for home of size 2.3:\", predicted_value_2_3[0])"
   ]
  },
  {
   "cell_type": "code",
   "execution_count": 5,
   "metadata": {},
   "outputs": [
    {
     "name": "stdout",
     "output_type": "stream",
     "text": [
      "Evaluation parameters:\n",
      "Value_np: [ 75  95 110 102  95  87  82 115 122  98  90]\n",
      "Value_pred: [ 77.5239521   99.90718563 105.50299401 105.50299401  94.31137725\n",
      "  88.71556886  77.5239521  111.0988024  122.29041916  99.90718563\n",
      "  88.71556886]\n",
      "mse: 9.726183995645075\n",
      "standard_error: 3.118683054695535\n"
     ]
    }
   ],
   "source": [
    "# Print the evaluation parameters\n",
    "print(\"Evaluation parameters:\") \n",
    "print(\"Value_np:\", Value_np) \n",
    "print(\"Value_pred:\", Value_pred)\n",
    "print(\"mse:\", mse) \n",
    "print(\"standard_error:\", standard_error)\n"
   ]
  }
 ],
 "metadata": {
  "kernelspec": {
   "display_name": "Python 3",
   "language": "python",
   "name": "python3"
  },
  "language_info": {
   "codemirror_mode": {
    "name": "ipython",
    "version": 3
   },
   "file_extension": ".py",
   "mimetype": "text/x-python",
   "name": "python",
   "nbconvert_exporter": "python",
   "pygments_lexer": "ipython3",
   "version": "3.11.5"
  }
 },
 "nbformat": 4,
 "nbformat_minor": 2
}
