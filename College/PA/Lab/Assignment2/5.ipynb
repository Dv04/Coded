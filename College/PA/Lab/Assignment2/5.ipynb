{
 "cells": [
  {
   "cell_type": "code",
   "execution_count": 2,
   "metadata": {},
   "outputs": [
    {
     "name": "stdout",
     "output_type": "stream",
     "text": [
      "Accuracy: 21.52%\n"
     ]
    }
   ],
   "source": [
    "# Importing required libraries\n",
    "import numpy as np\n",
    "import pandas as pd\n",
    "from sklearn.ensemble import GradientBoostingClassifier\n",
    "from sklearn.model_selection import train_test_split\n",
    "from sklearn.metrics import accuracy_score\n",
    "from sklearn.preprocessing import LabelEncoder\n",
    "\n",
    "# Sample dataset (replace this with your actual dataset)\n",
    "data = pd.read_csv('auto-mpg.csv')\n",
    "\n",
    "# drop the rows having NaN values\n",
    "data = data.dropna().values\n",
    "\n",
    "# Drop rows having '?' in 'horsepower' column\n",
    "data = data[data[:, 3] != '?']\n",
    "\n",
    "# Encoding categorical data\n",
    "labelencoder = LabelEncoder()\n",
    "data[:, 8] = labelencoder.fit_transform(data[:, 8])\n",
    "\n",
    "# Converting the datatype of columns from object to integer\n",
    "data = data.astype(int)\n",
    "\n",
    "# Extracting features and target variable\n",
    "X = data[:, 1:]  # Features\n",
    "y = data[:, 0]   # Target variable\n",
    "\n",
    "# Splitting the dataset into the Training set and Test set\n",
    "X_train, X_test, y_train, y_test = train_test_split(X, y, test_size=0.2, random_state=42)\n",
    "\n",
    "# Fitting Gradient Boosting Classification to the Training set\n",
    "classifier = GradientBoostingClassifier(n_estimators=45, criterion='friedman_mse', random_state=42)\n",
    "classifier.fit(X_train, y_train)\n",
    "\n",
    "# Predicting the Test set results\n",
    "y_pred = classifier.predict(X_test)\n",
    "\n",
    "# Calculating accuracy\n",
    "accuracy = accuracy_score(y_test, y_pred)\n",
    "print(f'Accuracy: {accuracy * 100:.2f}%')\n"
   ]
  }
 ],
 "metadata": {
  "kernelspec": {
   "display_name": "Python 3",
   "language": "python",
   "name": "python3"
  },
  "language_info": {
   "codemirror_mode": {
    "name": "ipython",
    "version": 3
   },
   "file_extension": ".py",
   "mimetype": "text/x-python",
   "name": "python",
   "nbconvert_exporter": "python",
   "pygments_lexer": "ipython3",
   "version": "3.11.5"
  }
 },
 "nbformat": 4,
 "nbformat_minor": 2
}
