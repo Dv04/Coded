{
 "cells": [
  {
   "cell_type": "code",
   "execution_count": 2,
   "metadata": {},
   "outputs": [
    {
     "name": "stdout",
     "output_type": "stream",
     "text": [
      "Accuracy: 0.9354838709677419\n",
      "Classification report:\n",
      "              precision    recall  f1-score   support\n",
      "\n",
      "           1       1.00      1.00      1.00        15\n",
      "           2       1.00      1.00      1.00         3\n",
      "           3       0.50      1.00      0.67         1\n",
      "           4       1.00      1.00      1.00         2\n",
      "           5       1.00      0.50      0.67         2\n",
      "           6       0.83      1.00      0.91         5\n",
      "           7       1.00      0.67      0.80         3\n",
      "\n",
      "    accuracy                           0.94        31\n",
      "   macro avg       0.90      0.88      0.86        31\n",
      "weighted avg       0.96      0.94      0.93        31\n",
      "\n"
     ]
    }
   ],
   "source": [
    "import pandas as pd\n",
    "from sklearn.neighbors import KNeighborsClassifier\n",
    "from sklearn.model_selection import train_test_split\n",
    "from sklearn.metrics import classification_report, accuracy_score\n",
    "from sklearn.preprocessing import StandardScaler\n",
    "from sklearn.preprocessing import LabelEncoder\n",
    "\n",
    "# Load the datasets\n",
    "class_data = pd.read_csv('class.csv')\n",
    "zoo_data = pd.read_csv('zoo.csv')\n",
    "\n",
    "# Merge the class labels with the zoo dataset based on the 'class_type' column\n",
    "zoo_data_merged = zoo_data.merge(class_data, how='left', left_on='class_type', right_on='Class_Number')\n",
    "\n",
    "def encode_categorical_columns(df):\n",
    "    encoded_df = df.copy()\n",
    "    encoder = LabelEncoder()\n",
    "    \n",
    "    # Selecting the categorical columns\n",
    "    categorical_columns = df.select_dtypes(include=['object']).columns\n",
    "    \n",
    "    # Encoding only categorical variables\n",
    "    for column in categorical_columns:\n",
    "        encoded_df[column] = encoder.fit_transform(encoded_df[column])\n",
    "    \n",
    "    return encoded_df\n",
    "\n",
    "zoo_data_merged = encode_categorical_columns(zoo_data_merged)\n",
    "\n",
    "# Define the features and the target variable\n",
    "X = zoo_data_merged.drop(['animal_name', 'class_type', 'Class_Number', 'Number_Of_Animal_Species_In_Class', 'Class_Type'], axis=1)\n",
    "y = zoo_data_merged['class_type']\n",
    "\n",
    "# Split the dataset into training and testing sets\n",
    "X_train, X_test, y_train, y_test = train_test_split(X, y, test_size=0.3, random_state=42)\n",
    "\n",
    "# Feature scaling\n",
    "scaler = StandardScaler()\n",
    "X_train_scaled = scaler.fit_transform(X_train)\n",
    "X_test_scaled = scaler.transform(X_test)\n",
    "\n",
    "# Create and train the KNN classifier\n",
    "knn = KNeighborsClassifier(n_neighbors=5)\n",
    "knn.fit(X_train_scaled, y_train)\n",
    "\n",
    "# Predict the labels for the test set\n",
    "y_pred = knn.predict(X_test_scaled)\n",
    "\n",
    "# Calculate the accuracy and the classification report\n",
    "accuracy = accuracy_score(y_test, y_pred)\n",
    "report = classification_report(y_test, y_pred)\n",
    "\n",
    "print(f'Accuracy: {accuracy}')\n",
    "print(f'Classification report:\\n{report}')"
   ]
  }
 ],
 "metadata": {
  "kernelspec": {
   "display_name": "Python 3",
   "language": "python",
   "name": "python3"
  },
  "language_info": {
   "codemirror_mode": {
    "name": "ipython",
    "version": 3
   },
   "file_extension": ".py",
   "mimetype": "text/x-python",
   "name": "python",
   "nbconvert_exporter": "python",
   "pygments_lexer": "ipython3",
   "version": "3.11.5"
  }
 },
 "nbformat": 4,
 "nbformat_minor": 2
}
