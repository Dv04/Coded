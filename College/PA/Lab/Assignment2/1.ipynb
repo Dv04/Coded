{
 "cells": [
  {
   "cell_type": "code",
   "execution_count": 1,
   "metadata": {},
   "outputs": [
    {
     "data": {
      "text/plain": [
       "(0.24674981977443933, 0.04533417202914447)"
      ]
     },
     "execution_count": 1,
     "metadata": {},
     "output_type": "execute_result"
    }
   ],
   "source": [
    "import pandas as pd\n",
    "import numpy as np\n",
    "\n",
    "# The corrected dataset as provided\n",
    "data = {\n",
    "    \"Outlook\": [\"sunny\", \"sunny\", \"sunny\", \"sunny\", \"sunny\",\n",
    "                \"overcast\", \"overcast\", \"overcast\", \"overcast\",\n",
    "                \"rain\", \"rain\", \"rain\", \"rain\", \"rain\"],\n",
    "    \"Temp (F)\": [75, 80, 85, 72, 69, 72, 83, 64, 81, 71, 65, 75, 68, 70],\n",
    "    \"Humidity (%)\": [70, 90, 85, 95, 70, 90, 78, 65, 75, 80, 70, 80, 80, 96],\n",
    "    \"Windy\": [True, True, False, False, False, True, False, True, False,\n",
    "              True, True, False, False, False],\n",
    "    \"Class\": [\"Play\", \"Don't Play\", \"Don't Play\", \"Don't Play\", \"Play\",\n",
    "              \"Play\", \"Play\", \"Play\", \"Play\", \"Don't Play\", \"Don't Play\",\n",
    "              \"Play\", \"Play\", \"Play\"]\n",
    "}\n",
    "\n",
    "# Convert to DataFrame\n",
    "df = pd.DataFrame(data)\n",
    "\n",
    "# Define a function to calculate entropy\n",
    "def entropy(target_col):\n",
    "    elements, counts = np.unique(target_col, return_counts=True)\n",
    "    entropy = np.sum([(-counts[i]/np.sum(counts)) * np.log2(counts[i]/np.sum(counts)) for i in range(len(elements))])\n",
    "    return entropy\n",
    "\n",
    "# Define a function to calculate information gain\n",
    "def InfoGain(data, split_attribute_name, target_name=\"Class\"):\n",
    "    # Calculate the entropy of the total dataset\n",
    "    total_entropy = entropy(data[target_name])\n",
    "    \n",
    "    # Calculate the values and the corresponding counts for the split attribute \n",
    "    vals, counts = np.unique(data[split_attribute_name], return_counts=True)\n",
    "    \n",
    "    # Calculate the weighted entropy\n",
    "    Weighted_Entropy = np.sum([(counts[i]/np.sum(counts)) * entropy(data.where(data[split_attribute_name]==vals[i]).dropna()[target_name]) for i in range(len(vals))])\n",
    "    \n",
    "    # Calculate the information gain\n",
    "    Information_Gain = total_entropy - Weighted_Entropy\n",
    "    return Information_Gain\n",
    "\n",
    "# Calculate Information Gain for 'Outlook' and 'Humidity' with a binary split at 75\n",
    "# For Humidity, we will first convert it to a binary attribute based on the threshold\n",
    "df['Humidity Binary'] = df['Humidity (%)'] <= 75\n",
    "\n",
    "# Calculate information gain for 'Outlook'\n",
    "info_gain_outlook = InfoGain(df, \"Outlook\")\n",
    "# Calculate information gain for 'Humidity Binary'\n",
    "info_gain_humidity = InfoGain(df, \"Humidity Binary\")\n",
    "\n",
    "info_gain_outlook, info_gain_humidity\n"
   ]
  }
 ],
 "metadata": {
  "kernelspec": {
   "display_name": "Python 3",
   "language": "python",
   "name": "python3"
  },
  "language_info": {
   "codemirror_mode": {
    "name": "ipython",
    "version": 3
   },
   "file_extension": ".py",
   "mimetype": "text/x-python",
   "name": "python",
   "nbconvert_exporter": "python",
   "pygments_lexer": "ipython3",
   "version": "3.11.5"
  }
 },
 "nbformat": 4,
 "nbformat_minor": 2
}
