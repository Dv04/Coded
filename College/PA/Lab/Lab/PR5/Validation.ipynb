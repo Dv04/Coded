{
 "cells": [
  {
   "cell_type": "code",
   "execution_count": 1,
   "metadata": {},
   "outputs": [
    {
     "name": "stdout",
     "output_type": "stream",
     "text": [
      "Holdout Validation Accuracy: 0.9649122807017544\n"
     ]
    }
   ],
   "source": [
    "from sklearn.model_selection import train_test_split\n",
    "from sklearn.ensemble import RandomForestClassifier\n",
    "from sklearn.metrics import accuracy_score\n",
    "\n",
    "from sklearn.datasets import load_breast_cancer\n",
    "\n",
    "# Load data\n",
    "data = load_breast_cancer()\n",
    "X = data.data\n",
    "y = data.target\n",
    "\n",
    "# Split the dataset into a training set and a testing set\n",
    "X_train, X_test, y_train, y_test = train_test_split(X, y, test_size=0.2, random_state=42)\n",
    "\n",
    "# Initialize and train the model\n",
    "model = RandomForestClassifier(n_estimators=100, random_state=4223134)\n",
    "model.fit(X_train, y_train)\n",
    "\n",
    "# Test the model\n",
    "y_pred = model.predict(X_test)\n",
    "accuracy = accuracy_score(y_test, y_pred)\n",
    "print('Holdout Validation Accuracy:', accuracy)\n"
   ]
  },
  {
   "cell_type": "code",
   "execution_count": 2,
   "metadata": {},
   "outputs": [
    {
     "name": "stdout",
     "output_type": "stream",
     "text": [
      "K-Fold Cross Validation Accuracy scores for each fold: [0.96491228 0.98245614 0.93859649 0.96491228 0.95575221]\n",
      "Mean accuracy: 0.9613258810743673\n"
     ]
    }
   ],
   "source": [
    "\n",
    "from sklearn.model_selection import KFold, cross_val_score\n",
    "\n",
    "# Setup the K-Fold cross-validation\n",
    "kf = KFold(n_splits=5, shuffle=True, random_state=42)\n",
    "\n",
    "# Perform K-Fold CV\n",
    "scores = cross_val_score(model, X, y, cv=kf)\n",
    "print(f'K-Fold Cross Validation Accuracy scores for each fold: {scores}')\n",
    "print(f'Mean accuracy: {scores.mean()}')\n"
   ]
  },
  {
   "cell_type": "code",
   "execution_count": 3,
   "metadata": {},
   "outputs": [
    {
     "name": "stdout",
     "output_type": "stream",
     "text": [
      "LOOCV Accuracy score: 0.9630931458699473\n"
     ]
    }
   ],
   "source": [
    "\n",
    "from sklearn.model_selection import LeaveOneOut\n",
    "\n",
    "# Setup Leave One Out Cross-Validation\n",
    "loo = LeaveOneOut()\n",
    "\n",
    "# Perform LOOCV\n",
    "scores = cross_val_score(model, X, y, cv=loo)\n",
    "print(f'LOOCV Accuracy score: {scores.mean()}')\n"
   ]
  },
  {
   "cell_type": "code",
   "execution_count": 4,
   "metadata": {},
   "outputs": [
    {
     "name": "stdout",
     "output_type": "stream",
     "text": [
      "Stratified K-Fold Cross Validation Accuracy scores: [0.97368421 0.94736842 0.95614035 0.94736842 0.95575221]\n",
      "Mean accuracy: 0.9560627231796305\n"
     ]
    }
   ],
   "source": [
    "from sklearn.model_selection import StratifiedKFold\n",
    "\n",
    "# Setup Stratified K-Fold cross-validation\n",
    "skf = StratifiedKFold(n_splits=5, shuffle=True, random_state=42)\n",
    "\n",
    "# Perform Stratified K-Fold CV\n",
    "scores = cross_val_score(model, X, y, cv=skf)\n",
    "print(f'Stratified K-Fold Cross Validation Accuracy scores: {scores}')\n",
    "print(f'Mean accuracy: {scores.mean()}')\n"
   ]
  },
  {
   "cell_type": "code",
   "execution_count": 5,
   "metadata": {},
   "outputs": [
    {
     "name": "stdout",
     "output_type": "stream",
     "text": [
      "Random Subsampling Accuracy scores: [0.9385964912280702, 0.9649122807017544, 0.956140350877193, 0.9824561403508771, 0.9824561403508771, 0.9824561403508771, 0.9736842105263158, 0.9385964912280702, 0.9473684210526315, 0.9736842105263158]\n",
      "Mean accuracy: 0.9640350877192981\n"
     ]
    }
   ],
   "source": [
    "import numpy as np\n",
    "\n",
    "# Perform Random Subsampling\n",
    "random_scores = []\n",
    "for _ in range(10):  # Repeat the process 10 times\n",
    "    X_train, X_test, y_train, y_test = train_test_split(X, y, test_size=0.2, random_state=None)\n",
    "    model.fit(X_train, y_train)\n",
    "    y_pred = model.predict(X_test)\n",
    "    random_scores.append(accuracy_score(y_test, y_pred))\n",
    "\n",
    "print(f'Random Subsampling Accuracy scores: {random_scores}')\n",
    "print(f'Mean accuracy: {np.mean(random_scores)}')\n"
   ]
  },
  {
   "cell_type": "code",
   "execution_count": 6,
   "metadata": {},
   "outputs": [
    {
     "name": "stdout",
     "output_type": "stream",
     "text": [
      "Bootstrapping Mean Accuracy: 0.9649298245614036\n"
     ]
    }
   ],
   "source": [
    "from sklearn.utils import resample\n",
    "\n",
    "# Perform Bootstrapping\n",
    "bootstrap_scores = []\n",
    "for _ in range(1000):  # Number of bootstrapping samples\n",
    "    X_boot, y_boot = resample(X_train, y_train)\n",
    "    model.fit(X_boot, y_boot)\n",
    "    y_pred = model.predict(X_test)\n",
    "    bootstrap_scores.append(accuracy_score(y_test, y_pred))\n",
    "\n",
    "print('Bootstrapping Mean Accuracy:', np.mean(bootstrap_scores))\n"
   ]
  },
  {
   "cell_type": "code",
   "execution_count": 7,
   "metadata": {},
   "outputs": [
    {
     "name": "stdout",
     "output_type": "stream",
     "text": [
      "Resubstitution Accuracy: 1.0\n"
     ]
    }
   ],
   "source": [
    "# Train and test the model on the same dataset\n",
    "model.fit(X, y)\n",
    "y_pred = model.predict(X)\n",
    "resubstitution_accuracy = accuracy_score(y, y_pred)\n",
    "print('Resubstitution Accuracy:', resubstitution_accuracy)\n"
   ]
  }
 ],
 "metadata": {
  "kernelspec": {
   "display_name": "Python 3",
   "language": "python",
   "name": "python3"
  },
  "language_info": {
   "codemirror_mode": {
    "name": "ipython",
    "version": 3
   },
   "file_extension": ".py",
   "mimetype": "text/x-python",
   "name": "python",
   "nbconvert_exporter": "python",
   "pygments_lexer": "ipython3",
   "version": "3.11.5"
  }
 },
 "nbformat": 4,
 "nbformat_minor": 2
}
