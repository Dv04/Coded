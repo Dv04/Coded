{
 "cells": [
  {
   "cell_type": "markdown",
   "metadata": {},
   "source": [
    "# Pandas"
   ]
  },
  {
   "cell_type": "markdown",
   "metadata": {},
   "source": [
    "Pandas has two data structures:\n",
    "\n",
    "- Series:\n",
    "  - \n",
    "- DataFrame"
   ]
  },
  {
   "cell_type": "code",
   "execution_count": 6,
   "metadata": {},
   "outputs": [
    {
     "data": {
      "text/plain": [
       "A      Red\n",
       "B    Bllue\n",
       "dtype: object"
      ]
     },
     "execution_count": 6,
     "metadata": {},
     "output_type": "execute_result"
    }
   ],
   "source": [
    "import pandas as pd\n",
    "a = [\"Red\",\"Bllue\",\"Orange\"]\n",
    "s = pd.Series(a,index=[\"A\",\"B\",\"C\"])\n",
    "s[0:2]\n"
   ]
  },
  {
   "cell_type": "code",
   "execution_count": 7,
   "metadata": {},
   "outputs": [
    {
     "data": {
      "text/html": [
       "<div>\n",
       "<style scoped>\n",
       "    .dataframe tbody tr th:only-of-type {\n",
       "        vertical-align: middle;\n",
       "    }\n",
       "\n",
       "    .dataframe tbody tr th {\n",
       "        vertical-align: top;\n",
       "    }\n",
       "\n",
       "    .dataframe thead th {\n",
       "        text-align: right;\n",
       "    }\n",
       "</style>\n",
       "<table border=\"1\" class=\"dataframe\">\n",
       "  <thead>\n",
       "    <tr style=\"text-align: right;\">\n",
       "      <th></th>\n",
       "      <th>A</th>\n",
       "      <th>B</th>\n",
       "      <th>C</th>\n",
       "    </tr>\n",
       "  </thead>\n",
       "  <tbody>\n",
       "    <tr>\n",
       "      <th>A</th>\n",
       "      <td>1.0</td>\n",
       "      <td>2.0</td>\n",
       "      <td>3.0</td>\n",
       "    </tr>\n",
       "    <tr>\n",
       "      <th>B</th>\n",
       "      <td>4.0</td>\n",
       "      <td>5.0</td>\n",
       "      <td>6.0</td>\n",
       "    </tr>\n",
       "    <tr>\n",
       "      <th>C</th>\n",
       "      <td>7.0</td>\n",
       "      <td>8.0</td>\n",
       "      <td>9.0</td>\n",
       "    </tr>\n",
       "  </tbody>\n",
       "</table>\n",
       "</div>"
      ],
      "text/plain": [
       "     A    B    C\n",
       "A  1.0  2.0  3.0\n",
       "B  4.0  5.0  6.0\n",
       "C  7.0  8.0  9.0"
      ]
     },
     "execution_count": 7,
     "metadata": {},
     "output_type": "execute_result"
    }
   ],
   "source": [
    "b = [[1,2,3],[4,5,6],[7,8,9]]\n",
    "df = pd.DataFrame(b,index=[\"A\",\"B\",\"C\"],columns=[\"A\",\"B\",\"C\"],dtype=float)\n",
    "df"
   ]
  },
  {
   "cell_type": "code",
   "execution_count": 8,
   "metadata": {},
   "outputs": [
    {
     "data": {
      "text/html": [
       "<div>\n",
       "<style scoped>\n",
       "    .dataframe tbody tr th:only-of-type {\n",
       "        vertical-align: middle;\n",
       "    }\n",
       "\n",
       "    .dataframe tbody tr th {\n",
       "        vertical-align: top;\n",
       "    }\n",
       "\n",
       "    .dataframe thead th {\n",
       "        text-align: right;\n",
       "    }\n",
       "</style>\n",
       "<table border=\"1\" class=\"dataframe\">\n",
       "  <thead>\n",
       "    <tr style=\"text-align: right;\">\n",
       "      <th></th>\n",
       "      <th>Height</th>\n",
       "      <th>Marks</th>\n",
       "      <th>Class</th>\n",
       "      <th>City</th>\n",
       "    </tr>\n",
       "  </thead>\n",
       "  <tbody>\n",
       "    <tr>\n",
       "      <th>ABC</th>\n",
       "      <td>5.0</td>\n",
       "      <td>98</td>\n",
       "      <td>10</td>\n",
       "      <td>Ahm</td>\n",
       "    </tr>\n",
       "    <tr>\n",
       "      <th>XYZ</th>\n",
       "      <td>5.5</td>\n",
       "      <td>97</td>\n",
       "      <td>11</td>\n",
       "      <td>Baroda</td>\n",
       "    </tr>\n",
       "    <tr>\n",
       "      <th>MNO</th>\n",
       "      <td>6.0</td>\n",
       "      <td>80</td>\n",
       "      <td>12</td>\n",
       "      <td>Bhavnagar</td>\n",
       "    </tr>\n",
       "  </tbody>\n",
       "</table>\n",
       "</div>"
      ],
      "text/plain": [
       "     Height  Marks  Class       City\n",
       "ABC     5.0     98     10        Ahm\n",
       "XYZ     5.5     97     11     Baroda\n",
       "MNO     6.0     80     12  Bhavnagar"
      ]
     },
     "execution_count": 8,
     "metadata": {},
     "output_type": "execute_result"
    }
   ],
   "source": [
    "c = [[5,98,10,\"Ahm\"],[5.5,97,11,\"Baroda\"],[6,80,12,\"Bhavnagar\"]]\n",
    "df1 = pd.DataFrame(c,columns=[\"Height\",\"Marks\",\"Class\",\"City\"],index=[\"ABC\",\"XYZ\",\"MNO\"])\n",
    "df1"
   ]
  },
  {
   "cell_type": "code",
   "execution_count": 12,
   "metadata": {},
   "outputs": [
    {
     "name": "stdout",
     "output_type": "stream",
     "text": [
      "  Name  Height  Marks  Class       City\n",
      "0  ABC     5.0     98     10        Ahm\n",
      "1  XYZ     5.5     97     11     Baroda\n",
      "2  MNO     6.0     90     12  Bhavnagar   Name  Height  Marks  Class       City\n",
      "0  ABC     5.0     98     10        Ahm\n",
      "1  XYZ     5.5     97     11     Baroda\n",
      "2  MNO     6.0     90     12  Bhavnagar\n"
     ]
    }
   ],
   "source": [
    "data1 = pd.read_csv(\"Book1.csv\")\n",
    "data2 = pd.read_excel(\"Book1.xlsx\")\n",
    "# data = pd.read_csv(\"Book1.txt\", sep='')\n",
    "print(data1,data2)"
   ]
  }
 ],
 "metadata": {
  "kernelspec": {
   "display_name": "Python 3",
   "language": "python",
   "name": "python3"
  },
  "language_info": {
   "codemirror_mode": {
    "name": "ipython",
    "version": 3
   },
   "file_extension": ".py",
   "mimetype": "text/x-python",
   "name": "python",
   "nbconvert_exporter": "python",
   "pygments_lexer": "ipython3",
   "version": "3.11.5"
  },
  "orig_nbformat": 4
 },
 "nbformat": 4,
 "nbformat_minor": 2
}
