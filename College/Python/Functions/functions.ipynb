{
 "cells": [
  {
   "cell_type": "markdown",
   "metadata": {},
   "source": [
    "# Functions"
   ]
  },
  {
   "cell_type": "markdown",
   "metadata": {},
   "source": [
    "Types:\n",
    "- In-built: len, print, type, input, range\n",
    "- User-Defined: made by users to perform the task he or she wants."
   ]
  },
  {
   "cell_type": "code",
   "execution_count": 4,
   "metadata": {},
   "outputs": [
    {
     "name": "stdout",
     "output_type": "stream",
     "text": [
      "The Zip function\n",
      "<zip object at 0x10781e6c0>\n",
      "{'Dev': 4, 'Try': 1, 'Use': 2, 'Code': 3}\n"
     ]
    }
   ],
   "source": [
    "print(\"The Zip function\")\n",
    "name = [\"Dev\",\"Try\",\"Use\",\"Code\"]\n",
    "r_no = [4,1,2,3]\n",
    "mapp = zip(name,r_no)\n",
    "print(mapp)\n",
    "print(dict(mapp))"
   ]
  },
  {
   "cell_type": "markdown",
   "metadata": {},
   "source": [
    "User-Defined-Functions(UDF):\n",
    "\n",
    "Syntax:\n",
    "\n",
    "def function_name ( parameters ):\n",
    "\n",
    "    \"\"\"docstring\"\"\"\n",
    "\n",
    "    statement block\n",
    "    return block (default = None)\n",
    "\n",
    "- def: keyword\n",
    "- function_name: name of the function\n",
    "- function_name(): function call\n",
    "- parameters: input to the function\n",
    "- docstring: description of the function\n",
    "- statement block: code to be executed\n",
    "- return block: output of the function\n",
    "\n",
    "Note:\n",
    "\n",
    "- Function name should be unique.\n",
    "- Function name should be meaningful.\n"
   ]
  },
  {
   "cell_type": "code",
   "execution_count": 5,
   "metadata": {},
   "outputs": [
    {
     "name": "stdout",
     "output_type": "stream",
     "text": [
      "Welcome to Adani\n"
     ]
    }
   ],
   "source": [
    "def Welcome(string): print (\"Welcome to\", string)\n",
    "\n",
    "Welcome(\"Adani\")"
   ]
  },
  {
   "cell_type": "code",
   "execution_count": 6,
   "metadata": {},
   "outputs": [
    {
     "name": "stdout",
     "output_type": "stream",
     "text": [
      "1870414552161\n"
     ]
    }
   ],
   "source": [
    "def cube(n): return n**3\n",
    "print(cube(int(input(\"Enter the number you want to cube: \"))))"
   ]
  },
  {
   "cell_type": "markdown",
   "metadata": {},
   "source": [
    "Types of parameteres / arguments:\n",
    "\n",
    "1) Default: A value of parameters which is assumed in case not sent by the user.\n",
    "   Example:\n",
    "\n",
    "    ```python\n",
    "    def add(a, b=0):\n",
    "        return a+b\n",
    "    add(50)\n",
    "    ```\n",
    "    Explaination: This function will take the value of a and b will be 0 if only 1 parameter is passed when calling and both a and b if two are passed.\n",
    "\n",
    "2) Keyword: A value of parameters which is sent by the user by specifying the name of the parameter.\n",
    "   Example:\n",
    "\n",
    "    ```python\n",
    "    def add(a, b):\n",
    "        return a+b\n",
    "    add(b=50, a=100)\n",
    "    ```\n",
    "    Explaination: This function will take the value of a as 100 and b as 50.\n",
    "\n",
    "3) Variable Length: A value of parameters which is sent by the user in the form of a list or tuple.\n",
    "   Example:\n",
    "\n",
    "    ```python\n",
    "    def add(*a):\n",
    "        return sum(a)\n",
    "    add(10, 20, 30, 40, 50)\n",
    "    ```\n",
    "    Explaination: This function will take the value of a as a tuple of (10, 20, 30, 40, 50).\n"
   ]
  },
  {
   "cell_type": "code",
   "execution_count": 10,
   "metadata": {},
   "outputs": [
    {
     "name": "stdout",
     "output_type": "stream",
     "text": [
      "60\n",
      "110\n",
      "55\n"
     ]
    }
   ],
   "source": [
    "def add(a, b=10): return a+b\n",
    "print(add(50))\n",
    "\n",
    "def add(a,b): return a+b\n",
    "print(add(100,10))\n",
    "\n",
    "def add(*a): return sum(a)\n",
    "print(add(1,2,3,4,5,6,7,8,9,10))"
   ]
  }
 ],
 "metadata": {
  "kernelspec": {
   "display_name": "Python 3",
   "language": "python",
   "name": "python3"
  },
  "language_info": {
   "codemirror_mode": {
    "name": "ipython",
    "version": 3
   },
   "file_extension": ".py",
   "mimetype": "text/x-python",
   "name": "python",
   "nbconvert_exporter": "python",
   "pygments_lexer": "ipython3",
   "version": "3.11.5"
  },
  "orig_nbformat": 4
 },
 "nbformat": 4,
 "nbformat_minor": 2
}
