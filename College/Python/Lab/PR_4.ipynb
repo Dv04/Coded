{
 "cells": [
  {
   "cell_type": "markdown",
   "metadata": {},
   "source": [
    "# Loops\n",
    "\n",
    "Loops are indispensable constructs in programming that enable the automation of repetitive tasks and systematic processing of data. In this discussion, we'll delve into two fundamental types of loops:\n",
    "\n",
    "## The For Loop\n",
    "\n",
    "The `for` loop is the go-to choice when you have a clear idea of how many times you want a specific block of code to run. It consists of three crucial components:\n",
    "\n",
    "1. **Initialization**: At the start of the loop, you set up initial values and conditions. This step is executed only once.\n",
    "\n",
    "2. **Condition**: The loop continues executing as long as a defined condition remains true. If the condition becomes false, the loop terminates.\n",
    "\n",
    "3. **Iteration**: This part defines how the loop variable changes with each iteration. It is crucial for progress within the loop.\n",
    "\n",
    "why is `for` loop incredibly useful:\n",
    "\n",
    "- **Iterating Through Collections**: It excels at traversing collections like lists or arrays. You can easily access and manipulate each element within such structures.\n",
    "\n",
    "- **Predictable Control Flow**: With a predefined number of iterations, the `for` loop provides a clear and structured approach to loop control.\n",
    "\n",
    "## The While Loop\n",
    "\n",
    "In contrast, the `while` loop offers flexibility when you cannot determine the exact number of iterations in advance. It continues execution as long as a specified condition remains true. Key features include:\n",
    "\n",
    "- **Dynamic Control**: Unlike the `for` loop, the termination of a `while` loop is entirely dependent on changing conditions. This means you have the freedom to adjust the loop's behavior during execution.\n",
    "\n",
    "- **Versatility**: The `while` loop is ideal for scenarios where the number of iterations is uncertain or where you need to monitor an ongoing condition.\n",
    "\n",
    "Both `for` and `while` loops play crucial roles in programming, offering distinct advantages depending on your specific requirements. They are fundamental tools that empower developers to create efficient, automated solutions for a wide range of tasks.\n",
    "\n",
    "In summary, loops are the backbone of automation in programming, enabling the efficient execution of repetitive actions and the systematic processing of data. Choosing the right loop type, whether it's the structured `for` loop or the flexible `while` loop, is essential for achieving your programming goals.\n"
   ]
  },
  {
   "cell_type": "code",
   "execution_count": 18,
   "metadata": {},
   "outputs": [
    {
     "name": "stdout",
     "output_type": "stream",
     "text": [
      "The inputs were:  [1, 54, 2, -34, -6, -4, -7, -5, -2, 0, 0, 0, 5, 3, 65, 2, -5, -3]\n",
      "Plus:  7 Minus:  8 Zero:  3\n"
     ]
    }
   ],
   "source": [
    "# Write a program to read the numbers until -1 is encountered also count the +, - and 0 entered by the user.\n",
    "\n",
    "inp = int(input(\"Please enter the fist number (enter -1 to exit): \"))\n",
    "plus = 0\n",
    "minus = 0\n",
    "zero = 0\n",
    "arr = []\n",
    "while inp != -1:\n",
    "    if inp > 0:\n",
    "        plus += 1\n",
    "    elif inp < 0:\n",
    "        minus += 1\n",
    "    else:\n",
    "        zero += 1\n",
    "    arr.append(inp)\n",
    "    inp = int(input(\"Please enter the next number (enter -1 to exit): \"))\n",
    "print(\"The inputs were: \", arr)\n",
    "print(\"Plus: \", plus, \"Minus: \", minus, \"Zero: \", zero)\n"
   ]
  },
  {
   "cell_type": "code",
   "execution_count": 19,
   "metadata": {},
   "outputs": [
    {
     "name": "stdout",
     "output_type": "stream",
     "text": [
      "928349 is not an Armstrong number\n"
     ]
    }
   ],
   "source": [
    "# Wap to identify the number is armstrong number or not.\n",
    "\n",
    "num = int(input(\"Please enter a number: \"))\n",
    "temp = num\n",
    "sum = 0\n",
    "while temp > 0:\n",
    "    digit = temp % 10\n",
    "    sum += digit ** len(str(num))\n",
    "    temp //= 10\n",
    "if num == sum:\n",
    "    print(num, \"is an Armstrong number\")\n",
    "else:\n",
    "    print(num, \"is not an Armstrong number\")\n",
    "    "
   ]
  },
  {
   "cell_type": "code",
   "execution_count": 20,
   "metadata": {},
   "outputs": [
    {
     "name": "stdout",
     "output_type": "stream",
     "text": [
      "The decimal number for the binary 10101010101010101010 is:  699050\n"
     ]
    }
   ],
   "source": [
    "# Wap to enter binary number and convert it into decimal number\n",
    "\n",
    "num = int(input(\"Please enter a binary number: \"))\n",
    "dec = 0\n",
    "base = 1\n",
    "temp = num\n",
    "while temp > 0:\n",
    "    digit = temp % 10\n",
    "    dec += digit * base\n",
    "    base *= 2\n",
    "    temp //= 10\n",
    "print(\"The decimal number for the binary\",num,\"is: \", dec)\n"
   ]
  },
  {
   "cell_type": "code",
   "execution_count": 21,
   "metadata": {},
   "outputs": [
    {
     "name": "stdout",
     "output_type": "stream",
     "text": [
      "The inputs were:  ['a', 'gh', 'd', 'j', 'r', 'h', 'd', 'h', 'd', 'b', 'S', 'P', 'PD', 'F', 'F', 'GH', 'E', 'Y', 'J', 'V', 'N', 'D', '3', '6', '2', '6', '6', '8', '5', '33', '6', '3']\n",
      "Upper:  12 Lower:  10 Number:  10\n"
     ]
    }
   ],
   "source": [
    "# Wap to read the character until the asterisk sign is encountered. Also count the number of uppercase,lowercase and numbers entered by user.\n",
    "\n",
    "inp = input(\"Please enter the fist character (enter * to exit): \")\n",
    "upper = 0\n",
    "lower = 0\n",
    "num = 0\n",
    "arr = []\n",
    "while inp != '*':\n",
    "    if inp.isupper():\n",
    "        upper += 1\n",
    "    elif inp.islower():\n",
    "        lower += 1\n",
    "    elif inp.isdigit():\n",
    "        num += 1\n",
    "    arr.append(inp)\n",
    "    inp = input(\"Please enter the next character (enter * to exit): \")\n",
    "print(\"The inputs were: \", arr)\n",
    "print(\"Upper: \", upper, \"Lower: \", lower, \"Number: \", num)\n"
   ]
  },
  {
   "cell_type": "code",
   "execution_count": 22,
   "metadata": {},
   "outputs": [
    {
     "name": "stdout",
     "output_type": "stream",
     "text": [
      "The reverse of 1298367987 is:  7897638921\n"
     ]
    }
   ],
   "source": [
    "# Wap to print reverse of a number.\n",
    "\n",
    "num = int(input(\"Please enter a number: \"))\n",
    "rev = 0\n",
    "temp = num\n",
    "while temp > 0:\n",
    "    digit = temp % 10\n",
    "    rev = rev * 10 + digit\n",
    "    temp //= 10\n",
    "print(\"The reverse of\", num, \"is: \", rev)"
   ]
  },
  {
   "cell_type": "code",
   "execution_count": 23,
   "metadata": {},
   "outputs": [
    {
     "name": "stdout",
     "output_type": "stream",
     "text": [
      "28 x 1 = 28\n",
      "28 x 2 = 56\n",
      "28 x 3 = 84\n",
      "28 x 4 = 112\n",
      "28 x 5 = 140\n",
      "28 x 6 = 168\n",
      "28 x 7 = 196\n",
      "28 x 8 = 224\n",
      "28 x 9 = 252\n",
      "28 x 10 = 280\n"
     ]
    }
   ],
   "source": [
    "# Wap to print multiplication table of number. number entered by user.\n",
    "\n",
    "num = int(input(\"Please enter a number: \"))\n",
    "for i in range(1, 11):\n",
    "    print(num, \"x\", i, \"=\", num*i)"
   ]
  },
  {
   "cell_type": "code",
   "execution_count": 35,
   "metadata": {},
   "outputs": [
    {
     "name": "stdout",
     "output_type": "stream",
     "text": [
      "SUN  MON  TUE  WED  THU  FRI  SAT\n",
      "               1    2    3    4    \n",
      "5    6    7    8    9    10   11   \n",
      "12   13   14   15   16   17   18   \n",
      "19   20   21   22   23   24   25   \n",
      "26   27   28   29   30   31   \n"
     ]
    }
   ],
   "source": [
    "# Wap to generate calendar of a month given the start day and number of days in that month.\n",
    "\n",
    "start = int(input(\"Please enter the start day of the month: \"))\n",
    "days = int(input(\"Please enter the number of days in the month: \"))\n",
    "print(\"SUN  MON  TUE  WED  THU  FRI  SAT\")\n",
    "for i in range(1, start):\n",
    "    print(\"     \", end=\"\")\n",
    "for i in range(1, days+1):\n",
    "    print(i if i>=10 else f\"{i} \", end=\"   \")\n",
    "    \n",
    "    if (i+start-1) % 7 == 0:\n",
    "        print()\n",
    "print()"
   ]
  },
  {
   "cell_type": "code",
   "execution_count": 25,
   "metadata": {},
   "outputs": [
    {
     "name": "stdout",
     "output_type": "stream",
     "text": [
      "* \n",
      "* * \n",
      "* * * \n",
      "* * * * \n",
      "* * * * * \n"
     ]
    }
   ],
   "source": [
    "# Wap to print the pattern\n",
    "# *\n",
    "# * *\n",
    "# * * *\n",
    "# * * * *\n",
    "# * * * * *\n",
    "\n",
    "for i in range(1, 6):\n",
    "    for j in range(1, i+1):\n",
    "        print(\"*\", end=\" \")\n",
    "    print()"
   ]
  },
  {
   "cell_type": "code",
   "execution_count": 26,
   "metadata": {},
   "outputs": [
    {
     "name": "stdout",
     "output_type": "stream",
     "text": [
      "* \n",
      "* * \n",
      "* * * \n",
      "* * * * \n",
      "* * * * * \n",
      "* * * * * * \n",
      "* * * * * * * \n",
      "* * * * * * * * \n",
      "* * * * * * * * * \n",
      "* * * * * * * * * * \n"
     ]
    }
   ],
   "source": [
    "# WAP to create a pattern of stars where the row is entered by the user\n",
    "# *\n",
    "# **\n",
    "# *…\n",
    "\n",
    "row = int(input(\"Please enter the number of rows: \"))\n",
    "for i in range(1, row+1):\n",
    "    for j in range(1, i+1):\n",
    "        print(\"*\", end=\" \")\n",
    "    print()"
   ]
  },
  {
   "cell_type": "code",
   "execution_count": 27,
   "metadata": {},
   "outputs": [
    {
     "name": "stdout",
     "output_type": "stream",
     "text": [
      "1 \n",
      "2 2 \n",
      "3 3 3 \n",
      "4 4 4 4 \n",
      "5 5 5 5 5 \n",
      "6 6 6 6 6 6 \n",
      "7 7 7 7 7 7 7 \n",
      "8 8 8 8 8 8 8 8 \n",
      "9 9 9 9 9 9 9 9 9 \n",
      "10 10 10 10 10 10 10 10 10 10 \n"
     ]
    }
   ],
   "source": [
    "# WAP to create pattern like \n",
    "# 1\n",
    "# 22\n",
    "# 333\n",
    "# 4444\n",
    "# 55555…\n",
    "\n",
    "row = int(input(\"Please enter the number of rows: \"))\n",
    "for i in range(1, row+1):\n",
    "    for j in range(1, i+1):\n",
    "        print(i, end=\" \")\n",
    "    print()"
   ]
  },
  {
   "cell_type": "code",
   "execution_count": 28,
   "metadata": {},
   "outputs": [
    {
     "name": "stdout",
     "output_type": "stream",
     "text": [
      "1 \n",
      "1 2 1 \n",
      "1 2 3 2 1 \n",
      "1 2 3 4 3 2 1 \n",
      "1 2 3 4 5 4 3 2 1 \n",
      "1 2 3 4 5 6 5 4 3 2 1 \n",
      "1 2 3 4 5 6 7 6 5 4 3 2 1 \n",
      "1 2 3 4 5 6 7 8 7 6 5 4 3 2 1 \n",
      "1 2 3 4 5 6 7 8 9 8 7 6 5 4 3 2 1 \n",
      "1 2 3 4 5 6 7 8 9 10 9 8 7 6 5 4 3 2 1 \n"
     ]
    }
   ],
   "source": [
    "# WAP to create pattern like\n",
    "# 1\n",
    "# 121\n",
    "# 12321\n",
    "# 1234321\n",
    "\n",
    "row = int(input(\"Please enter the number of rows: \"))\n",
    "for i in range(1, row+1):\n",
    "    for j in range(1, i+1):\n",
    "        print(j, end=\" \")\n",
    "    for j in range(i-1, 0, -1):\n",
    "        print(j, end=\" \")\n",
    "    print()"
   ]
  }
 ],
 "metadata": {
  "kernelspec": {
   "display_name": "Python 3",
   "language": "python",
   "name": "python3"
  },
  "language_info": {
   "codemirror_mode": {
    "name": "ipython",
    "version": 3
   },
   "file_extension": ".py",
   "mimetype": "text/x-python",
   "name": "python",
   "nbconvert_exporter": "python",
   "pygments_lexer": "ipython3",
   "version": "3.11.5"
  },
  "orig_nbformat": 4
 },
 "nbformat": 4,
 "nbformat_minor": 2
}
