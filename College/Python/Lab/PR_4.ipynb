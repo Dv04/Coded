{
 "cells": [
  {
   "cell_type": "markdown",
   "metadata": {},
   "source": [
    "# Loops\n",
    "\n",
    "Loops are indispensable constructs in programming that enable the automation of repetitive tasks and systematic processing of data. In this discussion, we'll delve into two fundamental types of loops:\n",
    "\n",
    "## The For Loop\n",
    "\n",
    "The `for` loop is the go-to choice when you have a clear idea of how many times you want a specific block of code to run. It consists of three crucial components:\n",
    "\n",
    "1. **Initialization**: At the start of the loop, you set up initial values and conditions. This step is executed only once.\n",
    "\n",
    "2. **Condition**: The loop continues executing as long as a defined condition remains true. If the condition becomes false, the loop terminates.\n",
    "\n",
    "3. **Iteration**: This part defines how the loop variable changes with each iteration. It is crucial for progress within the loop.\n",
    "\n",
    "Here's why the `for` loop is incredibly useful:\n",
    "\n",
    "- **Iterating Through Collections**: It excels at traversing collections like lists or arrays. You can easily access and manipulate each element within such structures.\n",
    "\n",
    "- **Predictable Control Flow**: With a predefined number of iterations, the `for` loop provides a clear and structured approach to loop control.\n",
    "\n",
    "## The While Loop\n",
    "\n",
    "In contrast, the `while` loop offers flexibility when you cannot determine the exact number of iterations in advance. It continues execution as long as a specified condition remains true. Key features include:\n",
    "\n",
    "- **Dynamic Control**: Unlike the `for` loop, the termination of a `while` loop is entirely dependent on changing conditions. This means you have the freedom to adjust the loop's behavior during execution.\n",
    "\n",
    "- **Versatility**: The `while` loop is ideal for scenarios where the number of iterations is uncertain or where you need to monitor an ongoing condition.\n",
    "\n",
    "Both `for` and `while` loops play crucial roles in programming, offering distinct advantages depending on your specific requirements. They are fundamental tools that empower developers to create efficient, automated solutions for a wide range of tasks.\n",
    "\n",
    "In summary, loops are the backbone of automation in programming, enabling the efficient execution of repetitive actions and the systematic processing of data. Choosing the right loop type, whether it's the structured `for` loop or the flexible `while` loop, is essential for achieving your programming goals.\n"
   ]
  },
  {
   "cell_type": "code",
   "execution_count": 3,
   "metadata": {},
   "outputs": [
    {
     "name": "stdout",
     "output_type": "stream",
     "text": [
      "The inputs were:  [1, -2, -3, -4, 2, 6, 3, 0, 0, 0]\n",
      "Plus:  4 Minus:  3 Zero:  3\n"
     ]
    }
   ],
   "source": [
    "# Write a program to read the numbers until -1 is encountered also count the +, - and 0 entered by the user.\n",
    "\n",
    "inp = int(input(\"Please enter the fist number (enter -1 to exit): \"))\n",
    "plus = 0\n",
    "minus = 0\n",
    "zero = 0\n",
    "arr = []\n",
    "while inp != -1:\n",
    "    if inp > 0:\n",
    "        plus += 1\n",
    "    elif inp < 0:\n",
    "        minus += 1\n",
    "    else:\n",
    "        zero += 1\n",
    "    arr.append(inp)\n",
    "    inp = int(input(\"Please enter the next number (enter -1 to exit): \"))\n",
    "print(\"The inputs were: \", arr)\n",
    "print(\"Plus: \", plus, \"Minus: \", minus, \"Zero: \", zero)\n"
   ]
  },
  {
   "cell_type": "code",
   "execution_count": null,
   "metadata": {},
   "outputs": [],
   "source": []
  }
 ],
 "metadata": {
  "kernelspec": {
   "display_name": "Python 3",
   "language": "python",
   "name": "python3"
  },
  "language_info": {
   "codemirror_mode": {
    "name": "ipython",
    "version": 3
   },
   "file_extension": ".py",
   "mimetype": "text/x-python",
   "name": "python",
   "nbconvert_exporter": "python",
   "pygments_lexer": "ipython3",
   "version": "3.11.5"
  },
  "orig_nbformat": 4
 },
 "nbformat": 4,
 "nbformat_minor": 2
}
