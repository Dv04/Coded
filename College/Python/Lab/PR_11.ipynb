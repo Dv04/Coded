{
 "cells": [
  {
   "cell_type": "markdown",
   "metadata": {},
   "source": [
    "# Clustering Algorithms in Machine Learning\n",
    "\n",
    "Clustering, in machine learning and statistics, is the task of grouping a set of objects in such a way that objects in the same group (called a cluster) are more similar to each other than to those in other groups (clusters). It's a main task of exploratory data mining and a common technique for statistical data analysis used in many fields.\n",
    "\n",
    "## Common Types of Clustering Algorithms\n",
    "\n",
    "### 1. K-Means Clustering\n",
    "\n",
    "K-means clustering is a type of unsupervised learning, used when you have unlabeled data. The goal of this algorithm is to find groups in the data. The algorithm works iteratively to assign each data point to one of K groups based on the features provided.\n",
    "\n",
    "```python\n",
    "from sklearn.cluster import KMeans\n",
    "\n",
    "# Initialize and fit the model\n",
    "kmeans = KMeans(n_clusters=3)  # number of clusters\n",
    "kmeans.fit(X)\n",
    "```\n",
    "\n",
    "### 2. DBSCAN (Density-Based Spatial Clustering of Applications with Noise)\n",
    "\n",
    "DBSCAN is a clustering algorithm that groups together points that are close to each other based on a distance measurement (usually Euclidean distance) and a minimum number of points. It's also capable of identifying any outliers, making it suitable for applications with noise.\n",
    "\n",
    "```python\n",
    "from sklearn.cluster import DBSCAN\n",
    "\n",
    "# Initialize and fit the model\n",
    "dbscan = DBSCAN(eps=0.5, min_samples=5)  # distance and minimum points\n",
    "dbscan.fit(X)\n",
    "```\n",
    "\n",
    "### 3. Gaussian Mixture Models (GMM)\n",
    "\n",
    "Gaussian Mixture Model (GMM) is a probabilistic model that assumes all the data points are generated from a mixture of a finite number of Gaussian distributions with unknown parameters. GMM is a lot more flexible in terms of cluster covariance than K-means.\n",
    "\n",
    "```python\n",
    "from sklearn.mixture import GaussianMixture\n",
    "\n",
    "# Initialize and fit the model\n",
    "gmm = GaussianMixture(n_components=3)  # number of Gaussian distributions\n",
    "gmm.fit(X)\n",
    "```\n",
    "\n",
    "## Conclusion\n",
    "\n",
    "These algorithms represent just a few of the many machine learning algorithms used in clustering. Each has its strengths and weaknesses and may be suited to different types of data or problem domains. Understanding these algorithms and knowing when to apply each will equip you to tackle a wide array of clustering problems.\n"
   ]
  },
  {
   "cell_type": "code",
   "execution_count": 1,
   "metadata": {},
   "outputs": [
    {
     "name": "stdout",
     "output_type": "stream",
     "text": [
      "Loading dataset...\n",
      "Preprocessing data...\n",
      "Applying K-means clustering...\n"
     ]
    },
    {
     "name": "stderr",
     "output_type": "stream",
     "text": [
      "/opt/homebrew/lib/python3.11/site-packages/sklearn/cluster/_kmeans.py:870: FutureWarning: The default value of `n_init` will change from 10 to 'auto' in 1.4. Set the value of `n_init` explicitly to suppress the warning\n",
      "  warnings.warn(\n"
     ]
    },
    {
     "name": "stdout",
     "output_type": "stream",
     "text": [
      "K-means completed. Labels: [0 1]\n"
     ]
    }
   ],
   "source": [
    "from sklearn import datasets\n",
    "from sklearn.preprocessing import StandardScaler\n",
    "from sklearn.cluster import KMeans\n",
    "import numpy as np\n",
    "\n",
    "# Load dataset\n",
    "print(\"Loading dataset...\")\n",
    "dataset = datasets.fetch_kddcup99(subset='SA', percent10=True) \n",
    "X = dataset.data\n",
    "\n",
    "# As the dataset may contain non-numeric data, we convert it to numeric first (minimal preprocessing)\n",
    "print(\"Preprocessing data...\")\n",
    "X = np.where(X == b'normal.', 0, X)  \n",
    "X = np.where(X != 0, 1, X)  \n",
    "\n",
    "\n",
    "# Standardize features by removing the mean and scaling to unit variance\n",
    "scaler = StandardScaler()\n",
    "X_scaled = scaler.fit_transform(X)  # K-means \n",
    "\n",
    "# Apply k-means clustering\n",
    "print(\"Applying K-means clustering...\")\n",
    "kmeans = KMeans(n_clusters=2, random_state=0) \n",
    "clusters = kmeans.fit_predict(X_scaled)\n",
    "\n",
    "print(\"K-means completed. Labels:\", np.unique(clusters))"
   ]
  },
  {
   "cell_type": "code",
   "execution_count": 1,
   "metadata": {},
   "outputs": [
    {
     "name": "stdout",
     "output_type": "stream",
     "text": [
      "Loading dataset...\n",
      "Preprocessing data...\n",
      "Applying DBSCAN clustering...\n",
      "DBSCAN completed. Labels: [ -1   0   1   2   3   4   5   6   7   8   9  10  11  12  13  14  15  16\n",
      "  17  18  19  20  21  22  23  24  25  26  27  28  29  30  31  32  33  34\n",
      "  35  36  37  38  39  40  41  42  43  44  45  46  47  48  49  50  51  52\n",
      "  53  54  55  56  57  58  59  60  61  62  63  64  65  66  67  68  69  70\n",
      "  71  72  73  74  75  76  77  78  79  80  81  82  83  84  85  86  87  88\n",
      "  89  90  91  92  93  94  95  96  97  98  99 100 101 102 103 104 105 106\n",
      " 107 108 109 110 111 112 113 114 115 116 117 118 119 120 121 122 123 124\n",
      " 125 126 127 128 129 130 131 132 133 134 135 136 137 138 139 140 141 142\n",
      " 143 144 145 146 147 148 149 150 151 152 153 154 155 156 157 158 159 160\n",
      " 161 162 163 164 165 166 167 168 169 170 171 172 173 174 175 176 177 178\n",
      " 179 180 181 182 183 184 185 186 187 188 189 190 191 192 193 194 195 196\n",
      " 197 198 199 200 201 202 203 204 205 206 207 208 209 210 211 212 213 214\n",
      " 215 216 217 218 219 220 221 222 223 224 225 226 227 228 229 230 231 232\n",
      " 233 234 235 236 237 238 239 240 241 242 243 244 245 246 247 248 249 250\n",
      " 251 252 253 254 255 256 257 258 259 260 261 262 263 264 265 266 267 268\n",
      " 269 270 271 272 273 274 275 276 277 278 279 280 281 282 283 284 285 286\n",
      " 287 288 289 290 291 292 293 294 295 296 297 298 299 300 301 302 303 304\n",
      " 305 306 307 308 309 310 311 312 313 314 315 316 317 318 319 320 321 322\n",
      " 323 324 325 326 327 328 329 330 331 332 333 334 335 336 337 338 339 340\n",
      " 341 342 343 344 345 346 347 348 349 350 351 352 353 354 355 356 357 358\n",
      " 359 360 361 362 363 364 365 366 367 368 369 370 371 372 373 374 375 376\n",
      " 377 378 379 380 381 382 383 384 385 386 387 388 389 390 391 392 393 394\n",
      " 395 396 397 398 399 400 401 402 403 404 405 406 407 408 409 410 411 412\n",
      " 413 414 415 416 417 418 419 420 421 422 423 424 425 426 427 428 429 430\n",
      " 431 432 433 434 435 436 437 438 439 440 441 442 443 444 445 446 447 448\n",
      " 449 450 451 452 453]\n"
     ]
    }
   ],
   "source": [
    "from sklearn import datasets\n",
    "from sklearn.preprocessing import StandardScaler\n",
    "from sklearn.cluster import DBSCAN\n",
    "import numpy as np\n",
    "\n",
    "# Load dataset\n",
    "print(\"Loading dataset...\")\n",
    "dataset = datasets.fetch_kddcup99(subset='SA', percent10=True)  \n",
    "X = dataset.data\n",
    "\n",
    "# As the dataset may contain non-numeric data, we convert it to numeric first (minimal preprocessing)\n",
    "\n",
    "print(\"Preprocessing data...\")\n",
    "X = np.where(X == b'normal.', 0, X)  \n",
    "X = np.where(X != 0, 1, X)  \n",
    "\n",
    "# Standardize features by removing the mean and scaling to unit variance\n",
    "scaler = StandardScaler()\n",
    "X_scaled = scaler.fit_transform(X)  # DBSCAN \n",
    "\n",
    "# Apply DBSCAN clustering\n",
    "print(\"Applying DBSCAN clustering...\")\n",
    "dbscan = DBSCAN(eps=0.5, min_samples=5)  \n",
    "clusters = dbscan.fit_predict(X_scaled)\n",
    "\n",
    "print(\"DBSCAN completed. Labels:\", np.unique(clusters))\n"
   ]
  },
  {
   "cell_type": "code",
   "execution_count": 3,
   "metadata": {},
   "outputs": [
    {
     "name": "stdout",
     "output_type": "stream",
     "text": [
      "Loading dataset...\n",
      "Preprocessing data...\n",
      "Applying Gaussian Mixture Model clustering...\n",
      "GMM completed. Labels: [0 1]\n"
     ]
    }
   ],
   "source": [
    "from sklearn import datasets\n",
    "from sklearn.preprocessing import StandardScaler\n",
    "from sklearn.mixture import GaussianMixture\n",
    "import numpy as np\n",
    "\n",
    "# Load dataset\n",
    "print(\"Loading dataset...\")\n",
    "dataset = datasets.fetch_kddcup99(subset='SA', percent10=True)  \n",
    "X = dataset.data\n",
    "\n",
    "# As the dataset may contain non-numeric data, we convert it to numeric first (minimal preprocessing)\n",
    "\n",
    "print(\"Preprocessing data...\")\n",
    "X = np.where(X == b'normal.', 0, X)  \n",
    "X = np.where(X != 0, 1, X)  \n",
    "\n",
    "# Standardize features by removing the mean and scaling to unit variance\n",
    "scaler = StandardScaler()\n",
    "X_scaled = scaler.fit_transform(X)  # GMM \n",
    "\n",
    "# Apply Gaussian Mixture Model clustering\n",
    "print(\"Applying Gaussian Mixture Model clustering...\")\n",
    "gmm = GaussianMixture(n_components=2, random_state=0) \n",
    "gmm.fit(X_scaled)\n",
    "clusters = gmm.predict(X_scaled)\n",
    "\n",
    "print(\"GMM completed. Labels:\", np.unique(clusters))\n"
   ]
  }
 ],
 "metadata": {
  "kernelspec": {
   "display_name": "Python 3",
   "language": "python",
   "name": "python3"
  },
  "language_info": {
   "codemirror_mode": {
    "name": "ipython",
    "version": 3
   },
   "file_extension": ".py",
   "mimetype": "text/x-python",
   "name": "python",
   "nbconvert_exporter": "python",
   "pygments_lexer": "ipython3",
   "version": "3.11.5"
  }
 },
 "nbformat": 4,
 "nbformat_minor": 2
}
