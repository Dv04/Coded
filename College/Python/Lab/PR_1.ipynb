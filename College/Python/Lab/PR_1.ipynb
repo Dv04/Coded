{
 "cells": [
  {
   "cell_type": "markdown",
   "metadata": {},
   "source": [
    "# Explain using vscode with python"
   ]
  },
  {
   "cell_type": "markdown",
   "metadata": {},
   "source": [
    "## Visual Studio Code for Python Development\n",
    "\n",
    "**Visual Studio Code (VSCode)** is a versatile and free code editor crafted by Microsoft, designed to enhance your programming experience. Its lightweight nature combined with extensibility makes it an excellent choice for coding in various languages, including Python. Widely embraced by developers, VSCode continually evolves with cutting-edge features.\n",
    "\n",
    "#### Getting Started with Python in VSCode\n",
    "\n",
    "When it comes to Python development, VSCode truly shines. To embark on your Python journey with VSCode, follow these steps:\n",
    "\n",
    "1. **Installation**: Begin by installing the **Python extension** available for VSCode. This extension serves as your gateway to a world of Python-centric features, including intelligent code completion, syntax highlighting, and robust debugging tools.\n",
    "\n",
    "2. **Setting Up Your Workspace**: Create or open a Python project within VSCode. The intuitive workspace setup enables you to effortlessly organize your code files and resources.\n",
    "\n",
    "3. **Crafting Code**: Dive into the realm of Python coding using VSCode's user-friendly interface. Leverage its real-time suggestions and error detection to streamline your coding process.\n",
    "\n",
    "#### Unveiling a Python Example\n",
    "\n",
    "For a taste of Python coding in VSCode, consider this illustrative example:\n",
    "\n",
    "```python\n",
    "\n",
    "def hello_world():\n",
    "    print(\"Hello, world!\")\n",
    "hello_world()\n",
    "\n",
    "```\n",
    "\n",
    "To run this code snippet:\n",
    "\n",
    "1. Hit `F5` to trigger execution or navigate to the `Run` command on the menu bar.\n",
    "2. Watch as VSCode compiles the code and launches a Python interpreter.\n",
    "3. Behold the output elegantly displayed within the console.\n",
    "\n",
    "#### Why VSCode\n",
    "\n",
    "The VSCode-Python duo is a match made in coding heaven, characterized by:\n",
    "\n",
    "- **Ease of Use**: VSCode's intuitive interface makes Python development a delightful experience.\n",
    "- **Thriving Community**: Join a vast community of Python enthusiasts and tap into a wealth of shared knowledge.\n",
    "- **Continuous Advancements**: Benefit from VSCode's dynamic evolution, ensuring you stay ahead with the latest features.\n"
   ]
  },
  {
   "cell_type": "markdown",
   "metadata": {},
   "source": [
    "# Charateristics of python and explain type, input and print. \n",
    "### Characteristics of Python\n",
    "\n",
    "Python, a versatile and dynamic programming language, boasts an array of distinctive characteristics that contribute to its popularity and applicability across various domains:\n",
    "\n",
    "#### Readability and Simplicity\n",
    "\n",
    "Python's syntax emphasizes readability and simplicity, making it easy for developers to express concepts concisely and clearly. The reduced use of punctuation and verbose keywords simplifies code comprehension.\n",
    "\n",
    "#### Versatility and Portability\n",
    "\n",
    "Python's versatility shines through its compatibility across diverse platforms and operating systems. A single codebase can often run seamlessly on various environments without modification.\n",
    "\n",
    "#### Extensive Standard Library\n",
    "\n",
    "Python offers an extensive standard library, equipping developers with a myriad of built-in modules and functions that streamline development tasks. This library covers areas from file handling to web services.\n",
    "\n",
    "#### Dynamic Typing and Memory Management\n",
    "\n",
    "Python's dynamic typing enables flexible variable assignments without explicit type declarations. Additionally, its automatic memory management alleviates the need for manual memory allocation and deallocation.\n",
    "\n",
    "#### Interpreted Nature\n",
    "\n",
    "Python's interpreted nature promotes an iterative and rapid development cycle. Developers can quickly test and execute code snippets, facilitating efficient debugging and troubleshooting.\n",
    "\n",
    "#### Type, Input, and Print Functions\n",
    "\n",
    "To delve into Python's core functionalities, let's explore three essential functions: `type`, `input`, and `print`.\n",
    "\n",
    "##### The `type()` Function\n",
    "\n",
    "The `type` function in Python allows you to determine the data type of a given object. It aids in introspection and understanding the nature of variables.\n",
    "\n",
    "```python\n",
    "num = 42\n",
    "name = \"John\"\n",
    "is_valid = True\n",
    "\n",
    "print(type(num))      # Output: <class 'int'>\n",
    "print(type(name))     # Output: <class 'str'>\n",
    "print(type(is_valid)) # Output: <class 'bool'>\n",
    "```\n",
    "\n",
    "##### The `input()` Function\n",
    "\n",
    "The `input()` function serves as a bridge between your Python program and the user. It enables you to prompt users for input and receive text-based responses. The syntax for the `input()` function is simple:\n",
    "\n",
    "```python\n",
    "user_input = input(\"Please enter your name: \")\n",
    "```\n",
    "\n",
    "##### The `print()` Function\n",
    "\n",
    "In the world of Python programming, the `print` function stands as a fundamental tool for displaying information to the console. This function enables you to convey messages, values, and results, making it an essential component of your coding journey.\n",
    "\n",
    "```python\n",
    "print(object(s), sep=separator, end=end, file=file, flush=flush)\n",
    "```"
   ]
  },
  {
   "cell_type": "markdown",
   "metadata": {},
   "source": [
    "### Write a Program to sum two numbers where numbers are to be given by users.\n"
   ]
  },
  {
   "cell_type": "code",
   "execution_count": 4,
   "metadata": {},
   "outputs": [
    {
     "name": "stdout",
     "output_type": "stream",
     "text": [
      "The summation of the inputs 10 and 20 is 30\n"
     ]
    }
   ],
   "source": [
    "A = int(input(\"Enter the First Number: \"))\n",
    "B = int(input(\"Enter the Second Number: \"))\n",
    "print(f\"The value of A is {A} and B is {B}.\")\n",
    "print(f\"The summation of the inputs {A} and {B} is {A+B}\")"
   ]
  },
  {
   "cell_type": "markdown",
   "metadata": {},
   "source": [
    "### Write a program to print Hello and World seperated by ---/___ using print function.\n"
   ]
  },
  {
   "cell_type": "code",
   "execution_count": 7,
   "metadata": {},
   "outputs": [
    {
     "name": "stdout",
     "output_type": "stream",
     "text": [
      "The output is given by\n",
      "\n",
      "Hello ___ World\n"
     ]
    }
   ],
   "source": [
    "print(\"The output is given by\\n\\nHello ___ World\")"
   ]
  },
  {
   "cell_type": "markdown",
   "metadata": {},
   "source": [
    "### Write a program to swap the values in the variable a and b"
   ]
  },
  {
   "cell_type": "code",
   "execution_count": 8,
   "metadata": {},
   "outputs": [
    {
     "name": "stdout",
     "output_type": "stream",
     "text": [
      "The value of A is 10 and B is 20.\n",
      "The changed value of A is 20 and B is 10.\n"
     ]
    }
   ],
   "source": [
    "A = int(input(\"Enter the First Number: \"))\n",
    "B = int(input(\"Enter the Second Number: \"))\n",
    "print(f\"The value of A is {A} and B is {B}.\")\n",
    "A, B = B, A\n",
    "print(f\"The changed value of A is {A} and B is {B}.\")"
   ]
  },
  {
   "cell_type": "markdown",
   "metadata": {},
   "source": [
    "### Write a program that asks user to enter two integers. output should be second no. raise the power of first no."
   ]
  },
  {
   "cell_type": "code",
   "execution_count": 9,
   "metadata": {},
   "outputs": [
    {
     "name": "stdout",
     "output_type": "stream",
     "text": [
      "The value of A is 10 and B is 20.\n",
      "The result of power of 10 and 20 is 100000000000000000000.\n"
     ]
    }
   ],
   "source": [
    "A = int(input(\"Enter the First Number: \"))\n",
    "B = int(input(\"Enter the Second Number: \"))\n",
    "print(f\"The value of A is {A} and B is {B}.\")\n",
    "\n",
    "print(f\"The result of power of {A} and {B} is {A**B}.\")"
   ]
  },
  {
   "cell_type": "markdown",
   "metadata": {},
   "source": [
    "### Write a program that asks user to input two no. Check how many times the second number is divided by the first no"
   ]
  },
  {
   "cell_type": "code",
   "execution_count": 12,
   "metadata": {},
   "outputs": [
    {
     "name": "stdout",
     "output_type": "stream",
     "text": [
      "The value of A is 374 and B is 12361723.\n",
      "The result of program for 374 and 12361723 is 33052.\n"
     ]
    }
   ],
   "source": [
    "A = int(input(\"Enter the First Number: \"))\n",
    "B = int(input(\"Enter the Second Number: \"))\n",
    "print(f\"The value of A is {A} and B is {B}.\")\n",
    "\n",
    "\n",
    "print(f\"The result of program for {A} and {B} is {B//A}.\")"
   ]
  },
  {
   "cell_type": "markdown",
   "metadata": {},
   "source": [
    "### Write a program to reverse the string in 5 different ways."
   ]
  },
  {
   "cell_type": "markdown",
   "metadata": {},
   "source": [
    "#### The 5 different ways are:\n",
    "\n",
    "##### 1. Using String Slicing\n",
    "You can reverse a string using string slicing with a step of -1.\n",
    "\n",
    "##### 2. Using the `reversed()` Function\n",
    "The `reversed()` function can be used to reverse a string. It returns an iterator that yields characters in reverse order.\n",
    "\n",
    "##### 3. Using a Loop\n",
    "By iterating through the string in reverse order using a loop, you can construct the reversed string.\n",
    "\n",
    "##### 4. Using the `join()` Method\n",
    "You can reverse a string by first converting it to a list, then using the `join()` method to concatenate the characters in reverse order.\n",
    "\n",
    "##### 5. Using Recursion\n",
    "Implementing a recursive function can also achieve string reversal by repeatedly appending the last character to the reversed substring.\n"
   ]
  },
  {
   "cell_type": "code",
   "execution_count": 14,
   "metadata": {},
   "outputs": [
    {
     "name": "stdout",
     "output_type": "stream",
     "text": [
      "1st Method\n",
      "The original string is hello and the reversed string is olleh\n",
      "\n",
      "2nd Method\n",
      "The original string is world and the reversed string is dlrow\n",
      "\n",
      "3rd Method\n",
      "The original string is programming and the reversed string is gnimmargorp\n",
      "\n",
      "4th Method\n",
      "The original string is example and the reversed string is elpmaxe\n",
      "\n",
      "5th Method\n",
      "The original string is method and the reversed string is dohtem\n"
     ]
    }
   ],
   "source": [
    "print(\"1st Method\")\n",
    "\n",
    "original_string = \"hello\"\n",
    "reversed_string = original_string[::-1]\n",
    "\n",
    "print(f\"The original string is {original_string} and the reversed string is {reversed_string}\")\n",
    "\n",
    "print(\"\\n2nd Method\")\n",
    "\n",
    "original_string = \"world\"\n",
    "reversed_string = ''.join(reversed(original_string))\n",
    "\n",
    "print(f\"The original string is {original_string} and the reversed string is {reversed_string}\")\n",
    "\n",
    "print(\"\\n3rd Method\")\n",
    "\n",
    "original_string = \"programming\"\n",
    "reversed_string = ''\n",
    "for char in original_string:\n",
    "    reversed_string = char + reversed_string\n",
    "\n",
    "print(f\"The original string is {original_string} and the reversed string is {reversed_string}\")\n",
    "\n",
    "print(\"\\n4th Method\")\n",
    "\n",
    "def reverse_string(input_string):\n",
    "    if len(input_string) == 0:\n",
    "        return input_string\n",
    "    else:\n",
    "        return reverse_string(input_string[1:]) + input_string[0]\n",
    "    \n",
    "original_string = \"example\"\n",
    "reversed_string = reverse_string(original_string)\n",
    "\n",
    "\n",
    "print(f\"The original string is {original_string} and the reversed string is {reversed_string}\")\n",
    "\n",
    "print(\"\\n5th Method\")\n",
    "\n",
    "original_string = \"method\"\n",
    "reversed_string = ''.join(original_string[i] for i in range(len(original_string) - 1, -1, -1))\n",
    "\n",
    "print(f\"The original string is {original_string} and the reversed string is {reversed_string}\")"
   ]
  }
 ],
 "metadata": {
  "kernelspec": {
   "display_name": "Python 3",
   "language": "python",
   "name": "python3"
  },
  "language_info": {
   "codemirror_mode": {
    "name": "ipython",
    "version": 3
   },
   "file_extension": ".py",
   "mimetype": "text/x-python",
   "name": "python",
   "nbconvert_exporter": "python",
   "pygments_lexer": "ipython3",
   "version": "3.11.3"
  },
  "orig_nbformat": 4
 },
 "nbformat": 4,
 "nbformat_minor": 2
}
