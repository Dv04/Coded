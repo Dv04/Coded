{
 "cells": [
  {
   "cell_type": "markdown",
   "metadata": {},
   "source": [
    "# Pandas\n",
    "\n",
    "Read the following files:\n",
    "\n",
    "- CSV\n",
    "- TXT\n",
    "- XLSX"
   ]
  },
  {
   "cell_type": "code",
   "execution_count": 37,
   "metadata": {},
   "outputs": [
    {
     "name": "stdout",
     "output_type": "stream",
     "text": [
      "  Name  Height  Marks  Class       City\n",
      "0  ABC     5.0     98     10        Ahm\n",
      "1  XYZ     5.5     97     11     Baroda\n",
      "2  MNO     6.0     90     12  Bhavnagar\n"
     ]
    }
   ],
   "source": [
    "import pandas as pd\n",
    "\n",
    "# Read the dataset\n",
    "df = pd.read_csv('Book1.csv')\n",
    "print(df.tail(3))\n",
    "\n"
   ]
  },
  {
   "cell_type": "code",
   "execution_count": 38,
   "metadata": {},
   "outputs": [
    {
     "name": "stdout",
     "output_type": "stream",
     "text": [
      "  Name  Height  Marks  Class    City\n",
      "0  ABC     5.0     98     10     Ahm\n",
      "1  XYZ     5.5     97     11  Baroda\n"
     ]
    }
   ],
   "source": [
    "import pandas as pd\n",
    "\n",
    "# Read the dataset\n",
    "df = pd.read_csv('/Users/apple/Coded/College/Python/Lab/Book1.csv')\n",
    "print(df.head(2))\n",
    "\n"
   ]
  },
  {
   "cell_type": "code",
   "execution_count": 39,
   "metadata": {},
   "outputs": [
    {
     "name": "stdout",
     "output_type": "stream",
     "text": [
      "  Name  Height  Marks  Class City\n",
      "0  ABC     5.0     98     10  Ahm\n"
     ]
    }
   ],
   "source": [
    "df1 = pd.read_excel('Book1.xlsx')\n",
    "print(df1.head(1))"
   ]
  },
  {
   "cell_type": "code",
   "execution_count": 40,
   "metadata": {},
   "outputs": [
    {
     "name": "stdout",
     "output_type": "stream",
     "text": [
      "  Name  Height  Marks  Class       City\n",
      "1  XYZ     5.5     97     11     Baroda\n",
      "2  MNO     6.0     90     12  Bhavnagar\n"
     ]
    }
   ],
   "source": [
    "df1 = pd.read_excel('/Users/apple/Coded/College/Python/Lab/Book1.xlsx')\n",
    "print(df1.tail(2))"
   ]
  },
  {
   "cell_type": "code",
   "execution_count": 41,
   "metadata": {},
   "outputs": [
    {
     "name": "stdout",
     "output_type": "stream",
     "text": [
      "  Name  Height  Marks  Class       City\n",
      "2  MNO     6.0     90     12  Bhavnagar\n"
     ]
    }
   ],
   "source": [
    "df2 = pd.read_csv('Book1.txt', sep=',')\n",
    "print(df2.tail(1))"
   ]
  },
  {
   "cell_type": "code",
   "execution_count": 42,
   "metadata": {},
   "outputs": [
    {
     "name": "stdout",
     "output_type": "stream",
     "text": [
      "  Name  Height  Marks  Class       City\n",
      "0  ABC     5.0     98     10        Ahm\n",
      "1  XYZ     5.5     97     11     Baroda\n",
      "2  MNO     6.0     90     12  Bhavnagar\n"
     ]
    }
   ],
   "source": [
    "df2 = pd.read_csv('/Users/apple/Coded/College/Python/Lab/Book1.txt', sep=',')\n",
    "print(df2.head(3))"
   ]
  }
 ],
 "metadata": {
  "kernelspec": {
   "display_name": "Python 3",
   "language": "python",
   "name": "python3"
  },
  "language_info": {
   "codemirror_mode": {
    "name": "ipython",
    "version": 3
   },
   "file_extension": ".py",
   "mimetype": "text/x-python",
   "name": "python",
   "nbconvert_exporter": "python",
   "pygments_lexer": "ipython3",
   "version": "3.11.5"
  }
 },
 "nbformat": 4,
 "nbformat_minor": 2
}
