{
 "cells": [
  {
   "cell_type": "markdown",
   "metadata": {},
   "source": [
    "# Pandas\n",
    "\n",
    "Read the following files:\n",
    "\n",
    "- CSV\n",
    "- TXT\n",
    "- XLSX"
   ]
  },
  {
   "cell_type": "code",
   "execution_count": 1,
   "metadata": {},
   "outputs": [
    {
     "name": "stdout",
     "output_type": "stream",
     "text": [
      "  Name  Height  Marks  Class       City\n",
      "0  ABC     5.0     98     10        Ahm\n",
      "1  XYZ     5.5     97     11     Baroda\n",
      "2  MNO     6.0     90     12  Bhavnagar\n"
     ]
    }
   ],
   "source": [
    "import pandas as pd\n",
    "\n",
    "# Read the dataset\n",
    "df = pd.read_csv('Book1.csv')\n",
    "print(df)\n",
    "\n"
   ]
  },
  {
   "cell_type": "code",
   "execution_count": 2,
   "metadata": {},
   "outputs": [
    {
     "name": "stdout",
     "output_type": "stream",
     "text": [
      "  Name  Height  Marks  Class       City\n",
      "0  ABC     5.0     98     10        Ahm\n",
      "1  XYZ     5.5     97     11     Baroda\n",
      "2  MNO     6.0     90     12  Bhavnagar\n"
     ]
    }
   ],
   "source": [
    "df1 = pd.read_excel('Book1.xlsx')\n",
    "print(df1)"
   ]
  },
  {
   "cell_type": "code",
   "execution_count": 4,
   "metadata": {},
   "outputs": [
    {
     "name": "stdout",
     "output_type": "stream",
     "text": [
      "  Name  Height  Marks  Class       City\n",
      "0  ABC     5.0     98     10        Ahm\n",
      "1  XYZ     5.5     97     11     Baroda\n",
      "2  MNO     6.0     90     12  Bhavnagar\n"
     ]
    }
   ],
   "source": [
    "df2 = pd.read_csv('Book1.txt', sep=',')\n",
    "print(df2)"
   ]
  }
 ],
 "metadata": {
  "kernelspec": {
   "display_name": "Python 3",
   "language": "python",
   "name": "python3"
  },
  "language_info": {
   "codemirror_mode": {
    "name": "ipython",
    "version": 3
   },
   "file_extension": ".py",
   "mimetype": "text/x-python",
   "name": "python",
   "nbconvert_exporter": "python",
   "pygments_lexer": "ipython3",
   "version": "3.11.5"
  }
 },
 "nbformat": 4,
 "nbformat_minor": 2
}
