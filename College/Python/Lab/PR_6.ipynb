{
 "cells": [
  {
   "cell_type": "markdown",
   "metadata": {},
   "source": [
    "# Numpy\n"
   ]
  },
  {
   "cell_type": "code",
   "execution_count": 91,
   "metadata": {},
   "outputs": [
    {
     "name": "stdout",
     "output_type": "stream",
     "text": [
      "The shape of array:  (5, 4) \n",
      "\n",
      " [[ 1  2  3  4]\n",
      " [ 6  7  8  9]\n",
      " [11 12 13 14]\n",
      " [16 17 18 19]\n",
      " [21 22 23 24]]\n",
      "\n",
      "Output 1:\n",
      " [[ 6  7  8]\n",
      " [11 12 13]]\n",
      "\n",
      "Output 2:\n",
      " [[ 3  4]\n",
      " [ 8  9]\n",
      " [13 14]]\n",
      "\n",
      "Output 3:\n",
      " [[17 18]\n",
      " [22 23]]\n",
      "\n",
      "arr[ -1: , -4:]:  [[21 22 23 24]]\n",
      "\n",
      "arr[ -1:-4 , -4:-1]:  []\n",
      "\n",
      "arr[ 2:3 , 3:4]:  [[14]]\n"
     ]
    }
   ],
   "source": [
    "# Write a program to perform slicing of 2d array size 5x4 with desired outputs.\n",
    "\n",
    "# Output 1: 6,7,8,11,12,13\n",
    "# Output 2: 3, 4, 8, 9, 13, 14\n",
    "# Output 3: 17, 18, 22, 23\n",
    "\n",
    "import numpy as np\n",
    "\n",
    "arr = np.array(\n",
    "    [1, 2, 3, 4, 6, 7, 8, 9, 11, 12, 13, 14, 16, 17, 18, 19, 21, 22, 23, 24]\n",
    ").reshape(5, 4)\n",
    "\n",
    "print(\"The shape of array: \", arr.shape, \"\\n\\n\", arr)\n",
    "\n",
    "print(\"\\nOutput 1:\\n\", arr[1:3, 0:3])\n",
    "print(\"\\nOutput 2:\\n\", arr[:3, 2:])\n",
    "print(\"\\nOutput 3:\\n\", arr[3:, 1:3])\n",
    "\n",
    "print(\"\\narr[ -1: , -4:]: \", arr[-1:, -4:])\n",
    "print(\"\\narr[ -1:-4 , -4:-1]: \", arr[-1:-4, -4:-1])\n",
    "print(\"\\narr[ 2:3 , 3:4]: \", arr[2:3, 3:4])"
   ]
  },
  {
   "cell_type": "code",
   "execution_count": 1,
   "metadata": {},
   "outputs": [
    {
     "name": "stdout",
     "output_type": "stream",
     "text": [
      "[('Rahul', 1, 10000, 'IT', '10-10-1990', 'B+ve', 1234567890)\n",
      " ('Raj', 2, 20000, 'IT', '10-10-1991', 'B+ve', 1234567890)\n",
      " ('Rohan', 3, 30000, 'IT', '10-10-1992', 'B+ve', 1234567890)\n",
      " ('Ramesh', 4, 40000, 'IT', '10-10-1993', 'B+ve', 1234567890)\n",
      " ('Rakesh', 5, 50000, 'IT', '10-10-1994', 'B+ve', 1234567890)]\n"
     ]
    }
   ],
   "source": [
    "# Write a program to create a database for an employee with the following details:\n",
    "# Employee name\n",
    "# Employee ID\n",
    "# Employee salary\n",
    "# Employee department\n",
    "# DOB\n",
    "# Blood Group\n",
    "# Phone number\n",
    "\n",
    "# Use numpy dtype for the code\n",
    "\n",
    "import numpy as np\n",
    "\n",
    "emp = np.dtype(\n",
    "    [\n",
    "        (\"name\", \"U20\"),\n",
    "        (\"id\", \"I\"),\n",
    "        (\"salary\", \"I\"),\n",
    "        (\"dept\", \"U20\"),\n",
    "        (\"dob\", \"U20\"),\n",
    "        (\"blood\", \"U20\"),\n",
    "        (\"phone\", \"I\"),\n",
    "    ]\n",
    ")\n",
    "\n",
    "emp_details = np.array(\n",
    "    [\n",
    "        (\"Rahul\", 1, 10000, \"IT\", \"10-10-1990\", \"B+ve\", 1234567890),\n",
    "        (\"Raj\", 2, 20000, \"IT\", \"10-10-1991\", \"B+ve\", 1234567890),\n",
    "        (\"Rohan\", 3, 30000, \"IT\", \"10-10-1992\", \"B+ve\", 1234567890),\n",
    "        (\"Ramesh\", 4, 40000, \"IT\", \"10-10-1993\", \"B+ve\", 1234567890),\n",
    "        (\"Rakesh\", 5, 50000, \"IT\", \"10-10-1994\", \"B+ve\", 1234567890),\n",
    "    ],\n",
    "    dtype=emp,\n",
    ")\n",
    "\n",
    "print(emp_details)"
   ]
  }
 ],
 "metadata": {
  "kernelspec": {
   "display_name": "Python 3",
   "language": "python",
   "name": "python3"
  },
  "language_info": {
   "codemirror_mode": {
    "name": "ipython",
    "version": 3
   },
   "file_extension": ".py",
   "mimetype": "text/x-python",
   "name": "python",
   "nbconvert_exporter": "python",
   "pygments_lexer": "ipython3",
   "version": "3.11.5"
  },
  "orig_nbformat": 4
 },
 "nbformat": 4,
 "nbformat_minor": 2
}
