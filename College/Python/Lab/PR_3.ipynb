{
 "cells": [
  {
   "cell_type": "markdown",
   "metadata": {},
   "source": [
    "# Decision Control Statements: If, Elif, Else"
   ]
  },
  {
   "cell_type": "markdown",
   "metadata": {},
   "source": [
    "### Syntax:\n",
    "\n",
    "```python\n",
    "if condition:\n",
    "    # code\n",
    "elif condition 2:\n",
    "    # code\n",
    "elif condition 3:\n",
    "    # code\n",
    "else:\n",
    "    # code\n",
    "```\n",
    "\n",
    "\n",
    "### If\n",
    "If the condition is true, then the code inside the if block will be executed.\n",
    "\n",
    "### Elif\n",
    "If the above condition is false and current condition is true, then the code inside the elif block will be executed.\n",
    "\n",
    "### Else\n",
    "If all the above conditions are false, then the code inside the else block will be executed.\n"
   ]
  },
  {
   "cell_type": "markdown",
   "metadata": {},
   "source": [
    "##### 1. Write a program to find out if a person is eligible to vote or not. If he is not eligible, then print the number of years left to be eligible."
   ]
  },
  {
   "cell_type": "code",
   "execution_count": 6,
   "metadata": {},
   "outputs": [
    {
     "name": "stdout",
     "output_type": "stream",
     "text": [
      "Your age is 15. You are not eligible to vote. The number of years you must wait is 3 Years.\n"
     ]
    }
   ],
   "source": [
    "Age = int(input(\"Enter your age: \"))\n",
    "if Age >= 18:\n",
    "    print(f\"Your age is {Age}. You are eligible to vote\")\n",
    "else:\n",
    "    print(f\"Your age is {Age}. You are not eligible to vote. The number of years you must wait is {18-Age} Years.\")"
   ]
  },
  {
   "cell_type": "markdown",
   "metadata": {},
   "source": [
    "##### 2. Write a program to find wethere the number is even or odd."
   ]
  },
  {
   "cell_type": "code",
   "execution_count": 10,
   "metadata": {},
   "outputs": [
    {
     "name": "stdout",
     "output_type": "stream",
     "text": [
      "The number 40 is even\n"
     ]
    }
   ],
   "source": [
    "num = int(input(\"Enter a number: \"))\n",
    "\n",
    "if num % 2 == 0:\n",
    "    print(f\"The number {num} is even\")\n",
    "else:\n",
    "    print(f\"The number {num} is odd\")"
   ]
  },
  {
   "cell_type": "markdown",
   "metadata": {},
   "source": [
    "##### 3. Write a program to find wethere the given number is prime or not."
   ]
  },
  {
   "cell_type": "code",
   "execution_count": 21,
   "metadata": {},
   "outputs": [
    {
     "name": "stdout",
     "output_type": "stream",
     "text": [
      "The number 1278367 is not a prime number\n"
     ]
    }
   ],
   "source": [
    "from math import sqrt\n",
    "\n",
    "\n",
    "pr = int(input(\"Enter a number: \"))\n",
    "\n",
    "if pr > 1:\n",
    "    for i in range(2, int(sqrt(pr) + 1)):\n",
    "        if pr % i == 0:\n",
    "            print(f\"The number {pr} is not a prime number\")\n",
    "            break\n",
    "    else:\n",
    "        print(f\"The number {pr} is a prime number\")"
   ]
  },
  {
   "cell_type": "markdown",
   "metadata": {},
   "source": [
    "##### 4. Write a program to enter any character. If the character is lowercase, convert it to uppercase. If the character is uppercase, convert it to lowercase."
   ]
  },
  {
   "cell_type": "code",
   "execution_count": 13,
   "metadata": {},
   "outputs": [
    {
     "name": "stdout",
     "output_type": "stream",
     "text": [
      "The character D is in upper case. It's lower case is d\n"
     ]
    }
   ],
   "source": [
    "ch = input(\"Enter any character: \")\n",
    "\n",
    "if ch.islower():\n",
    "    print(f\"The character {ch} is in lower case. It's upper case is {ch.upper()}\")\n",
    "elif ch.isupper():\n",
    "    print(f\"The character {ch} is in upper case. It's lower case is {ch.lower()}\")\n",
    "else:\n",
    "    print(\"Invalid character\")"
   ]
  },
  {
   "cell_type": "markdown",
   "metadata": {},
   "source": [
    "##### 5. Write a program to find if the given year is leap year or not."
   ]
  },
  {
   "cell_type": "code",
   "execution_count": 26,
   "metadata": {},
   "outputs": [
    {
     "name": "stdout",
     "output_type": "stream",
     "text": [
      "The year 1900 is not a leap year\n"
     ]
    }
   ],
   "source": [
    "year = int(input(\"Enter a year: \"))\n",
    "\n",
    "if year % 4 == 0:\n",
    "    if year % 100 == 0:\n",
    "        if year % 400 == 0:\n",
    "            print(f\"The year {year} is a leap year\")\n",
    "        else:\n",
    "            print(f\"The year {year} is not a leap year\")\n",
    "    else:\n",
    "        print(f\"The year {year} is a leap year\")\n",
    "else:\n",
    "    print(f\"The year {year} is not a leap year\")"
   ]
  },
  {
   "cell_type": "markdown",
   "metadata": {},
   "source": [
    "##### 6. Write a program to test wether the number enetered nregatve, positive or equal to zero."
   ]
  },
  {
   "cell_type": "code",
   "execution_count": 15,
   "metadata": {},
   "outputs": [
    {
     "name": "stdout",
     "output_type": "stream",
     "text": [
      "The number 0 is zero\n"
     ]
    }
   ],
   "source": [
    "inp = int(input(\"Enter a number: \"))\n",
    "\n",
    "if inp > 0:\n",
    "    print(f\"The number {inp} is positive\")\n",
    "elif inp < 0:\n",
    "    print(f\"The number {inp} is negative\")\n",
    "else:\n",
    "    print(f\"The number {inp} is zero\")\n"
   ]
  },
  {
   "cell_type": "markdown",
   "metadata": {},
   "source": [
    "##### 7. Write a program to find greatest number out of three numbers."
   ]
  },
  {
   "cell_type": "code",
   "execution_count": 17,
   "metadata": {},
   "outputs": [
    {
     "name": "stdout",
     "output_type": "stream",
     "text": [
      "The numbers are 349, -12399 and 12\n",
      "The number 349 is the largest\n"
     ]
    }
   ],
   "source": [
    "a, b, c = map(int, input(\"Enter three numbers: \").split())\n",
    "print(f\"The numbers are {a}, {b} and {c}\")\n",
    "if a > b:\n",
    "    if a > c:\n",
    "        print(f\"The number {a} is the largest\")\n",
    "    else:\n",
    "        print(f\"The number {c} is the largest\")\n",
    "else:\n",
    "    if b > c:\n",
    "        print(f\"The number {b} is the largest\")\n",
    "    else:\n",
    "        print(f\"The number {c} is the largest\")\n",
    "\n"
   ]
  },
  {
   "cell_type": "markdown",
   "metadata": {},
   "source": [
    "##### 8. Write a program to determine if the character entered is vowel or not."
   ]
  },
  {
   "cell_type": "code",
   "execution_count": 31,
   "metadata": {},
   "outputs": [
    {
     "name": "stdout",
     "output_type": "stream",
     "text": [
      "The character d is a consonant\n"
     ]
    }
   ],
   "source": [
    "ch = input(\"Enter any character: \")\n",
    "ch1 = ch.lower()\n",
    "if ch1 == 'a' or ch1 == 'e' or ch1 == 'i' or ch1 == 'o' or ch1 == 'u':\n",
    "    print(f\"The character {ch} is a vowel\")\n",
    "else:\n",
    "    print(f\"The character {ch} is a consonant\")"
   ]
  },
  {
   "cell_type": "markdown",
   "metadata": {},
   "source": [
    "##### 9. Write a program to calculate electricity bill.\n",
    "\n",
    "Table:\n",
    "\n",
    "| Units | Rate/Unit | Extra |\n",
    "| --- | --- | --- |\n",
    "| 0-150 | 3/- | 0/- |\n",
    "| 151-300 | 3.75/- | 100/- above 150 |\n",
    "| 301-450 | 4/- | 250/- above 300 |\n",
    "| 451-600 | 4.25/- | 300/- above 450 |\n",
    "| 600+ | 5/- | 400/- above 600|"
   ]
  },
  {
   "cell_type": "code",
   "execution_count": 37,
   "metadata": {},
   "outputs": [
    {
     "name": "stdout",
     "output_type": "stream",
     "text": [
      "The units is 601. Extra charge of 400/- is applicable\n",
      "The total bill for 601 units is 2655.0/-\n"
     ]
    }
   ],
   "source": [
    "unit = int(input(\"Enter the units: \"))\n",
    "unit150 = unit * 3\n",
    "unit300 = 150 * 3 + (unit-150) * 3.75 + 100\n",
    "unit450 = 150 * 3 + 150 * 3.75 + (unit-300) * 4 + 250\n",
    "unit600 = 150 * 3 + 150 * 3.75 + 150 * 4 + (unit-450) * 4.25 + 300\n",
    "unit600plus = 150 * 3 + 150 * 3.75 + 150 * 4 + 150 * 4.25 + (unit-600) * 5 + 400\n",
    "if isinstance(unit, int):\n",
    "    if unit > 0:\n",
    "        \n",
    "        if unit <= 150:\n",
    "            print(f\"The units is {unit}. No extra charge is applicable\")\n",
    "            print(f\"The total bill for {unit} units is {unit150}/-\")\n",
    "            \n",
    "        elif unit <= 300:\n",
    "            print(f\"The units is {unit}. Extra charge of 100/- is applicable\")\n",
    "            print(f\"The total bill for {unit} units is {unit300}/-\")\n",
    "            \n",
    "        elif unit <= 450:\n",
    "            print(f\"The units is {unit}. Extra charge of 250/- is applicable\")\n",
    "            print(f\"The total bill for {unit} units is {unit450}/-\")\n",
    "            \n",
    "        elif unit <= 600:\n",
    "            print(f\"The units is {unit}. Extra charge of 300/- is applicable\")\n",
    "            print(f\"The total bill for {unit} units is {unit600}/-\")\n",
    "            \n",
    "        else:\n",
    "            print(f\"The units is {unit}. Extra charge of 400/- is applicable\")\n",
    "            print(f\"The total bill for {unit} units is {unit600plus}/-\")\n",
    "    \n",
    "    else:\n",
    "        print(\"Negative input\")\n",
    "    \n",
    "else:\n",
    "    print(\"Invalid input\")"
   ]
  }
 ],
 "metadata": {
  "kernelspec": {
   "display_name": "Python 3",
   "language": "python",
   "name": "python3"
  },
  "language_info": {
   "codemirror_mode": {
    "name": "ipython",
    "version": 3
   },
   "file_extension": ".py",
   "mimetype": "text/x-python",
   "name": "python",
   "nbconvert_exporter": "python",
   "pygments_lexer": "ipython3",
   "version": "3.11.5"
  },
  "orig_nbformat": 4
 },
 "nbformat": 4,
 "nbformat_minor": 2
}
