{
 "cells": [
  {
   "cell_type": "markdown",
   "metadata": {},
   "source": [
    "# Functions\n",
    "\n",
    "# Python Functions\n",
    "\n",
    "A Python function is a block of statements designed to perform a specific task. The idea behind functions is to group commonly or repeatedly executed tasks together, creating a function. This way, instead of duplicating code for different inputs, we can simply call the function to reuse the code contained within it.\n",
    "\n",
    "## Benefits of Using Functions\n",
    "\n",
    "Using functions in Python offers several advantages:\n",
    "\n",
    "- **Increase Code Readability:** Functions make code more readable by breaking it into smaller, logical parts.\n",
    "- **Increase Code Reusability:** Code contained within functions can be easily reused throughout your program.\n",
    "\n",
    "## Python Function Declaration\n",
    "\n",
    "The syntax for declaring a function in Python is straightforward:\n",
    "\n",
    "```python\n",
    "def function_name(parameters):\n",
    "    # Function code goes here\n",
    "```\n",
    "\n",
    "## Types of Functions in Python\n",
    "\n",
    "In Python, there are primarily two types of functions:\n",
    "\n",
    "1. **Built-in Library Functions:** These are standard functions in Python that are provided as part of the Python language and are readily available for use. Examples of built-in functions include `print()`, `len()`, and `input()`.\n",
    "\n",
    "2. **User-Defined Functions:** User-defined functions are functions that we can create ourselves based on our specific programming requirements. These functions allow us to define custom logic and encapsulate a set of instructions for reuse in our programs.\n"
   ]
  },
  {
   "cell_type": "code",
   "execution_count": 4,
   "metadata": {},
   "outputs": [
    {
     "name": "stdout",
     "output_type": "stream",
     "text": [
      "200.0\n"
     ]
    }
   ],
   "source": [
    "# 1. WAP that takes 2 numbers as inputs from the user, it also displays a menu of operations that the user is allowed to perform. Prompt the user to enter the desired option and then apply the operation on the numbers.\n",
    "\n",
    "import string\n",
    "def operation(a: float, b: float, opr: string):\n",
    "    if opr =='+':\n",
    "        return a+b\n",
    "    elif opr =='-':\n",
    "        return a-b\n",
    "    elif opr =='*':\n",
    "        return a*b\n",
    "    elif opr =='/':\n",
    "        return a/b\n",
    "    elif opr =='%':\n",
    "        return a%b\n",
    "    elif opr =='**':\n",
    "        return a**b\n",
    "    elif opr =='//':\n",
    "        return a//b\n",
    "    else:\n",
    "        return 'Invalid Operation'\n",
    "\n",
    "a = float(input('Enter first number: '))\n",
    "b = float(input('Enter second number: '))\n",
    "\n",
    "opr = input(\"Please enter + for addition\\nPlease enter - for subtraction\\nPlease enter * for multiplication\\nPlease enter / for division\\nPlease enter % for modulus\\nPlease enter ** for exponentiation\\nPlease enter // for integer division\\nPlease enter your character: \")\n",
    "print(operation(a, b, opr))"
   ]
  },
  {
   "cell_type": "markdown",
   "metadata": {},
   "source": [
    "## Lambda Function:\n",
    "\n",
    "A lambda function is a small anonymous function. \n",
    "It is an anonymous function because it does not have a name. \n",
    "It is defined using the lambda keyword, as opposed to the def keyword used for regular functions. \n",
    "It takes any number of arguments, but can only have one expression. \n",
    "It can be used to create a function object and assign it to a variable.\n",
    "\n",
    "### Syntax:\n",
    "\n",
    "lambda arguments : expression\n",
    "\n",
    "### Example:\n",
    "\n",
    "x = lambda a : a + 10\n",
    "print(x(5))\n",
    "\n",
    "### Output:\n",
    "\n",
    "15\n"
   ]
  },
  {
   "cell_type": "code",
   "execution_count": 5,
   "metadata": {},
   "outputs": [
    {
     "name": "stdout",
     "output_type": "stream",
     "text": [
      "30.0\n",
      "-10.0\n",
      "0.5\n",
      "200.0\n",
      "10.0\n"
     ]
    }
   ],
   "source": [
    "# perform sum, sub, div, mult, mod from lambda function\n",
    "\n",
    "sum = lambda a, b: a+b\n",
    "sub = lambda a, b: a-b\n",
    "div = lambda a, b: a/b\n",
    "mult = lambda a, b: a*b\n",
    "mod = lambda a, b: a%b\n",
    "\n",
    "print(sum(a, b))\n",
    "print(sub(a, b))\n",
    "print(div(a, b))\n",
    "print(mult(a, b))\n",
    "print(mod(a, b))"
   ]
  },
  {
   "cell_type": "code",
   "execution_count": 6,
   "metadata": {},
   "outputs": [
    {
     "name": "stdout",
     "output_type": "stream",
     "text": [
      "50000.0\n"
     ]
    }
   ],
   "source": [
    "# WAP to calculate simple interest- Supose a person is a senior citizen his r.o.i is 12% and rest all 10%\n",
    "\n",
    "def simple_interest(p: float, r: float, t: float):\n",
    "    return (p*r*t)/100\n",
    "\n",
    "p = float(input('Enter principal amount: '))\n",
    "t = float(input('Enter time: '))\n",
    "age = int(input('Enter age: '))\n",
    "if age >= 60:\n",
    "    r = 12\n",
    "else:\n",
    "    r = 10\n",
    "print(simple_interest(p, r, t))\n"
   ]
  }
 ],
 "metadata": {
  "kernelspec": {
   "display_name": "Python 3",
   "language": "python",
   "name": "python3"
  },
  "language_info": {
   "codemirror_mode": {
    "name": "ipython",
    "version": 3
   },
   "file_extension": ".py",
   "mimetype": "text/x-python",
   "name": "python",
   "nbconvert_exporter": "python",
   "pygments_lexer": "ipython3",
   "version": "3.11.5"
  },
  "orig_nbformat": 4
 },
 "nbformat": 4,
 "nbformat_minor": 2
}
