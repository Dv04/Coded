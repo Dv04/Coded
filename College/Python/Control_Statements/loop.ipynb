{
 "cells": [
  {
   "cell_type": "markdown",
   "metadata": {},
   "source": [
    "# Loop Statements"
   ]
  },
  {
   "cell_type": "markdown",
   "metadata": {},
   "source": [
    "### While Syntax:\n",
    "\n",
    "sattements x\n",
    "while ( condition ):\n",
    "    statement block\n",
    "statement y\n",
    "\n",
    "### While definition:\n",
    "\n",
    "After x statements are run, the code checks the while condition. if the condition is true, it goes inside the loop and stays there until the condition is false. after that the y statements are executed.\n",
    "\n",
    "### Disadvantages:\n",
    "\n",
    "- If the condition is always true, the loop will never end. So be sure to end loop ending condition."
   ]
  },
  {
   "cell_type": "code",
   "execution_count": 3,
   "metadata": {},
   "outputs": [
    {
     "name": "stdout",
     "output_type": "stream",
     "text": [
      "1 2 3 4 5 6 7 8 9 10 "
     ]
    }
   ],
   "source": [
    "# WAP to print first 10 numbers\n",
    "\n",
    "i = 1\n",
    "while(i<11):\n",
    "    print(i, sep=\" \", end=\" \")\n",
    "    i = i+1"
   ]
  },
  {
   "cell_type": "code",
   "execution_count": 2,
   "metadata": {},
   "outputs": [
    {
     "name": "stdout",
     "output_type": "stream",
     "text": [
      "Sum of first 10 numbers is:  55\n",
      "Average of first 10 numbers is:  5.5\n"
     ]
    }
   ],
   "source": [
    "# WAP sum and average of first 10 numbers.\n",
    "\n",
    "i = 1\n",
    "sum, avg = 0,0\n",
    "while i<11:\n",
    "    sum+=i\n",
    "    avg+=i\n",
    "    i = i+1\n",
    "print(\"Sum of first 10 numbers is: \",sum)\n",
    "print(\"Average of first 10 numbers is: \",avg/10)"
   ]
  },
  {
   "cell_type": "markdown",
   "metadata": {},
   "source": [
    "For Loop\n",
    "\n",
    "range(a, b, step) : Start a n iteration from a to b with taking every step'th integer\n",
    "\n",
    "examples:   \n",
    "\n",
    "    range (0,6) = from 0 to 5\n",
    "    range (6) = from 0 to 5\n",
    "    range (0, 6, 2) = from 0 to 5 with every 2nd integer\n",
    "\n",
    "\n",
    "For Syntax:\n",
    "\n",
    "for variable in iterable:\n",
    "    statement block\n",
    "\n",
    "Explaination:\n",
    "\n",
    "- The for loop iterates over the iterable object.\n",
    "- The variable takes the value of the next element in the iterable object in each iteration.\n",
    "- The loop ends when the iterable object is exhausted.\n",
    "- The iterable object can be a list, tuple, dictionary, set, string, or range object.\n",
    "  \n",
    "Example:\n",
    "\n",
    "for i in range(5):\n",
    "    print(i)\n",
    "\n"
   ]
  },
  {
   "cell_type": "code",
   "execution_count": 1,
   "metadata": {},
   "outputs": [
    {
     "name": "stdout",
     "output_type": "stream",
     "text": [
      "This is a for loop example.\n",
      "The current iteration is  0\n",
      "The current iteration is  1\n",
      "The current iteration is  2\n",
      "The current iteration is  3\n",
      "The current iteration is  4\n",
      "The current iteration is  5\n"
     ]
    }
   ],
   "source": [
    "print(\"This is a for loop example.\")\n",
    "for i in range(0,6):\n",
    "    print(\"The current iteration is \",i)"
   ]
  },
  {
   "cell_type": "code",
   "execution_count": 25,
   "metadata": {},
   "outputs": [
    {
     "name": "stdout",
     "output_type": "stream",
     "text": [
      "The factorial of the number is:  2424858401169875856987549316530261243529336396354700842715749979460646110058233651782392648030625575890603295838549136086203631494904372698578181999057212055535785846413969420066573092861481554378165635499319577948946469878800693106187103360224139995239288292467274991657581799887960732860730465294056429604010675825650845592134295845654185424392132561718318353026455262912039002664120813132000602020151818744862796534620281615341820385425346251471878908201301227337883132211649086124629581129201309548248991126780745470297556208250525153383428851713805456555419758707284753260768805845944423382917543868035509410367649517977378961396490420583560768554085728596839435423979501005167390976056828737759722931049053051870481354220566751757226315251920734049093559363656820097662644345104685665152444697669009659982518091310671058073959926600845011866653850725006741331610135998770449096045426206531544154144601729043078225608136613193686346346764203375001081246967670378990121777385901921245133042374777487279240176076181929206652760242551593468206588418766183401939736514661022447416367789422605988204789848476655904174023752533626768590363300938231129606313365312387913130971900390208938471907315110717317435321123464794906710193916413838207147074458529525935478113361841325520841044346267628381902449941524896332350384902526765982148700924154884023605222691782597459599121027544229955922681404443327840648118042191399221650956164672857148227101451532445295161873221075926687151309815858723796054292521542311108190618276056103071140889723197707702368244847779594197140241112042128900654662720100758519336991189420021569389659862373674109453168227154296233208845394442627758282640964050502230911632608683569869755423400072413157317525410032842653580093887735517690412593258359388487289802270353135756659547954667344672901471048389223259683469006995762263469036620522300662493285722212048473141061111827211648276284983691538501299996459350066613212712170474963890532178735800245974574640904674554123815017979113627519922145830691096868313633320304359164703825903963661604335411773033078697699311892617463175229334854531701631075383899708905233041291527887059381689504636267968336033244928031019352467588242769652345533099117594059102256248189810284600657855707971881794779733938869280438373216606816889288287015049782284899585369920877745590840887712363661997881545433844629800189205229597440143179700162824702134957418586285920953284900382720017357876988767296282790084172114532622647998154080918863914038958583660595208167281479883677535909771428614756103440615905873310606657147769597200148222567970379939256596381142850272187439045199365546037482887333248526026065549397730475314476322168067523034600032867511743419691437003992038152628324659432676263448764134014429405489180634364519282138519962363193701386950109467042340571843977537752976341094127822030600936793871334872293490903117072170466054983434825167266916722980296391441044563178977701723309785609111259614474247364528550386532388327264689711775604664427340228901835597557029992960492192464058200400988909295153551200837397817601282679220611104173652358509007521101053095620748168997861050130023817703319787079095235833374426177514286578246903083415169109359323812741314724620593271262917265094024216337214863533448529254632599541703878619604512594846124252613960262726215219134672211844311020666195270036284140614857902974771290503656870984782590335117218368984797972576852801418834170795097602013208317371156612874344638041764532057542786831351076365498540443813006372421380736034740771076764178132559828434447544678633583005046265334346831012385703067191550416222980088761154519553974935287498676582754658553261232252765802371799256016444945115393409561160793126126735836975302341046431089640850574341354122545220831810806852068691732327187184240511538962440151159519314143893886850233861037997459199145386272154940965985357257552760909210073432064000000000000000000000000000000000000000000000000000000000000000000000000000000000000000000000000000000000000000000000000000000000000000000000000000000000000000000000000000000000000000000000000000000000000000000000000000000000000000000000000000000000000000000000000000000000000000000000000000000000000000000000000000000000000000000000000000000000000000000000000000000000000000000000000000\n"
     ]
    }
   ],
   "source": [
    "#WAP using for loop to calculate factorial\n",
    "\n",
    "a = int(input(\"Enter a number: \"))\n",
    "for i in range(1,a):\n",
    "    a = a*i\n",
    "print(\"The factorial of the number is: \",a)"
   ]
  },
  {
   "cell_type": "code",
   "execution_count": 37,
   "metadata": {},
   "outputs": [
    {
     "name": "stdout",
     "output_type": "stream",
     "text": [
      "The number is composite.\n"
     ]
    }
   ],
   "source": [
    "#WAP to find if a number is prime or composite\n",
    "import math\n",
    "a = int(input(\"Enter a number: \"))\n",
    "check = 0\n",
    "\n",
    "for i in range(1,int(math.sqrt(a))):\n",
    "    if a%i==0:\n",
    "        check = 1\n",
    "        print(\"The number is composite.\")\n",
    "        break\n",
    "if check==0:\n",
    "    print(\"The number is prime.\")"
   ]
  },
  {
   "cell_type": "code",
   "execution_count": 39,
   "metadata": {},
   "outputs": [
    {
     "name": "stdout",
     "output_type": "stream",
     "text": [
      "The next leap year is: 1904\n",
      "The next leap year is: 1908\n",
      "The next leap year is: 1912\n",
      "The next leap year is: 1916\n",
      "The next leap year is: 1920\n",
      "The next leap year is: 1924\n",
      "The next leap year is: 1928\n",
      "The next leap year is: 1932\n",
      "The next leap year is: 1936\n",
      "The next leap year is: 1940\n",
      "The next leap year is: 1944\n",
      "The next leap year is: 1948\n",
      "The next leap year is: 1952\n",
      "The next leap year is: 1956\n",
      "The next leap year is: 1960\n",
      "The next leap year is: 1964\n",
      "The next leap year is: 1968\n",
      "The next leap year is: 1972\n",
      "The next leap year is: 1976\n",
      "The next leap year is: 1980\n",
      "The next leap year is: 1984\n",
      "The next leap year is: 1988\n",
      "The next leap year is: 1992\n",
      "The next leap year is: 1996\n",
      "The next leap year is: 2000\n",
      "The next leap year is: 2004\n",
      "The next leap year is: 2008\n",
      "The next leap year is: 2012\n",
      "The next leap year is: 2016\n",
      "The next leap year is: 2020\n",
      "The next leap year is: 2024\n",
      "The next leap year is: 2028\n",
      "The next leap year is: 2032\n",
      "The next leap year is: 2036\n",
      "The next leap year is: 2040\n",
      "The next leap year is: 2044\n",
      "The next leap year is: 2048\n",
      "The next leap year is: 2052\n",
      "The next leap year is: 2056\n",
      "The next leap year is: 2060\n",
      "The next leap year is: 2064\n",
      "The next leap year is: 2068\n",
      "The next leap year is: 2072\n",
      "The next leap year is: 2076\n",
      "The next leap year is: 2080\n",
      "The next leap year is: 2084\n",
      "The next leap year is: 2088\n",
      "The next leap year is: 2092\n",
      "The next leap year is: 2096\n"
     ]
    }
   ],
   "source": [
    "#WAP to find leap years between 1900 and 2101\n",
    "\n",
    "for i in range(1900,2101):\n",
    "    if (i%4==0 and i%100!=0) or i%400==0:\n",
    "        print(\"The next leap year is:\",i)"
   ]
  },
  {
   "cell_type": "code",
   "execution_count": 40,
   "metadata": {},
   "outputs": [
    {
     "name": "stdout",
     "output_type": "stream",
     "text": [
      "0\n",
      "1\n",
      "2\n",
      "3\n"
     ]
    }
   ],
   "source": [
    "for i in range(10):\n",
    "    print(i)\n",
    "    if i==3:\n",
    "        break"
   ]
  },
  {
   "cell_type": "code",
   "execution_count": 41,
   "metadata": {},
   "outputs": [
    {
     "name": "stdout",
     "output_type": "stream",
     "text": [
      "A\n",
      "d\n",
      "a\n",
      "n\n",
      "i\n"
     ]
    }
   ],
   "source": [
    "a = \"Adani University\"\n",
    "for i in a:\n",
    "    print(i)\n",
    "    if i=='i':\n",
    "        break"
   ]
  },
  {
   "cell_type": "code",
   "execution_count": 44,
   "metadata": {},
   "outputs": [
    {
     "name": "stdout",
     "output_type": "stream",
     "text": [
      "1 2 3 4 6 7 8 9 10 \n",
      "Done\n"
     ]
    }
   ],
   "source": [
    "for i in range(1,11):\n",
    "    if i==5:\n",
    "        continue\n",
    "    print(i,end = \" \")\n",
    "print(\"\\nDone\")"
   ]
  }
 ],
 "metadata": {
  "kernelspec": {
   "display_name": "Python 3",
   "language": "python",
   "name": "python3"
  },
  "language_info": {
   "codemirror_mode": {
    "name": "ipython",
    "version": 3
   },
   "file_extension": ".py",
   "mimetype": "text/x-python",
   "name": "python",
   "nbconvert_exporter": "python",
   "pygments_lexer": "ipython3",
   "version": "3.11.5"
  },
  "orig_nbformat": 4
 },
 "nbformat": 4,
 "nbformat_minor": 2
}
