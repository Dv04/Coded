{
 "cells": [
  {
   "cell_type": "code",
   "execution_count": 1,
   "metadata": {},
   "outputs": [
    {
     "name": "stdout",
     "output_type": "stream",
     "text": [
      "Best Hyperparameters:  {'C': 1, 'gamma': 0.1, 'kernel': 'rbf'}\n",
      "Accuracy with Best Hyperparameters: 100.00%\n"
     ]
    }
   ],
   "source": [
    "# import all packages:\n",
    "\n",
    "from sklearn.model_selection import GridSearchCV\n",
    "from sklearn.metrics import accuracy_score\n",
    "from sklearn.svm import SVC\n",
    "from sklearn import datasets\n",
    "from sklearn.model_selection import train_test_split\n",
    "from sklearn.preprocessing import StandardScaler # for scalling the inputs\n",
    "\n",
    "#Load the Iris dataset and split it into training and testing sets:\n",
    "\n",
    "iris = datasets.load_iris()\n",
    "X = iris.data\n",
    "y = iris.target\n",
    "\n",
    "X_train, X_test, y_train, y_test = train_test_split(X, y, test_size=0.3, random_state=42)\n",
    "\n",
    "scaler = StandardScaler()\n",
    "X_train = scaler.fit_transform(X_train)\n",
    "X_test = scaler.transform(X_test)\n",
    "\n",
    "#Define the hyperparameters and their possible values for the Grid Search:\n",
    "\n",
    "param_grid = {\n",
    "    'C': [0.1, 1, 10, 100],  # Regularization parameter\n",
    "    'kernel': ['linear', 'rbf'],  # Kernel type\n",
    "    'gamma': [0.1, 1, 10]  # Kernel coefficient (only for 'rbf' kernel)\n",
    "}\n",
    "\n",
    "# load SVM\n",
    "svm = SVC(random_state=42)\n",
    "\n",
    "#Perform Grid Search with cross-validation:\n",
    "\n",
    "grid_search = GridSearchCV(estimator=svm, param_grid=param_grid, cv=5)\n",
    "grid_search.fit(X_train, y_train)\n",
    "\n",
    "# Print the best hyperparameters found by Grid Search:\n",
    "print(\"Best Hyperparameters: \", grid_search.best_params_)\n",
    "# make predictions:\n",
    "best_svm = grid_search.best_estimator_\n",
    "predictions = best_svm.predict(X_test)\n",
    "accuracy = accuracy_score(y_test, predictions)\n",
    "print(\"Accuracy with Best Hyperparameters: {:.2f}%\".format(accuracy * 100))\n"
   ]
  },
  {
   "cell_type": "markdown",
   "metadata": {},
   "source": [
    "Note: this example, param_grid defines the hyperparameters and their possible values. Grid Search (GridSearchCV) is used to find the best combination of hyperparameters using 5-fold cross-validation. The best hyperparameters are printed, and the accuracy of the model using the best hyperparameters is calculated and displayed. You can adjust the param_grid dictionary to include other hyperparameters or change the possible values based on your specific problem and dataset"
   ]
  }
 ],
 "metadata": {
  "kernelspec": {
   "display_name": "Python 3",
   "language": "python",
   "name": "python3"
  },
  "language_info": {
   "codemirror_mode": {
    "name": "ipython",
    "version": 3
   },
   "file_extension": ".py",
   "mimetype": "text/x-python",
   "name": "python",
   "nbconvert_exporter": "python",
   "pygments_lexer": "ipython3",
   "version": "3.11.5"
  }
 },
 "nbformat": 4,
 "nbformat_minor": 4
}
